{
  "nbformat": 4,
  "nbformat_minor": 0,
  "metadata": {
    "colab": {
      "provenance": [],
      "authorship_tag": "ABX9TyNNoy1HJDwL5r4IerKXnOCw",
      "include_colab_link": true
    },
    "kernelspec": {
      "name": "python3",
      "display_name": "Python 3"
    },
    "language_info": {
      "name": "python"
    },
    "widgets": {
      "application/vnd.jupyter.widget-state+json": {
        "b273e846a84d489294d8cdda7eb13fe0": {
          "model_module": "@jupyter-widgets/controls",
          "model_name": "HBoxModel",
          "model_module_version": "1.5.0",
          "state": {
            "_dom_classes": [],
            "_model_module": "@jupyter-widgets/controls",
            "_model_module_version": "1.5.0",
            "_model_name": "HBoxModel",
            "_view_count": null,
            "_view_module": "@jupyter-widgets/controls",
            "_view_module_version": "1.5.0",
            "_view_name": "HBoxView",
            "box_style": "",
            "children": [
              "IPY_MODEL_1383695c4a1a4c4e98fba06f3f2eef97",
              "IPY_MODEL_aad55434561141ce92d0b0a7d6508726",
              "IPY_MODEL_d6be7f69340f4d8b8209bc17bc7ac452"
            ],
            "layout": "IPY_MODEL_81c4d7e2e5b44dc0b4dffef044eb465e"
          }
        },
        "1383695c4a1a4c4e98fba06f3f2eef97": {
          "model_module": "@jupyter-widgets/controls",
          "model_name": "HTMLModel",
          "model_module_version": "1.5.0",
          "state": {
            "_dom_classes": [],
            "_model_module": "@jupyter-widgets/controls",
            "_model_module_version": "1.5.0",
            "_model_name": "HTMLModel",
            "_view_count": null,
            "_view_module": "@jupyter-widgets/controls",
            "_view_module_version": "1.5.0",
            "_view_name": "HTMLView",
            "description": "",
            "description_tooltip": null,
            "layout": "IPY_MODEL_16fc54303f58495b8fc3cb366dc8ba17",
            "placeholder": "​",
            "style": "IPY_MODEL_f5b09bcf5aed46a6875ae1f8812387ea",
            "value": "Batches: 100%"
          }
        },
        "aad55434561141ce92d0b0a7d6508726": {
          "model_module": "@jupyter-widgets/controls",
          "model_name": "FloatProgressModel",
          "model_module_version": "1.5.0",
          "state": {
            "_dom_classes": [],
            "_model_module": "@jupyter-widgets/controls",
            "_model_module_version": "1.5.0",
            "_model_name": "FloatProgressModel",
            "_view_count": null,
            "_view_module": "@jupyter-widgets/controls",
            "_view_module_version": "1.5.0",
            "_view_name": "ProgressView",
            "bar_style": "success",
            "description": "",
            "description_tooltip": null,
            "layout": "IPY_MODEL_4de35e1e56414c53a14ef703c46da17d",
            "max": 2,
            "min": 0,
            "orientation": "horizontal",
            "style": "IPY_MODEL_a0a30a3554724189b354c7a16c2fc86b",
            "value": 2
          }
        },
        "d6be7f69340f4d8b8209bc17bc7ac452": {
          "model_module": "@jupyter-widgets/controls",
          "model_name": "HTMLModel",
          "model_module_version": "1.5.0",
          "state": {
            "_dom_classes": [],
            "_model_module": "@jupyter-widgets/controls",
            "_model_module_version": "1.5.0",
            "_model_name": "HTMLModel",
            "_view_count": null,
            "_view_module": "@jupyter-widgets/controls",
            "_view_module_version": "1.5.0",
            "_view_name": "HTMLView",
            "description": "",
            "description_tooltip": null,
            "layout": "IPY_MODEL_ae9c5df024804c868c4d277ab4300b9f",
            "placeholder": "​",
            "style": "IPY_MODEL_ab4018b41d3945b3a94cdffb6f1aedc7",
            "value": " 2/2 [00:01&lt;00:00,  1.60it/s]"
          }
        },
        "81c4d7e2e5b44dc0b4dffef044eb465e": {
          "model_module": "@jupyter-widgets/base",
          "model_name": "LayoutModel",
          "model_module_version": "1.2.0",
          "state": {
            "_model_module": "@jupyter-widgets/base",
            "_model_module_version": "1.2.0",
            "_model_name": "LayoutModel",
            "_view_count": null,
            "_view_module": "@jupyter-widgets/base",
            "_view_module_version": "1.2.0",
            "_view_name": "LayoutView",
            "align_content": null,
            "align_items": null,
            "align_self": null,
            "border": null,
            "bottom": null,
            "display": null,
            "flex": null,
            "flex_flow": null,
            "grid_area": null,
            "grid_auto_columns": null,
            "grid_auto_flow": null,
            "grid_auto_rows": null,
            "grid_column": null,
            "grid_gap": null,
            "grid_row": null,
            "grid_template_areas": null,
            "grid_template_columns": null,
            "grid_template_rows": null,
            "height": null,
            "justify_content": null,
            "justify_items": null,
            "left": null,
            "margin": null,
            "max_height": null,
            "max_width": null,
            "min_height": null,
            "min_width": null,
            "object_fit": null,
            "object_position": null,
            "order": null,
            "overflow": null,
            "overflow_x": null,
            "overflow_y": null,
            "padding": null,
            "right": null,
            "top": null,
            "visibility": null,
            "width": null
          }
        },
        "16fc54303f58495b8fc3cb366dc8ba17": {
          "model_module": "@jupyter-widgets/base",
          "model_name": "LayoutModel",
          "model_module_version": "1.2.0",
          "state": {
            "_model_module": "@jupyter-widgets/base",
            "_model_module_version": "1.2.0",
            "_model_name": "LayoutModel",
            "_view_count": null,
            "_view_module": "@jupyter-widgets/base",
            "_view_module_version": "1.2.0",
            "_view_name": "LayoutView",
            "align_content": null,
            "align_items": null,
            "align_self": null,
            "border": null,
            "bottom": null,
            "display": null,
            "flex": null,
            "flex_flow": null,
            "grid_area": null,
            "grid_auto_columns": null,
            "grid_auto_flow": null,
            "grid_auto_rows": null,
            "grid_column": null,
            "grid_gap": null,
            "grid_row": null,
            "grid_template_areas": null,
            "grid_template_columns": null,
            "grid_template_rows": null,
            "height": null,
            "justify_content": null,
            "justify_items": null,
            "left": null,
            "margin": null,
            "max_height": null,
            "max_width": null,
            "min_height": null,
            "min_width": null,
            "object_fit": null,
            "object_position": null,
            "order": null,
            "overflow": null,
            "overflow_x": null,
            "overflow_y": null,
            "padding": null,
            "right": null,
            "top": null,
            "visibility": null,
            "width": null
          }
        },
        "f5b09bcf5aed46a6875ae1f8812387ea": {
          "model_module": "@jupyter-widgets/controls",
          "model_name": "DescriptionStyleModel",
          "model_module_version": "1.5.0",
          "state": {
            "_model_module": "@jupyter-widgets/controls",
            "_model_module_version": "1.5.0",
            "_model_name": "DescriptionStyleModel",
            "_view_count": null,
            "_view_module": "@jupyter-widgets/base",
            "_view_module_version": "1.2.0",
            "_view_name": "StyleView",
            "description_width": ""
          }
        },
        "4de35e1e56414c53a14ef703c46da17d": {
          "model_module": "@jupyter-widgets/base",
          "model_name": "LayoutModel",
          "model_module_version": "1.2.0",
          "state": {
            "_model_module": "@jupyter-widgets/base",
            "_model_module_version": "1.2.0",
            "_model_name": "LayoutModel",
            "_view_count": null,
            "_view_module": "@jupyter-widgets/base",
            "_view_module_version": "1.2.0",
            "_view_name": "LayoutView",
            "align_content": null,
            "align_items": null,
            "align_self": null,
            "border": null,
            "bottom": null,
            "display": null,
            "flex": null,
            "flex_flow": null,
            "grid_area": null,
            "grid_auto_columns": null,
            "grid_auto_flow": null,
            "grid_auto_rows": null,
            "grid_column": null,
            "grid_gap": null,
            "grid_row": null,
            "grid_template_areas": null,
            "grid_template_columns": null,
            "grid_template_rows": null,
            "height": null,
            "justify_content": null,
            "justify_items": null,
            "left": null,
            "margin": null,
            "max_height": null,
            "max_width": null,
            "min_height": null,
            "min_width": null,
            "object_fit": null,
            "object_position": null,
            "order": null,
            "overflow": null,
            "overflow_x": null,
            "overflow_y": null,
            "padding": null,
            "right": null,
            "top": null,
            "visibility": null,
            "width": null
          }
        },
        "a0a30a3554724189b354c7a16c2fc86b": {
          "model_module": "@jupyter-widgets/controls",
          "model_name": "ProgressStyleModel",
          "model_module_version": "1.5.0",
          "state": {
            "_model_module": "@jupyter-widgets/controls",
            "_model_module_version": "1.5.0",
            "_model_name": "ProgressStyleModel",
            "_view_count": null,
            "_view_module": "@jupyter-widgets/base",
            "_view_module_version": "1.2.0",
            "_view_name": "StyleView",
            "bar_color": null,
            "description_width": ""
          }
        },
        "ae9c5df024804c868c4d277ab4300b9f": {
          "model_module": "@jupyter-widgets/base",
          "model_name": "LayoutModel",
          "model_module_version": "1.2.0",
          "state": {
            "_model_module": "@jupyter-widgets/base",
            "_model_module_version": "1.2.0",
            "_model_name": "LayoutModel",
            "_view_count": null,
            "_view_module": "@jupyter-widgets/base",
            "_view_module_version": "1.2.0",
            "_view_name": "LayoutView",
            "align_content": null,
            "align_items": null,
            "align_self": null,
            "border": null,
            "bottom": null,
            "display": null,
            "flex": null,
            "flex_flow": null,
            "grid_area": null,
            "grid_auto_columns": null,
            "grid_auto_flow": null,
            "grid_auto_rows": null,
            "grid_column": null,
            "grid_gap": null,
            "grid_row": null,
            "grid_template_areas": null,
            "grid_template_columns": null,
            "grid_template_rows": null,
            "height": null,
            "justify_content": null,
            "justify_items": null,
            "left": null,
            "margin": null,
            "max_height": null,
            "max_width": null,
            "min_height": null,
            "min_width": null,
            "object_fit": null,
            "object_position": null,
            "order": null,
            "overflow": null,
            "overflow_x": null,
            "overflow_y": null,
            "padding": null,
            "right": null,
            "top": null,
            "visibility": null,
            "width": null
          }
        },
        "ab4018b41d3945b3a94cdffb6f1aedc7": {
          "model_module": "@jupyter-widgets/controls",
          "model_name": "DescriptionStyleModel",
          "model_module_version": "1.5.0",
          "state": {
            "_model_module": "@jupyter-widgets/controls",
            "_model_module_version": "1.5.0",
            "_model_name": "DescriptionStyleModel",
            "_view_count": null,
            "_view_module": "@jupyter-widgets/base",
            "_view_module_version": "1.2.0",
            "_view_name": "StyleView",
            "description_width": ""
          }
        },
        "723a25d234114062b4a8348a3c12e29c": {
          "model_module": "@jupyter-widgets/controls",
          "model_name": "HBoxModel",
          "model_module_version": "1.5.0",
          "state": {
            "_dom_classes": [],
            "_model_module": "@jupyter-widgets/controls",
            "_model_module_version": "1.5.0",
            "_model_name": "HBoxModel",
            "_view_count": null,
            "_view_module": "@jupyter-widgets/controls",
            "_view_module_version": "1.5.0",
            "_view_name": "HBoxView",
            "box_style": "",
            "children": [
              "IPY_MODEL_c0553026f1a74275ad0864cfa8797772",
              "IPY_MODEL_0f11ba89b6fa46a6bafddc9a711704e0",
              "IPY_MODEL_4a54e7c02d4b48d49bc8cbb0b28b8d9e"
            ],
            "layout": "IPY_MODEL_1e1263b4dd6244e3a07df68c5548e328"
          }
        },
        "c0553026f1a74275ad0864cfa8797772": {
          "model_module": "@jupyter-widgets/controls",
          "model_name": "HTMLModel",
          "model_module_version": "1.5.0",
          "state": {
            "_dom_classes": [],
            "_model_module": "@jupyter-widgets/controls",
            "_model_module_version": "1.5.0",
            "_model_name": "HTMLModel",
            "_view_count": null,
            "_view_module": "@jupyter-widgets/controls",
            "_view_module_version": "1.5.0",
            "_view_name": "HTMLView",
            "description": "",
            "description_tooltip": null,
            "layout": "IPY_MODEL_59916c20f4774617aa695889bc92a355",
            "placeholder": "​",
            "style": "IPY_MODEL_d30715bbd5b24b859e4958468656575f",
            "value": "Batches: 100%"
          }
        },
        "0f11ba89b6fa46a6bafddc9a711704e0": {
          "model_module": "@jupyter-widgets/controls",
          "model_name": "FloatProgressModel",
          "model_module_version": "1.5.0",
          "state": {
            "_dom_classes": [],
            "_model_module": "@jupyter-widgets/controls",
            "_model_module_version": "1.5.0",
            "_model_name": "FloatProgressModel",
            "_view_count": null,
            "_view_module": "@jupyter-widgets/controls",
            "_view_module_version": "1.5.0",
            "_view_name": "ProgressView",
            "bar_style": "success",
            "description": "",
            "description_tooltip": null,
            "layout": "IPY_MODEL_b3c9565293bb49ad893f6ad39516fd85",
            "max": 1,
            "min": 0,
            "orientation": "horizontal",
            "style": "IPY_MODEL_2ff98ff7b723499ba8e01fb84feaedca",
            "value": 1
          }
        },
        "4a54e7c02d4b48d49bc8cbb0b28b8d9e": {
          "model_module": "@jupyter-widgets/controls",
          "model_name": "HTMLModel",
          "model_module_version": "1.5.0",
          "state": {
            "_dom_classes": [],
            "_model_module": "@jupyter-widgets/controls",
            "_model_module_version": "1.5.0",
            "_model_name": "HTMLModel",
            "_view_count": null,
            "_view_module": "@jupyter-widgets/controls",
            "_view_module_version": "1.5.0",
            "_view_name": "HTMLView",
            "description": "",
            "description_tooltip": null,
            "layout": "IPY_MODEL_218f658fc41649e5a075f9c878b22f83",
            "placeholder": "​",
            "style": "IPY_MODEL_ed646f21c6d240b89f6a433d953d26ae",
            "value": " 1/1 [00:00&lt;00:00, 17.26it/s]"
          }
        },
        "1e1263b4dd6244e3a07df68c5548e328": {
          "model_module": "@jupyter-widgets/base",
          "model_name": "LayoutModel",
          "model_module_version": "1.2.0",
          "state": {
            "_model_module": "@jupyter-widgets/base",
            "_model_module_version": "1.2.0",
            "_model_name": "LayoutModel",
            "_view_count": null,
            "_view_module": "@jupyter-widgets/base",
            "_view_module_version": "1.2.0",
            "_view_name": "LayoutView",
            "align_content": null,
            "align_items": null,
            "align_self": null,
            "border": null,
            "bottom": null,
            "display": null,
            "flex": null,
            "flex_flow": null,
            "grid_area": null,
            "grid_auto_columns": null,
            "grid_auto_flow": null,
            "grid_auto_rows": null,
            "grid_column": null,
            "grid_gap": null,
            "grid_row": null,
            "grid_template_areas": null,
            "grid_template_columns": null,
            "grid_template_rows": null,
            "height": null,
            "justify_content": null,
            "justify_items": null,
            "left": null,
            "margin": null,
            "max_height": null,
            "max_width": null,
            "min_height": null,
            "min_width": null,
            "object_fit": null,
            "object_position": null,
            "order": null,
            "overflow": null,
            "overflow_x": null,
            "overflow_y": null,
            "padding": null,
            "right": null,
            "top": null,
            "visibility": null,
            "width": null
          }
        },
        "59916c20f4774617aa695889bc92a355": {
          "model_module": "@jupyter-widgets/base",
          "model_name": "LayoutModel",
          "model_module_version": "1.2.0",
          "state": {
            "_model_module": "@jupyter-widgets/base",
            "_model_module_version": "1.2.0",
            "_model_name": "LayoutModel",
            "_view_count": null,
            "_view_module": "@jupyter-widgets/base",
            "_view_module_version": "1.2.0",
            "_view_name": "LayoutView",
            "align_content": null,
            "align_items": null,
            "align_self": null,
            "border": null,
            "bottom": null,
            "display": null,
            "flex": null,
            "flex_flow": null,
            "grid_area": null,
            "grid_auto_columns": null,
            "grid_auto_flow": null,
            "grid_auto_rows": null,
            "grid_column": null,
            "grid_gap": null,
            "grid_row": null,
            "grid_template_areas": null,
            "grid_template_columns": null,
            "grid_template_rows": null,
            "height": null,
            "justify_content": null,
            "justify_items": null,
            "left": null,
            "margin": null,
            "max_height": null,
            "max_width": null,
            "min_height": null,
            "min_width": null,
            "object_fit": null,
            "object_position": null,
            "order": null,
            "overflow": null,
            "overflow_x": null,
            "overflow_y": null,
            "padding": null,
            "right": null,
            "top": null,
            "visibility": null,
            "width": null
          }
        },
        "d30715bbd5b24b859e4958468656575f": {
          "model_module": "@jupyter-widgets/controls",
          "model_name": "DescriptionStyleModel",
          "model_module_version": "1.5.0",
          "state": {
            "_model_module": "@jupyter-widgets/controls",
            "_model_module_version": "1.5.0",
            "_model_name": "DescriptionStyleModel",
            "_view_count": null,
            "_view_module": "@jupyter-widgets/base",
            "_view_module_version": "1.2.0",
            "_view_name": "StyleView",
            "description_width": ""
          }
        },
        "b3c9565293bb49ad893f6ad39516fd85": {
          "model_module": "@jupyter-widgets/base",
          "model_name": "LayoutModel",
          "model_module_version": "1.2.0",
          "state": {
            "_model_module": "@jupyter-widgets/base",
            "_model_module_version": "1.2.0",
            "_model_name": "LayoutModel",
            "_view_count": null,
            "_view_module": "@jupyter-widgets/base",
            "_view_module_version": "1.2.0",
            "_view_name": "LayoutView",
            "align_content": null,
            "align_items": null,
            "align_self": null,
            "border": null,
            "bottom": null,
            "display": null,
            "flex": null,
            "flex_flow": null,
            "grid_area": null,
            "grid_auto_columns": null,
            "grid_auto_flow": null,
            "grid_auto_rows": null,
            "grid_column": null,
            "grid_gap": null,
            "grid_row": null,
            "grid_template_areas": null,
            "grid_template_columns": null,
            "grid_template_rows": null,
            "height": null,
            "justify_content": null,
            "justify_items": null,
            "left": null,
            "margin": null,
            "max_height": null,
            "max_width": null,
            "min_height": null,
            "min_width": null,
            "object_fit": null,
            "object_position": null,
            "order": null,
            "overflow": null,
            "overflow_x": null,
            "overflow_y": null,
            "padding": null,
            "right": null,
            "top": null,
            "visibility": null,
            "width": null
          }
        },
        "2ff98ff7b723499ba8e01fb84feaedca": {
          "model_module": "@jupyter-widgets/controls",
          "model_name": "ProgressStyleModel",
          "model_module_version": "1.5.0",
          "state": {
            "_model_module": "@jupyter-widgets/controls",
            "_model_module_version": "1.5.0",
            "_model_name": "ProgressStyleModel",
            "_view_count": null,
            "_view_module": "@jupyter-widgets/base",
            "_view_module_version": "1.2.0",
            "_view_name": "StyleView",
            "bar_color": null,
            "description_width": ""
          }
        },
        "218f658fc41649e5a075f9c878b22f83": {
          "model_module": "@jupyter-widgets/base",
          "model_name": "LayoutModel",
          "model_module_version": "1.2.0",
          "state": {
            "_model_module": "@jupyter-widgets/base",
            "_model_module_version": "1.2.0",
            "_model_name": "LayoutModel",
            "_view_count": null,
            "_view_module": "@jupyter-widgets/base",
            "_view_module_version": "1.2.0",
            "_view_name": "LayoutView",
            "align_content": null,
            "align_items": null,
            "align_self": null,
            "border": null,
            "bottom": null,
            "display": null,
            "flex": null,
            "flex_flow": null,
            "grid_area": null,
            "grid_auto_columns": null,
            "grid_auto_flow": null,
            "grid_auto_rows": null,
            "grid_column": null,
            "grid_gap": null,
            "grid_row": null,
            "grid_template_areas": null,
            "grid_template_columns": null,
            "grid_template_rows": null,
            "height": null,
            "justify_content": null,
            "justify_items": null,
            "left": null,
            "margin": null,
            "max_height": null,
            "max_width": null,
            "min_height": null,
            "min_width": null,
            "object_fit": null,
            "object_position": null,
            "order": null,
            "overflow": null,
            "overflow_x": null,
            "overflow_y": null,
            "padding": null,
            "right": null,
            "top": null,
            "visibility": null,
            "width": null
          }
        },
        "ed646f21c6d240b89f6a433d953d26ae": {
          "model_module": "@jupyter-widgets/controls",
          "model_name": "DescriptionStyleModel",
          "model_module_version": "1.5.0",
          "state": {
            "_model_module": "@jupyter-widgets/controls",
            "_model_module_version": "1.5.0",
            "_model_name": "DescriptionStyleModel",
            "_view_count": null,
            "_view_module": "@jupyter-widgets/base",
            "_view_module_version": "1.2.0",
            "_view_name": "StyleView",
            "description_width": ""
          }
        },
        "851325adcf4140ccbc3b4ef2fa85fe38": {
          "model_module": "@jupyter-widgets/controls",
          "model_name": "HBoxModel",
          "model_module_version": "1.5.0",
          "state": {
            "_dom_classes": [],
            "_model_module": "@jupyter-widgets/controls",
            "_model_module_version": "1.5.0",
            "_model_name": "HBoxModel",
            "_view_count": null,
            "_view_module": "@jupyter-widgets/controls",
            "_view_module_version": "1.5.0",
            "_view_name": "HBoxView",
            "box_style": "",
            "children": [
              "IPY_MODEL_206b0d07c8034b3db99a839ce43a9f7f",
              "IPY_MODEL_893dc4a23e4c44909e30f2dfb86b7988",
              "IPY_MODEL_d7473dd539314a16b9a20d590011e39c"
            ],
            "layout": "IPY_MODEL_0f5b226351c142ecacffc6ef5fe4dd56"
          }
        },
        "206b0d07c8034b3db99a839ce43a9f7f": {
          "model_module": "@jupyter-widgets/controls",
          "model_name": "HTMLModel",
          "model_module_version": "1.5.0",
          "state": {
            "_dom_classes": [],
            "_model_module": "@jupyter-widgets/controls",
            "_model_module_version": "1.5.0",
            "_model_name": "HTMLModel",
            "_view_count": null,
            "_view_module": "@jupyter-widgets/controls",
            "_view_module_version": "1.5.0",
            "_view_name": "HTMLView",
            "description": "",
            "description_tooltip": null,
            "layout": "IPY_MODEL_c4b4c8d4f9754551a4b98badb210c256",
            "placeholder": "​",
            "style": "IPY_MODEL_5053ecaa1372429a8567d108b8b6bd2a",
            "value": "Batches: 100%"
          }
        },
        "893dc4a23e4c44909e30f2dfb86b7988": {
          "model_module": "@jupyter-widgets/controls",
          "model_name": "FloatProgressModel",
          "model_module_version": "1.5.0",
          "state": {
            "_dom_classes": [],
            "_model_module": "@jupyter-widgets/controls",
            "_model_module_version": "1.5.0",
            "_model_name": "FloatProgressModel",
            "_view_count": null,
            "_view_module": "@jupyter-widgets/controls",
            "_view_module_version": "1.5.0",
            "_view_name": "ProgressView",
            "bar_style": "success",
            "description": "",
            "description_tooltip": null,
            "layout": "IPY_MODEL_bc6fb0b15756495bbef618b77e814605",
            "max": 1,
            "min": 0,
            "orientation": "horizontal",
            "style": "IPY_MODEL_b2f77e88984b495c85c7d8f86a5c1db8",
            "value": 1
          }
        },
        "d7473dd539314a16b9a20d590011e39c": {
          "model_module": "@jupyter-widgets/controls",
          "model_name": "HTMLModel",
          "model_module_version": "1.5.0",
          "state": {
            "_dom_classes": [],
            "_model_module": "@jupyter-widgets/controls",
            "_model_module_version": "1.5.0",
            "_model_name": "HTMLModel",
            "_view_count": null,
            "_view_module": "@jupyter-widgets/controls",
            "_view_module_version": "1.5.0",
            "_view_name": "HTMLView",
            "description": "",
            "description_tooltip": null,
            "layout": "IPY_MODEL_69e90c9e84ce41d5a4847e825bd05640",
            "placeholder": "​",
            "style": "IPY_MODEL_ca06d17d2ef64818bed88f8191f9b615",
            "value": " 1/1 [00:00&lt;00:00, 15.48it/s]"
          }
        },
        "0f5b226351c142ecacffc6ef5fe4dd56": {
          "model_module": "@jupyter-widgets/base",
          "model_name": "LayoutModel",
          "model_module_version": "1.2.0",
          "state": {
            "_model_module": "@jupyter-widgets/base",
            "_model_module_version": "1.2.0",
            "_model_name": "LayoutModel",
            "_view_count": null,
            "_view_module": "@jupyter-widgets/base",
            "_view_module_version": "1.2.0",
            "_view_name": "LayoutView",
            "align_content": null,
            "align_items": null,
            "align_self": null,
            "border": null,
            "bottom": null,
            "display": null,
            "flex": null,
            "flex_flow": null,
            "grid_area": null,
            "grid_auto_columns": null,
            "grid_auto_flow": null,
            "grid_auto_rows": null,
            "grid_column": null,
            "grid_gap": null,
            "grid_row": null,
            "grid_template_areas": null,
            "grid_template_columns": null,
            "grid_template_rows": null,
            "height": null,
            "justify_content": null,
            "justify_items": null,
            "left": null,
            "margin": null,
            "max_height": null,
            "max_width": null,
            "min_height": null,
            "min_width": null,
            "object_fit": null,
            "object_position": null,
            "order": null,
            "overflow": null,
            "overflow_x": null,
            "overflow_y": null,
            "padding": null,
            "right": null,
            "top": null,
            "visibility": null,
            "width": null
          }
        },
        "c4b4c8d4f9754551a4b98badb210c256": {
          "model_module": "@jupyter-widgets/base",
          "model_name": "LayoutModel",
          "model_module_version": "1.2.0",
          "state": {
            "_model_module": "@jupyter-widgets/base",
            "_model_module_version": "1.2.0",
            "_model_name": "LayoutModel",
            "_view_count": null,
            "_view_module": "@jupyter-widgets/base",
            "_view_module_version": "1.2.0",
            "_view_name": "LayoutView",
            "align_content": null,
            "align_items": null,
            "align_self": null,
            "border": null,
            "bottom": null,
            "display": null,
            "flex": null,
            "flex_flow": null,
            "grid_area": null,
            "grid_auto_columns": null,
            "grid_auto_flow": null,
            "grid_auto_rows": null,
            "grid_column": null,
            "grid_gap": null,
            "grid_row": null,
            "grid_template_areas": null,
            "grid_template_columns": null,
            "grid_template_rows": null,
            "height": null,
            "justify_content": null,
            "justify_items": null,
            "left": null,
            "margin": null,
            "max_height": null,
            "max_width": null,
            "min_height": null,
            "min_width": null,
            "object_fit": null,
            "object_position": null,
            "order": null,
            "overflow": null,
            "overflow_x": null,
            "overflow_y": null,
            "padding": null,
            "right": null,
            "top": null,
            "visibility": null,
            "width": null
          }
        },
        "5053ecaa1372429a8567d108b8b6bd2a": {
          "model_module": "@jupyter-widgets/controls",
          "model_name": "DescriptionStyleModel",
          "model_module_version": "1.5.0",
          "state": {
            "_model_module": "@jupyter-widgets/controls",
            "_model_module_version": "1.5.0",
            "_model_name": "DescriptionStyleModel",
            "_view_count": null,
            "_view_module": "@jupyter-widgets/base",
            "_view_module_version": "1.2.0",
            "_view_name": "StyleView",
            "description_width": ""
          }
        },
        "bc6fb0b15756495bbef618b77e814605": {
          "model_module": "@jupyter-widgets/base",
          "model_name": "LayoutModel",
          "model_module_version": "1.2.0",
          "state": {
            "_model_module": "@jupyter-widgets/base",
            "_model_module_version": "1.2.0",
            "_model_name": "LayoutModel",
            "_view_count": null,
            "_view_module": "@jupyter-widgets/base",
            "_view_module_version": "1.2.0",
            "_view_name": "LayoutView",
            "align_content": null,
            "align_items": null,
            "align_self": null,
            "border": null,
            "bottom": null,
            "display": null,
            "flex": null,
            "flex_flow": null,
            "grid_area": null,
            "grid_auto_columns": null,
            "grid_auto_flow": null,
            "grid_auto_rows": null,
            "grid_column": null,
            "grid_gap": null,
            "grid_row": null,
            "grid_template_areas": null,
            "grid_template_columns": null,
            "grid_template_rows": null,
            "height": null,
            "justify_content": null,
            "justify_items": null,
            "left": null,
            "margin": null,
            "max_height": null,
            "max_width": null,
            "min_height": null,
            "min_width": null,
            "object_fit": null,
            "object_position": null,
            "order": null,
            "overflow": null,
            "overflow_x": null,
            "overflow_y": null,
            "padding": null,
            "right": null,
            "top": null,
            "visibility": null,
            "width": null
          }
        },
        "b2f77e88984b495c85c7d8f86a5c1db8": {
          "model_module": "@jupyter-widgets/controls",
          "model_name": "ProgressStyleModel",
          "model_module_version": "1.5.0",
          "state": {
            "_model_module": "@jupyter-widgets/controls",
            "_model_module_version": "1.5.0",
            "_model_name": "ProgressStyleModel",
            "_view_count": null,
            "_view_module": "@jupyter-widgets/base",
            "_view_module_version": "1.2.0",
            "_view_name": "StyleView",
            "bar_color": null,
            "description_width": ""
          }
        },
        "69e90c9e84ce41d5a4847e825bd05640": {
          "model_module": "@jupyter-widgets/base",
          "model_name": "LayoutModel",
          "model_module_version": "1.2.0",
          "state": {
            "_model_module": "@jupyter-widgets/base",
            "_model_module_version": "1.2.0",
            "_model_name": "LayoutModel",
            "_view_count": null,
            "_view_module": "@jupyter-widgets/base",
            "_view_module_version": "1.2.0",
            "_view_name": "LayoutView",
            "align_content": null,
            "align_items": null,
            "align_self": null,
            "border": null,
            "bottom": null,
            "display": null,
            "flex": null,
            "flex_flow": null,
            "grid_area": null,
            "grid_auto_columns": null,
            "grid_auto_flow": null,
            "grid_auto_rows": null,
            "grid_column": null,
            "grid_gap": null,
            "grid_row": null,
            "grid_template_areas": null,
            "grid_template_columns": null,
            "grid_template_rows": null,
            "height": null,
            "justify_content": null,
            "justify_items": null,
            "left": null,
            "margin": null,
            "max_height": null,
            "max_width": null,
            "min_height": null,
            "min_width": null,
            "object_fit": null,
            "object_position": null,
            "order": null,
            "overflow": null,
            "overflow_x": null,
            "overflow_y": null,
            "padding": null,
            "right": null,
            "top": null,
            "visibility": null,
            "width": null
          }
        },
        "ca06d17d2ef64818bed88f8191f9b615": {
          "model_module": "@jupyter-widgets/controls",
          "model_name": "DescriptionStyleModel",
          "model_module_version": "1.5.0",
          "state": {
            "_model_module": "@jupyter-widgets/controls",
            "_model_module_version": "1.5.0",
            "_model_name": "DescriptionStyleModel",
            "_view_count": null,
            "_view_module": "@jupyter-widgets/base",
            "_view_module_version": "1.2.0",
            "_view_name": "StyleView",
            "description_width": ""
          }
        },
        "32f89a11935d4948881b8a8c83d47787": {
          "model_module": "@jupyter-widgets/controls",
          "model_name": "HBoxModel",
          "model_module_version": "1.5.0",
          "state": {
            "_dom_classes": [],
            "_model_module": "@jupyter-widgets/controls",
            "_model_module_version": "1.5.0",
            "_model_name": "HBoxModel",
            "_view_count": null,
            "_view_module": "@jupyter-widgets/controls",
            "_view_module_version": "1.5.0",
            "_view_name": "HBoxView",
            "box_style": "",
            "children": [
              "IPY_MODEL_4da734aa0a4b489ca4d79e4b586e4ea7",
              "IPY_MODEL_0c82945b9a0649638401721c49d714a4",
              "IPY_MODEL_c0aa7a16600f4486b59ee2ef466c74c8"
            ],
            "layout": "IPY_MODEL_f9983dd844ba41bd80aec5d68816d242"
          }
        },
        "4da734aa0a4b489ca4d79e4b586e4ea7": {
          "model_module": "@jupyter-widgets/controls",
          "model_name": "HTMLModel",
          "model_module_version": "1.5.0",
          "state": {
            "_dom_classes": [],
            "_model_module": "@jupyter-widgets/controls",
            "_model_module_version": "1.5.0",
            "_model_name": "HTMLModel",
            "_view_count": null,
            "_view_module": "@jupyter-widgets/controls",
            "_view_module_version": "1.5.0",
            "_view_name": "HTMLView",
            "description": "",
            "description_tooltip": null,
            "layout": "IPY_MODEL_e773473b676045399d8ab75b688d9137",
            "placeholder": "​",
            "style": "IPY_MODEL_9387bf83f5884be086105d083b4c3a6f",
            "value": "Batches: 100%"
          }
        },
        "0c82945b9a0649638401721c49d714a4": {
          "model_module": "@jupyter-widgets/controls",
          "model_name": "FloatProgressModel",
          "model_module_version": "1.5.0",
          "state": {
            "_dom_classes": [],
            "_model_module": "@jupyter-widgets/controls",
            "_model_module_version": "1.5.0",
            "_model_name": "FloatProgressModel",
            "_view_count": null,
            "_view_module": "@jupyter-widgets/controls",
            "_view_module_version": "1.5.0",
            "_view_name": "ProgressView",
            "bar_style": "success",
            "description": "",
            "description_tooltip": null,
            "layout": "IPY_MODEL_febb602a3aef4ed9862f10fae660f1c2",
            "max": 1,
            "min": 0,
            "orientation": "horizontal",
            "style": "IPY_MODEL_6cc6b020520f46dd8cab93568c242d8d",
            "value": 1
          }
        },
        "c0aa7a16600f4486b59ee2ef466c74c8": {
          "model_module": "@jupyter-widgets/controls",
          "model_name": "HTMLModel",
          "model_module_version": "1.5.0",
          "state": {
            "_dom_classes": [],
            "_model_module": "@jupyter-widgets/controls",
            "_model_module_version": "1.5.0",
            "_model_name": "HTMLModel",
            "_view_count": null,
            "_view_module": "@jupyter-widgets/controls",
            "_view_module_version": "1.5.0",
            "_view_name": "HTMLView",
            "description": "",
            "description_tooltip": null,
            "layout": "IPY_MODEL_ee071c76d7af4d74a8308949fcc6422a",
            "placeholder": "​",
            "style": "IPY_MODEL_01338f93b9194262acc47b8cf324522a",
            "value": " 1/1 [00:00&lt;00:00, 16.27it/s]"
          }
        },
        "f9983dd844ba41bd80aec5d68816d242": {
          "model_module": "@jupyter-widgets/base",
          "model_name": "LayoutModel",
          "model_module_version": "1.2.0",
          "state": {
            "_model_module": "@jupyter-widgets/base",
            "_model_module_version": "1.2.0",
            "_model_name": "LayoutModel",
            "_view_count": null,
            "_view_module": "@jupyter-widgets/base",
            "_view_module_version": "1.2.0",
            "_view_name": "LayoutView",
            "align_content": null,
            "align_items": null,
            "align_self": null,
            "border": null,
            "bottom": null,
            "display": null,
            "flex": null,
            "flex_flow": null,
            "grid_area": null,
            "grid_auto_columns": null,
            "grid_auto_flow": null,
            "grid_auto_rows": null,
            "grid_column": null,
            "grid_gap": null,
            "grid_row": null,
            "grid_template_areas": null,
            "grid_template_columns": null,
            "grid_template_rows": null,
            "height": null,
            "justify_content": null,
            "justify_items": null,
            "left": null,
            "margin": null,
            "max_height": null,
            "max_width": null,
            "min_height": null,
            "min_width": null,
            "object_fit": null,
            "object_position": null,
            "order": null,
            "overflow": null,
            "overflow_x": null,
            "overflow_y": null,
            "padding": null,
            "right": null,
            "top": null,
            "visibility": null,
            "width": null
          }
        },
        "e773473b676045399d8ab75b688d9137": {
          "model_module": "@jupyter-widgets/base",
          "model_name": "LayoutModel",
          "model_module_version": "1.2.0",
          "state": {
            "_model_module": "@jupyter-widgets/base",
            "_model_module_version": "1.2.0",
            "_model_name": "LayoutModel",
            "_view_count": null,
            "_view_module": "@jupyter-widgets/base",
            "_view_module_version": "1.2.0",
            "_view_name": "LayoutView",
            "align_content": null,
            "align_items": null,
            "align_self": null,
            "border": null,
            "bottom": null,
            "display": null,
            "flex": null,
            "flex_flow": null,
            "grid_area": null,
            "grid_auto_columns": null,
            "grid_auto_flow": null,
            "grid_auto_rows": null,
            "grid_column": null,
            "grid_gap": null,
            "grid_row": null,
            "grid_template_areas": null,
            "grid_template_columns": null,
            "grid_template_rows": null,
            "height": null,
            "justify_content": null,
            "justify_items": null,
            "left": null,
            "margin": null,
            "max_height": null,
            "max_width": null,
            "min_height": null,
            "min_width": null,
            "object_fit": null,
            "object_position": null,
            "order": null,
            "overflow": null,
            "overflow_x": null,
            "overflow_y": null,
            "padding": null,
            "right": null,
            "top": null,
            "visibility": null,
            "width": null
          }
        },
        "9387bf83f5884be086105d083b4c3a6f": {
          "model_module": "@jupyter-widgets/controls",
          "model_name": "DescriptionStyleModel",
          "model_module_version": "1.5.0",
          "state": {
            "_model_module": "@jupyter-widgets/controls",
            "_model_module_version": "1.5.0",
            "_model_name": "DescriptionStyleModel",
            "_view_count": null,
            "_view_module": "@jupyter-widgets/base",
            "_view_module_version": "1.2.0",
            "_view_name": "StyleView",
            "description_width": ""
          }
        },
        "febb602a3aef4ed9862f10fae660f1c2": {
          "model_module": "@jupyter-widgets/base",
          "model_name": "LayoutModel",
          "model_module_version": "1.2.0",
          "state": {
            "_model_module": "@jupyter-widgets/base",
            "_model_module_version": "1.2.0",
            "_model_name": "LayoutModel",
            "_view_count": null,
            "_view_module": "@jupyter-widgets/base",
            "_view_module_version": "1.2.0",
            "_view_name": "LayoutView",
            "align_content": null,
            "align_items": null,
            "align_self": null,
            "border": null,
            "bottom": null,
            "display": null,
            "flex": null,
            "flex_flow": null,
            "grid_area": null,
            "grid_auto_columns": null,
            "grid_auto_flow": null,
            "grid_auto_rows": null,
            "grid_column": null,
            "grid_gap": null,
            "grid_row": null,
            "grid_template_areas": null,
            "grid_template_columns": null,
            "grid_template_rows": null,
            "height": null,
            "justify_content": null,
            "justify_items": null,
            "left": null,
            "margin": null,
            "max_height": null,
            "max_width": null,
            "min_height": null,
            "min_width": null,
            "object_fit": null,
            "object_position": null,
            "order": null,
            "overflow": null,
            "overflow_x": null,
            "overflow_y": null,
            "padding": null,
            "right": null,
            "top": null,
            "visibility": null,
            "width": null
          }
        },
        "6cc6b020520f46dd8cab93568c242d8d": {
          "model_module": "@jupyter-widgets/controls",
          "model_name": "ProgressStyleModel",
          "model_module_version": "1.5.0",
          "state": {
            "_model_module": "@jupyter-widgets/controls",
            "_model_module_version": "1.5.0",
            "_model_name": "ProgressStyleModel",
            "_view_count": null,
            "_view_module": "@jupyter-widgets/base",
            "_view_module_version": "1.2.0",
            "_view_name": "StyleView",
            "bar_color": null,
            "description_width": ""
          }
        },
        "ee071c76d7af4d74a8308949fcc6422a": {
          "model_module": "@jupyter-widgets/base",
          "model_name": "LayoutModel",
          "model_module_version": "1.2.0",
          "state": {
            "_model_module": "@jupyter-widgets/base",
            "_model_module_version": "1.2.0",
            "_model_name": "LayoutModel",
            "_view_count": null,
            "_view_module": "@jupyter-widgets/base",
            "_view_module_version": "1.2.0",
            "_view_name": "LayoutView",
            "align_content": null,
            "align_items": null,
            "align_self": null,
            "border": null,
            "bottom": null,
            "display": null,
            "flex": null,
            "flex_flow": null,
            "grid_area": null,
            "grid_auto_columns": null,
            "grid_auto_flow": null,
            "grid_auto_rows": null,
            "grid_column": null,
            "grid_gap": null,
            "grid_row": null,
            "grid_template_areas": null,
            "grid_template_columns": null,
            "grid_template_rows": null,
            "height": null,
            "justify_content": null,
            "justify_items": null,
            "left": null,
            "margin": null,
            "max_height": null,
            "max_width": null,
            "min_height": null,
            "min_width": null,
            "object_fit": null,
            "object_position": null,
            "order": null,
            "overflow": null,
            "overflow_x": null,
            "overflow_y": null,
            "padding": null,
            "right": null,
            "top": null,
            "visibility": null,
            "width": null
          }
        },
        "01338f93b9194262acc47b8cf324522a": {
          "model_module": "@jupyter-widgets/controls",
          "model_name": "DescriptionStyleModel",
          "model_module_version": "1.5.0",
          "state": {
            "_model_module": "@jupyter-widgets/controls",
            "_model_module_version": "1.5.0",
            "_model_name": "DescriptionStyleModel",
            "_view_count": null,
            "_view_module": "@jupyter-widgets/base",
            "_view_module_version": "1.2.0",
            "_view_name": "StyleView",
            "description_width": ""
          }
        },
        "f178c2925126470eab4a485022266961": {
          "model_module": "@jupyter-widgets/controls",
          "model_name": "HBoxModel",
          "model_module_version": "1.5.0",
          "state": {
            "_dom_classes": [],
            "_model_module": "@jupyter-widgets/controls",
            "_model_module_version": "1.5.0",
            "_model_name": "HBoxModel",
            "_view_count": null,
            "_view_module": "@jupyter-widgets/controls",
            "_view_module_version": "1.5.0",
            "_view_name": "HBoxView",
            "box_style": "",
            "children": [
              "IPY_MODEL_e4979471d4524fcd8b4f5f904b9da122",
              "IPY_MODEL_b0738c61a3f84feabe0949e764c68349",
              "IPY_MODEL_dd382f2a576042febeea6628a53efc80"
            ],
            "layout": "IPY_MODEL_176bc2a4bcd042a6914659fa31ecc737"
          }
        },
        "e4979471d4524fcd8b4f5f904b9da122": {
          "model_module": "@jupyter-widgets/controls",
          "model_name": "HTMLModel",
          "model_module_version": "1.5.0",
          "state": {
            "_dom_classes": [],
            "_model_module": "@jupyter-widgets/controls",
            "_model_module_version": "1.5.0",
            "_model_name": "HTMLModel",
            "_view_count": null,
            "_view_module": "@jupyter-widgets/controls",
            "_view_module_version": "1.5.0",
            "_view_name": "HTMLView",
            "description": "",
            "description_tooltip": null,
            "layout": "IPY_MODEL_8211ff8a961b45ef87a3c8fcc8f7a2f3",
            "placeholder": "​",
            "style": "IPY_MODEL_7b2896aa705f4401a070b5012a695836",
            "value": "Batches: 100%"
          }
        },
        "b0738c61a3f84feabe0949e764c68349": {
          "model_module": "@jupyter-widgets/controls",
          "model_name": "FloatProgressModel",
          "model_module_version": "1.5.0",
          "state": {
            "_dom_classes": [],
            "_model_module": "@jupyter-widgets/controls",
            "_model_module_version": "1.5.0",
            "_model_name": "FloatProgressModel",
            "_view_count": null,
            "_view_module": "@jupyter-widgets/controls",
            "_view_module_version": "1.5.0",
            "_view_name": "ProgressView",
            "bar_style": "success",
            "description": "",
            "description_tooltip": null,
            "layout": "IPY_MODEL_f3d363d127c44068b03f7a5d457d171a",
            "max": 1,
            "min": 0,
            "orientation": "horizontal",
            "style": "IPY_MODEL_6c4896a9cd1b4463b85f4946f6611c3c",
            "value": 1
          }
        },
        "dd382f2a576042febeea6628a53efc80": {
          "model_module": "@jupyter-widgets/controls",
          "model_name": "HTMLModel",
          "model_module_version": "1.5.0",
          "state": {
            "_dom_classes": [],
            "_model_module": "@jupyter-widgets/controls",
            "_model_module_version": "1.5.0",
            "_model_name": "HTMLModel",
            "_view_count": null,
            "_view_module": "@jupyter-widgets/controls",
            "_view_module_version": "1.5.0",
            "_view_name": "HTMLView",
            "description": "",
            "description_tooltip": null,
            "layout": "IPY_MODEL_2718cc457ee0451b8585b88f01e314f4",
            "placeholder": "​",
            "style": "IPY_MODEL_e447fc2cd5384199bffd8aa00b353b53",
            "value": " 1/1 [00:00&lt;00:00, 25.74it/s]"
          }
        },
        "176bc2a4bcd042a6914659fa31ecc737": {
          "model_module": "@jupyter-widgets/base",
          "model_name": "LayoutModel",
          "model_module_version": "1.2.0",
          "state": {
            "_model_module": "@jupyter-widgets/base",
            "_model_module_version": "1.2.0",
            "_model_name": "LayoutModel",
            "_view_count": null,
            "_view_module": "@jupyter-widgets/base",
            "_view_module_version": "1.2.0",
            "_view_name": "LayoutView",
            "align_content": null,
            "align_items": null,
            "align_self": null,
            "border": null,
            "bottom": null,
            "display": null,
            "flex": null,
            "flex_flow": null,
            "grid_area": null,
            "grid_auto_columns": null,
            "grid_auto_flow": null,
            "grid_auto_rows": null,
            "grid_column": null,
            "grid_gap": null,
            "grid_row": null,
            "grid_template_areas": null,
            "grid_template_columns": null,
            "grid_template_rows": null,
            "height": null,
            "justify_content": null,
            "justify_items": null,
            "left": null,
            "margin": null,
            "max_height": null,
            "max_width": null,
            "min_height": null,
            "min_width": null,
            "object_fit": null,
            "object_position": null,
            "order": null,
            "overflow": null,
            "overflow_x": null,
            "overflow_y": null,
            "padding": null,
            "right": null,
            "top": null,
            "visibility": null,
            "width": null
          }
        },
        "8211ff8a961b45ef87a3c8fcc8f7a2f3": {
          "model_module": "@jupyter-widgets/base",
          "model_name": "LayoutModel",
          "model_module_version": "1.2.0",
          "state": {
            "_model_module": "@jupyter-widgets/base",
            "_model_module_version": "1.2.0",
            "_model_name": "LayoutModel",
            "_view_count": null,
            "_view_module": "@jupyter-widgets/base",
            "_view_module_version": "1.2.0",
            "_view_name": "LayoutView",
            "align_content": null,
            "align_items": null,
            "align_self": null,
            "border": null,
            "bottom": null,
            "display": null,
            "flex": null,
            "flex_flow": null,
            "grid_area": null,
            "grid_auto_columns": null,
            "grid_auto_flow": null,
            "grid_auto_rows": null,
            "grid_column": null,
            "grid_gap": null,
            "grid_row": null,
            "grid_template_areas": null,
            "grid_template_columns": null,
            "grid_template_rows": null,
            "height": null,
            "justify_content": null,
            "justify_items": null,
            "left": null,
            "margin": null,
            "max_height": null,
            "max_width": null,
            "min_height": null,
            "min_width": null,
            "object_fit": null,
            "object_position": null,
            "order": null,
            "overflow": null,
            "overflow_x": null,
            "overflow_y": null,
            "padding": null,
            "right": null,
            "top": null,
            "visibility": null,
            "width": null
          }
        },
        "7b2896aa705f4401a070b5012a695836": {
          "model_module": "@jupyter-widgets/controls",
          "model_name": "DescriptionStyleModel",
          "model_module_version": "1.5.0",
          "state": {
            "_model_module": "@jupyter-widgets/controls",
            "_model_module_version": "1.5.0",
            "_model_name": "DescriptionStyleModel",
            "_view_count": null,
            "_view_module": "@jupyter-widgets/base",
            "_view_module_version": "1.2.0",
            "_view_name": "StyleView",
            "description_width": ""
          }
        },
        "f3d363d127c44068b03f7a5d457d171a": {
          "model_module": "@jupyter-widgets/base",
          "model_name": "LayoutModel",
          "model_module_version": "1.2.0",
          "state": {
            "_model_module": "@jupyter-widgets/base",
            "_model_module_version": "1.2.0",
            "_model_name": "LayoutModel",
            "_view_count": null,
            "_view_module": "@jupyter-widgets/base",
            "_view_module_version": "1.2.0",
            "_view_name": "LayoutView",
            "align_content": null,
            "align_items": null,
            "align_self": null,
            "border": null,
            "bottom": null,
            "display": null,
            "flex": null,
            "flex_flow": null,
            "grid_area": null,
            "grid_auto_columns": null,
            "grid_auto_flow": null,
            "grid_auto_rows": null,
            "grid_column": null,
            "grid_gap": null,
            "grid_row": null,
            "grid_template_areas": null,
            "grid_template_columns": null,
            "grid_template_rows": null,
            "height": null,
            "justify_content": null,
            "justify_items": null,
            "left": null,
            "margin": null,
            "max_height": null,
            "max_width": null,
            "min_height": null,
            "min_width": null,
            "object_fit": null,
            "object_position": null,
            "order": null,
            "overflow": null,
            "overflow_x": null,
            "overflow_y": null,
            "padding": null,
            "right": null,
            "top": null,
            "visibility": null,
            "width": null
          }
        },
        "6c4896a9cd1b4463b85f4946f6611c3c": {
          "model_module": "@jupyter-widgets/controls",
          "model_name": "ProgressStyleModel",
          "model_module_version": "1.5.0",
          "state": {
            "_model_module": "@jupyter-widgets/controls",
            "_model_module_version": "1.5.0",
            "_model_name": "ProgressStyleModel",
            "_view_count": null,
            "_view_module": "@jupyter-widgets/base",
            "_view_module_version": "1.2.0",
            "_view_name": "StyleView",
            "bar_color": null,
            "description_width": ""
          }
        },
        "2718cc457ee0451b8585b88f01e314f4": {
          "model_module": "@jupyter-widgets/base",
          "model_name": "LayoutModel",
          "model_module_version": "1.2.0",
          "state": {
            "_model_module": "@jupyter-widgets/base",
            "_model_module_version": "1.2.0",
            "_model_name": "LayoutModel",
            "_view_count": null,
            "_view_module": "@jupyter-widgets/base",
            "_view_module_version": "1.2.0",
            "_view_name": "LayoutView",
            "align_content": null,
            "align_items": null,
            "align_self": null,
            "border": null,
            "bottom": null,
            "display": null,
            "flex": null,
            "flex_flow": null,
            "grid_area": null,
            "grid_auto_columns": null,
            "grid_auto_flow": null,
            "grid_auto_rows": null,
            "grid_column": null,
            "grid_gap": null,
            "grid_row": null,
            "grid_template_areas": null,
            "grid_template_columns": null,
            "grid_template_rows": null,
            "height": null,
            "justify_content": null,
            "justify_items": null,
            "left": null,
            "margin": null,
            "max_height": null,
            "max_width": null,
            "min_height": null,
            "min_width": null,
            "object_fit": null,
            "object_position": null,
            "order": null,
            "overflow": null,
            "overflow_x": null,
            "overflow_y": null,
            "padding": null,
            "right": null,
            "top": null,
            "visibility": null,
            "width": null
          }
        },
        "e447fc2cd5384199bffd8aa00b353b53": {
          "model_module": "@jupyter-widgets/controls",
          "model_name": "DescriptionStyleModel",
          "model_module_version": "1.5.0",
          "state": {
            "_model_module": "@jupyter-widgets/controls",
            "_model_module_version": "1.5.0",
            "_model_name": "DescriptionStyleModel",
            "_view_count": null,
            "_view_module": "@jupyter-widgets/base",
            "_view_module_version": "1.2.0",
            "_view_name": "StyleView",
            "description_width": ""
          }
        }
      }
    }
  },
  "cells": [
    {
      "cell_type": "markdown",
      "metadata": {
        "id": "view-in-github",
        "colab_type": "text"
      },
      "source": [
        "<a href=\"https://colab.research.google.com/github/Tar-ive/aitx_ai_hackathon/blob/main/bounter.ipynb\" target=\"_parent\"><img src=\"https://colab.research.google.com/assets/colab-badge.svg\" alt=\"Open In Colab\"/></a>"
      ]
    },
    {
      "cell_type": "code",
      "execution_count": null,
      "metadata": {
        "id": "-ZaL8Y9zu-t2"
      },
      "outputs": [],
      "source": [
        "!pip install psycopg2-binary pandas"
      ]
    },
    {
      "source": [
        "import psycopg2\n",
        "import pandas as pd\n",
        "from sqlalchemy import create_engine\n",
        "from google.colab import userdata\n",
        "\n",
        "# Retrieve the database URL from userdata\n",
        "db_url = userdata.get('POSTGRES_NEON_URL')\n",
        "\n",
        "# Create a connection\n",
        "conn = psycopg2.connect(db_url)\n",
        "\n",
        "# Create an SQLAlchemy engine for pandas integration\n",
        "engine = create_engine(db_url)"
      ],
      "cell_type": "code",
      "metadata": {
        "id": "C7aNFgNevxGt"
      },
      "execution_count": null,
      "outputs": []
    },
    {
      "cell_type": "code",
      "source": [
        "# Example: Run a query and load results into a pandas DataFrame\n",
        "query = \"SELECT * FROM regulatory_sources LIMIT 10\"\n",
        "df = pd.read_sql(query, engine)\n",
        "display(df)\n",
        "\n",
        "# Alternative method using cursor\n",
        "# cursor = conn.cursor()\n",
        "# cursor.execute(query)\n",
        "# results = cursor.fetchall()\n",
        "# cursor.close()"
      ],
      "metadata": {
        "id": "72HdzZpBvZnY"
      },
      "execution_count": null,
      "outputs": []
    },
    {
      "cell_type": "markdown",
      "source": [],
      "metadata": {
        "id": "fAYo9WFm3KbZ"
      }
    },
    {
      "cell_type": "markdown",
      "source": [
        "# Install dependencies"
      ],
      "metadata": {
        "id": "Wh8JlwFH31ql"
      }
    },
    {
      "cell_type": "code",
      "source": [
        "# # Install necessary packages\n",
        "# !pip install -q llama-stack langchain pypdf psycopg2-binary pgvector sentence-transformers\n",
        "# !UV_SYSTEM_PYTHON=1 llama stack build --template together --image-type venv\n",
        "\n",
        "# Set API keys\n",
        "import os\n",
        "from google.colab import userdata\n",
        "\n",
        "os.environ['TOGETHER_API_KEY'] = userdata.get('TOGETHER_API_KEY')\n",
        "\n",
        "# Basic imports\n",
        "import json\n",
        "import pandas as pd\n",
        "import numpy as np\n",
        "from sqlalchemy import create_engine, text\n",
        "import psycopg2"
      ],
      "metadata": {
        "id": "jxP_U5CLv65u"
      },
      "execution_count": null,
      "outputs": []
    },
    {
      "cell_type": "markdown",
      "source": [
        "# explore database schema"
      ],
      "metadata": {
        "id": "TcAUh87y49tc"
      }
    },
    {
      "cell_type": "code",
      "source": [
        "# Connect to the database\n",
        "import psycopg2\n",
        "import pandas as pd\n",
        "from sqlalchemy import create_engine, text\n",
        "from google.colab import userdata\n",
        "\n",
        "# Retrieve the database URL from userdata\n",
        "db_url = userdata.get('POSTGRES_NEON_URL')\n",
        "\n",
        "# Create a connection\n",
        "conn = psycopg2.connect(db_url)\n",
        "\n",
        "# Create an SQLAlchemy engine for pandas integration\n",
        "engine = create_engine(db_url)\n",
        "\n",
        "# Check regulatory_sections schema\n",
        "query = \"SELECT column_name, data_type FROM information_schema.columns WHERE table_name = 'regulatory_sections'\"\n",
        "reg_sections_schema = pd.read_sql(query, engine)\n",
        "display(reg_sections_schema)\n",
        "\n",
        "# Check regulatory_sources schema\n",
        "query = \"SELECT column_name, data_type FROM information_schema.columns WHERE table_name = 'regulatory_sources'\"\n",
        "reg_sources_schema = pd.read_sql(query, engine)\n",
        "display(reg_sources_schema)\n",
        "\n",
        "# Get a sample of existing data\n",
        "query = \"SELECT * FROM regulatory_sections LIMIT 5\"\n",
        "sample_sections = pd.read_sql(query, engine)\n",
        "display(sample_sections)\n",
        "\n",
        "query = \"SELECT * FROM regulatory_sources LIMIT 5\"\n",
        "sample_sources = pd.read_sql(query, engine)\n",
        "display(sample_sources)"
      ],
      "metadata": {
        "id": "y0HUETJg3JvJ"
      },
      "execution_count": null,
      "outputs": []
    },
    {
      "cell_type": "markdown",
      "source": [
        "# Load and process table metadata"
      ],
      "metadata": {
        "id": "2K7wzyJp5r8-"
      }
    },
    {
      "cell_type": "code",
      "source": [
        "# Define the table metadata from the JSON file\n",
        "import json\n",
        "\n",
        "table_metadata = {\n",
        "    \"EXPORTER_PROFILE\": {\n",
        "        \"Columns\": [\"Exporter_ID\", \"Exporter_Name\", \"Country_of_Origin\", \"Industry_Focus\", \"Operation_Size\", \"Export_Frequency\", \"Shipping_Modalities\", \"Additional_Insights\"],\n",
        "        \"Data_Types\": [\"VARCHAR(5)\", \"VARCHAR(50)\", \"VARCHAR(50)\", \"VARCHAR(50)\", \"VARCHAR(50)\", \"VARCHAR(20)\", \"VARCHAR(100)\", \"TEXT\"],\n",
        "        \"Description\": \"Stores exporter details, including name, country, industry focus, and operational info.\"\n",
        "    },\n",
        "    \"REGULATORY_SECTIONS\": {\n",
        "        \"Columns\": [\"Section_ID\", \"Section_Number\", \"Section_Title\", \"Content\", \"Applicability\", \"Complexity_Level\", \"Effective_Date\"],\n",
        "        \"Data_Types\": [\"VARCHAR(6)\", \"VARCHAR(10)\", \"VARCHAR(50)\", \"TEXT\", \"VARCHAR(50)\", \"INT\", \"DATE\"],\n",
        "        \"Description\": \"Contains FDA regulatory sections with titles, content, and compliance details.\"\n",
        "    },\n",
        "    \"REGULATORY_SOURCES\": {\n",
        "        \"Columns\": [\"Source_ID\", \"Section_ID\", \"Source_URL\", \"Source_Description\"],\n",
        "        \"Data_Types\": [\"VARCHAR(6)\", \"VARCHAR(6)\", \"VARCHAR(150)\", \"VARCHAR(100)\"],\n",
        "        \"Description\": \"Links regulatory sections to their source documents, primarily Federal Register entries.\"\n",
        "    },\n",
        "    \"FOOD_PRODUCT_LIST\": {\n",
        "        \"Columns\": [\"Product_Category_ID\", \"Product_Name\", \"Category\", \"On_FTL_List\", \"HS_Code_Pattern\"],\n",
        "        \"Data_Types\": [\"VARCHAR(6)\", \"VARCHAR(50)\", \"VARCHAR(50)\", \"BOOLEAN\", \"VARCHAR(10)\"],\n",
        "        \"Description\": \"Lists food products, their categories, and whether they are on the Food Traceability List (FTL).\"\n",
        "    },\n",
        "    \"PRODUCT_REGULATIONS\": {\n",
        "        \"Columns\": [\"Mapping_ID\", \"Section_ID\", \"Product_Category_ID\", \"Requirement_Type\", \"Is_Required\"],\n",
        "        \"Data_Types\": [\"VARCHAR(6)\", \"VARCHAR(6)\", \"VARCHAR(6)\", \"VARCHAR(50)\", \"BOOLEAN\"],\n",
        "        \"Description\": \"Maps products to regulatory sections with specific requirement types and whether they are required.\"\n",
        "    },\n",
        "    \"SHIPMENTS\": {\n",
        "        \"Columns\": [\"Shipment_ID\", \"Exporter_ID\", \"Destination_Country\", \"Product_Description\", \"Product_Type\", \"HS_Code\", \"Quantity\", \"Export_Date\", \"Compliance_Status\", \"Linked_Traceability_IDs\"],\n",
        "        \"Data_Types\": [\"VARCHAR(6)\", \"VARCHAR(5)\", \"VARCHAR(50)\", \"VARCHAR(50)\", \"VARCHAR(50)\", \"VARCHAR(10)\", \"VARCHAR(10)\", \"DATE\", \"VARCHAR(20)\", \"VARCHAR(50)\"],\n",
        "        \"Description\": \"Tracks shipments with exporter details, product info, and compliance status.\"\n",
        "    },\n",
        "    \"DOCUMENTATION_METADATA\": {\n",
        "        \"Columns\": [\"Document_ID\", \"Exporter_ID\", \"Document_Type\", \"Date_Issued\", \"Linked_Shipment_ID\", \"Status\"],\n",
        "        \"Data_Types\": [\"VARCHAR(6)\", \"VARCHAR(5)\", \"VARCHAR(50)\", \"DATE\", \"VARCHAR(6)\", \"VARCHAR(20)\"],\n",
        "        \"Description\": \"Stores metadata for documentation related to shipments, including status.\"\n",
        "    },\n",
        "    \"TRACEABILITY_DATA\": {\n",
        "        \"Columns\": [\"Record_ID\", \"Exporter_ID\", \"Food_Product\", \"CTE_Type\", \"KDE_Details\", \"Timestamp\", \"Compliance_Flag\", \"Location\", \"Lot_Number\"],\n",
        "        \"Data_Types\": [\"VARCHAR(8)\", \"VARCHAR(5)\", \"VARCHAR(50)\", \"VARCHAR(50)\", \"TEXT\", \"TIMESTAMP\", \"VARCHAR(20)\", \"VARCHAR(100)\", \"VARCHAR(20)\"],\n",
        "        \"Description\": \"Records traceability data for critical tracking events, including compliance flags.\"\n",
        "    }\n",
        "}\n",
        "\n",
        "# Create a concise version of the table metadata for the LLM context\n",
        "db_schema_str = \"Database Schema Information:\\n\\n\"\n",
        "for table_name, table_info in table_metadata.items():\n",
        "    db_schema_str += f\"Table: {table_name}\\n\"\n",
        "    db_schema_str += f\"Description: {table_info['Description']}\\n\"\n",
        "    db_schema_str += \"Columns:\\n\"\n",
        "    for i, (col, dtype) in enumerate(zip(table_info['Columns'], table_info['Data_Types'])):\n",
        "        db_schema_str += f\"  - {col} ({dtype})\\n\"\n",
        "    db_schema_str += \"\\n\"\n",
        "\n",
        "print(\"Metadata processing complete!\")\n",
        "print(f\"Schema context length: {len(db_schema_str)} characters\")"
      ],
      "metadata": {
        "id": "2wD3LyPw5AE8"
      },
      "execution_count": null,
      "outputs": []
    },
    {
      "cell_type": "markdown",
      "source": [
        "# Create Text to Sql function using llamastack and together Ai"
      ],
      "metadata": {
        "id": "ptW_8c7z5xfE"
      }
    },
    {
      "cell_type": "code",
      "source": [
        "!pip install langchain_community"
      ],
      "metadata": {
        "id": "7G0aWwSD57TI"
      },
      "execution_count": null,
      "outputs": []
    },
    {
      "cell_type": "code",
      "source": [
        "from llama_stack.distribution.library_client import LlamaStackAsLibraryClient\n",
        "# Initialize the client without the Tavily search provider\n",
        "client = LlamaStackAsLibraryClient(\"together\")\n",
        "client.initialize()"
      ],
      "metadata": {
        "id": "a7bGJRxS6wF-"
      },
      "execution_count": null,
      "outputs": []
    },
    {
      "cell_type": "code",
      "source": [
        "# Initialize the Llama Stack client\n",
        "import os\n",
        "from google.colab import userdata\n",
        "os.environ['TOGETHER_API_KEY'] = userdata.get('TOGETHER_API_KEY')\n",
        "\n",
        "from llama_stack.distribution.library_client import LlamaStackAsLibraryClient\n",
        "\n",
        "# Initialize the client without the Tavily search provider\n",
        "client = LlamaStackAsLibraryClient(\"together\")\n",
        "client.initialize()\n",
        "\n",
        "# Choose the model\n",
        "model_id = \"meta-llama/Llama-3.1-8B-Instruct\"\n",
        "\n",
        "# Create a text-to-SQL generation function\n",
        "def generate_sql_query(question, db_schema_str):\n",
        "    \"\"\"Generate a SQL query from a natural language question using Llama Stack\"\"\"\n",
        "\n",
        "    # Create the prompt for text-to-SQL conversion\n",
        "    prompt = f\"\"\"\n",
        "You are an expert SQL query generator for a food traceability database that implements the FDA Food Traceability Rule.\n",
        "\n",
        "{db_schema_str}\n",
        "\n",
        "The database contains information about food exporters, regulatory sections, shipments, and traceability data.\n",
        "Your task is to generate a valid PostgreSQL query based on the user's natural language question.\n",
        "\n",
        "For any references to regulations or requirements, focus on the REGULATORY_SECTIONS and REGULATORY_SOURCES tables.\n",
        "\n",
        "IMPORTANT GUIDELINES:\n",
        "1. Generate ONLY the SQL query without any explanations, comments, or markdown formatting\n",
        "2. Make sure the query is valid PostgreSQL syntax\n",
        "3. Use appropriate JOINs when data spans multiple tables\n",
        "4. Use table and column names EXACTLY as specified in the schema\n",
        "5. For text searches, use ILIKE for case-insensitive matching\n",
        "6. Don't include any explanations or comments in your response, just the SQL query\n",
        "\n",
        "User's question: {question}\n",
        "\n",
        "SQL Query:\n",
        "\"\"\"\n",
        "\n",
        "    # Use Llama Stack inference to generate the SQL query\n",
        "    response = client.inference.completion(\n",
        "        model_id=model_id,\n",
        "        content=prompt,\n",
        "        stream=False,\n",
        "        sampling_params={\n",
        "            \"temperature\": 0.1,\n",
        "            \"max_tokens\": 1024,\n",
        "            \"top_p\": 0.9\n",
        "        }\n",
        "    )\n",
        "\n",
        "    sql_query = response.content.strip()\n",
        "    return sql_query\n",
        "\n",
        "# Test with a simple example\n",
        "test_question = \"What are the regulatory sections with high complexity level?\"\n",
        "test_sql = generate_sql_query(test_question, db_schema_str)\n",
        "print(\"Generated SQL Query:\")\n",
        "print(test_sql)\n",
        "\n",
        "# Execute the generated query to verify it works\n",
        "try:\n",
        "    result_df = pd.read_sql(test_sql, engine)\n",
        "    print(\"\\nQuery Results:\")\n",
        "    display(result_df.head())\n",
        "    print(f\"Total results: {len(result_df)} rows\")\n",
        "except Exception as e:\n",
        "    print(f\"Error executing query: {e}\")"
      ],
      "metadata": {
        "id": "MCth3tbj5uaA"
      },
      "execution_count": null,
      "outputs": []
    },
    {
      "cell_type": "markdown",
      "source": [
        "# tool to create sql queries"
      ],
      "metadata": {
        "id": "zzkkqTXA-jQx"
      }
    },
    {
      "cell_type": "code",
      "source": [
        "from functools import wraps\n",
        "\n",
        "def client_tool(func):\n",
        "    @wraps(func)\n",
        "    def wrapper(*args, **kwargs):\n",
        "        # Original functionality of the decorator\n",
        "        return func(*args, **kwargs)\n",
        "    return wrapper"
      ],
      "metadata": {
        "id": "1zQwEJOW_DWS"
      },
      "execution_count": null,
      "outputs": []
    },
    {
      "cell_type": "code",
      "source": [
        "import logging\n",
        "import pandas as pd\n",
        "from llama_stack_client.lib.agents.client_tool import client_tool\n",
        "\n",
        "# Set up logging\n",
        "logging.basicConfig(level=logging.INFO)\n",
        "logger = logging.getLogger(__name__)\n",
        "\n",
        "@client_tool\n",
        "def execute_sql(query: str, limit: int = 50) -> dict:\n",
        "    \"\"\"Execute a SQL query against the FDA Food Traceability database.\n",
        "\n",
        "    :param query: SQL query to execute against the database\n",
        "    :param limit: Maximum number of rows to return (default: 50)\n",
        "    :returns: Dictionary containing query results or error message\n",
        "    \"\"\"\n",
        "    logger.info(f\"Executing SQL query: {query}\")\n",
        "\n",
        "    try:\n",
        "        # Execute the query with a limit for safety\n",
        "        if 'limit' not in query.lower():\n",
        "            if ';' in query:\n",
        "                query = query.replace(';', f\" LIMIT {limit};\")\n",
        "            else:\n",
        "                query = f\"{query} LIMIT {limit}\"\n",
        "\n",
        "        # Execute the query\n",
        "        df = pd.read_sql(query, engine)\n",
        "\n",
        "        # Convert to a list of dictionaries for JSON serialization\n",
        "        results = df.to_dict(orient='records')\n",
        "\n",
        "        # Get column names for the schema\n",
        "        columns = list(df.columns)\n",
        "\n",
        "        logger.info(f\"Query executed successfully. Returned {len(results)} rows.\")\n",
        "\n",
        "        return {\n",
        "            \"success\": True,\n",
        "            \"rowCount\": len(results),\n",
        "            \"columns\": columns,\n",
        "            \"results\": results[:limit]  # Limit again just to be sure\n",
        "        }\n",
        "    except Exception as e:\n",
        "        error_message = str(e)\n",
        "        logger.error(f\"SQL execution error: {error_message}\")\n",
        "        return {\n",
        "            \"success\": False,\n",
        "            \"error\": error_message\n",
        "        }\n",
        "\n",
        "# Test the SQL executor tool\n",
        "test_query = \"SELECT Section_ID, Section_Title FROM regulatory_sections WHERE Complexity_Level > 3\"\n",
        "# Call the underlying function of the tool instead of the tool itself\n",
        "# Instead of using __wrapped__, there are two approaches you can take:\n",
        "\n",
        "# Option 1: Call the decorated function directly\n",
        "result = execute_sql(test_query)  # Call the function with the decorator\n",
        "\n",
        "# Option 2: If you really need to access the original function,\n",
        "# store a reference to it before decorating\n",
        "def _execute_sql_original(query: str, limit: int = 50) -> dict:\n",
        "    \"\"\"Execute a SQL query against the FDA Food Traceability database.\"\"\"\n",
        "    # ... your existing function body ...\n",
        "\n",
        "# Then decorate a reference to it\n",
        "execute_sql = client_tool(_execute_sql_original)\n",
        "\n",
        "# Now you can call the original when needed\n",
        "result = _execute_sql_original(test_query)  # Access the original function\n",
        "\n",
        "print(\"SQL Executor Tool Test:\")\n",
        "if result[\"success\"]:\n",
        "    print(f\"Successfully executed query. Got {result['rowCount']} rows.\")\n",
        "    print(\"Results sample:\")\n",
        "    print(pd.DataFrame(result[\"results\"]).head())\n",
        "else:\n",
        "    print(f\"Error: {result['error']}\")"
      ],
      "metadata": {
        "id": "6R3a_QlZ53tQ"
      },
      "execution_count": null,
      "outputs": []
    },
    {
      "cell_type": "markdown",
      "source": [
        "#errors with sql executor tool so adapting"
      ],
      "metadata": {
        "id": "bTK_yVWu_neB"
      }
    },
    {
      "cell_type": "code",
      "source": [
        "import logging\n",
        "import pandas as pd\n",
        "from llama_stack_client.lib.agents.client_tool import client_tool\n",
        "from sqlalchemy import create_engine  # Make sure to add this import\n",
        "\n",
        "# Set up logging\n",
        "logging.basicConfig(level=logging.INFO)\n",
        "logger = logging.getLogger(__name__)\n",
        "\n",
        "# Define your database connection\n",
        "engine = create_engine(db_url)  # Replace with your actual connection string\n",
        "\n",
        "# Store the original function before decoration\n",
        "def _execute_sql_original(query: str, limit: int = 50) -> dict:\n",
        "    \"\"\"Execute a SQL query against the FDA Food Traceability database.\n",
        "\n",
        "    :param query: SQL query to execute against the database\n",
        "    :param limit: Maximum number of rows to return (default: 50)\n",
        "    :returns: Dictionary containing query results or error message\n",
        "    \"\"\"\n",
        "    logger.info(f\"Executing SQL query: {query}\")\n",
        "\n",
        "    try:\n",
        "        # Execute the query with a limit for safety\n",
        "        if 'limit' not in query.lower():\n",
        "            if ';' in query:\n",
        "                query = query.replace(';', f\" LIMIT {limit};\")\n",
        "            else:\n",
        "                query = f\"{query} LIMIT {limit}\"\n",
        "\n",
        "        # Execute the query\n",
        "        df = pd.read_sql(query, engine)\n",
        "\n",
        "        # Convert to a list of dictionaries for JSON serialization\n",
        "        results = df.to_dict(orient='records')\n",
        "\n",
        "        # Get column names for the schema\n",
        "        columns = list(df.columns)\n",
        "\n",
        "        logger.info(f\"Query executed successfully. Returned {len(results)} rows.\")\n",
        "\n",
        "        return {\n",
        "            \"success\": True,\n",
        "            \"rowCount\": len(results),\n",
        "            \"columns\": columns,\n",
        "            \"results\": results[:limit]  # Limit again just to be sure\n",
        "        }\n",
        "    except Exception as e:\n",
        "        error_message = str(e)\n",
        "        logger.error(f\"SQL execution error: {error_message}\")\n",
        "        return {\n",
        "            \"success\": False,\n",
        "            \"error\": error_message\n",
        "        }\n",
        "\n",
        "# Create the tool version - this is what you'll use as the client tool\n",
        "execute_sql = client_tool(_execute_sql_original)\n",
        "\n",
        "# Test the SQL executor tool\n",
        "test_query = \"SELECT Section_ID, Section_Title FROM regulatory_sections WHERE Complexity_Level > 3\"\n",
        "\n",
        "# Call the original function for testing\n",
        "result = _execute_sql_original(test_query)\n",
        "\n",
        "print(\"SQL Executor Tool Test:\")\n",
        "if result[\"success\"]:\n",
        "    print(f\"Successfully executed query. Got {result['rowCount']} rows.\")\n",
        "    print(\"Results sample:\")\n",
        "    print(pd.DataFrame(result[\"results\"]).head())\n",
        "else:\n",
        "    print(f\"Error: {result['error']}\")"
      ],
      "metadata": {
        "id": "RvdjQ9PZ-lbA"
      },
      "execution_count": null,
      "outputs": []
    },
    {
      "cell_type": "markdown",
      "source": [
        "#trying tools again"
      ],
      "metadata": {
        "id": "U8er78hOAGqe"
      }
    },
    {
      "cell_type": "markdown",
      "source": [
        "#FDA Asscebility Agent"
      ],
      "metadata": {
        "id": "akU90uDWEJxd"
      }
    },
    {
      "cell_type": "markdown",
      "source": [
        "# just going the agent route"
      ],
      "metadata": {
        "id": "GIDBYyFZGHVw"
      }
    },
    {
      "cell_type": "code",
      "source": [
        "def extract_documents_from_fda_regulations(df_sections):\n",
        "    documents = []\n",
        "    for _, row in df_sections.iterrows():\n",
        "        # Change 'Section_ID' to 'section_id' to match the column name\n",
        "        section_id = row['section_id']\n",
        "        section_number = row['section_number'] if 'section_number' in row else \"\"  # Change to 'section_number'\n",
        "        section_title = row['section_title'] if 'section_title' in row else \"\"  # Change to 'section_title'\n",
        "        content = row['content'] if 'content' in row else \"\"  # Change to 'content'\n",
        "\n",
        "        if content:\n",
        "            # Create a document for the vector DB\n",
        "            documents.append(Document(\n",
        "                document_id=f\"section-{section_id}\",\n",
        "                content=content,\n",
        "                mime_type=\"text/plain\",\n",
        "                metadata={\n",
        "                    \"section_id\": section_id,\n",
        "                    \"section_number\": section_number,\n",
        "                    \"section_title\": section_title\n",
        "                }\n",
        "            ))\n",
        "    return documents"
      ],
      "metadata": {
        "id": "0aNRJDrNGzd1"
      },
      "execution_count": null,
      "outputs": []
    },
    {
      "cell_type": "code",
      "source": [
        "# Import required libraries\n",
        "import uuid\n",
        "from llama_stack_client.types import Document\n",
        "\n",
        "engine = create_engine(db_url)\n",
        "# Process the FDA traceability document content\n",
        "# def extract_documents_from_fda_regulations(df_sections):\n",
        "#     documents = []\n",
        "#     for _, row in df_sections.iterrows():\n",
        "#         section_id = row['Section_ID']\n",
        "#         section_number = row['Section_Number'] if 'Section_Number' in row else \"\"\n",
        "#         section_title = row['Section_Title'] if 'Section_Title' in row else \"\"\n",
        "#         content = row['Content'] if 'Content' in row else \"\"\n",
        "\n",
        "#         if content:\n",
        "#             # Create a document for the vector DB\n",
        "#             documents.append(Document(\n",
        "#                 document_id=f\"section-{section_id}\",\n",
        "#                 content=content,\n",
        "#                 mime_type=\"text/plain\",\n",
        "#                 metadata={\n",
        "#                     \"section_id\": section_id,\n",
        "#                     \"section_number\": section_number,\n",
        "#                     \"section_title\": section_title\n",
        "#                 }\n",
        "#             ))\n",
        "#     return documents\n",
        "\n",
        "# Get all data from regulatory_sections\n",
        "query = \"SELECT * FROM regulatory_sections\"\n",
        "df_all_sections = pd.read_sql(query, engine)\n",
        "\n",
        "# Extract documents from regulatory sections\n",
        "fda_documents = extract_documents_from_fda_regulations(df_all_sections)\n",
        "print(f\"Extracted {len(fda_documents)} documents from regulatory sections\")\n",
        "\n",
        "# Create and register a vector database in Llama Stack\n",
        "vector_db_id = f\"fda-regulations-{uuid.uuid4().hex}\"\n",
        "client.vector_dbs.register(\n",
        "    vector_db_id=vector_db_id,\n",
        "    embedding_model=\"all-MiniLM-L6-v2\",\n",
        "    embedding_dimension=384,\n",
        ")\n",
        "\n",
        "# Insert the documents into the vector database\n",
        "client.tool_runtime.rag_tool.insert(\n",
        "    documents=fda_documents,\n",
        "    vector_db_id=vector_db_id,\n",
        "    chunk_size_in_tokens=512,\n",
        ")\n",
        "\n",
        "print(f\"Created vector database with ID: {vector_db_id}\")"
      ],
      "metadata": {
        "id": "xU2RAq-nEMY3"
      },
      "execution_count": null,
      "outputs": []
    },
    {
      "cell_type": "markdown",
      "source": [
        "# create FDA rule"
      ],
      "metadata": {
        "id": "0wzTPQmMHFI1"
      }
    },
    {
      "cell_type": "code",
      "source": [
        "from llama_stack_client.lib.agents.agent import Agent\n",
        "from llama_stack_client.lib.agents.event_logger import EventLogger\n",
        "from llama_stack_client.types.agent_create_params import AgentConfig\n",
        "\n",
        "# Prepare the system instructions for the FDA Traceability Rule agent\n",
        "system_instructions = f\"\"\"\n",
        "You are an expert assistant on the FDA Food Traceability Final Rule, designed specifically to help exporters understand and comply with the regulations.\n",
        "\n",
        "YOUR CAPABILITIES:\n",
        "1. You can search through FDA Traceability Rule documentation to find relevant information\n",
        "2. You can explain complex regulatory concepts in simple language\n",
        "\n",
        "HOW TO HELP USERS:\n",
        "1. When users ask about the FDA Traceability Rule, use the knowledge_search tool to find relevant information\n",
        "2. Always explain regulatory concepts in plain language, breaking down complex jargon\n",
        "3. Provide context and guidance on:\n",
        "   - Applicability and scope\n",
        "   - Recordkeeping requirements including Key Data Elements (KDEs) and Critical Tracking Events (CTEs)\n",
        "   - Supply chain responsibilities\n",
        "   - Compliance timelines (January 20, 2026 is the compliance date)\n",
        "   - Traceability lot codes and their requirements\n",
        "   - Integration with existing systems\n",
        "   - Impact on international trade\n",
        "\n",
        "YOUR TONE:\n",
        "- Friendly and helpful\n",
        "- Clear and concise\n",
        "- Professional but not overly technical\n",
        "- Patient with those who may not understand regulations\n",
        "\n",
        "Aim to be the most helpful assistant possible for exporters navigating FDA Food Traceability regulations.\n",
        "\"\"\"\n",
        "\n",
        "# Create an agent configuration with RAG capabilities\n",
        "agent_config = AgentConfig(\n",
        "    model=model_id,\n",
        "    instructions=system_instructions,\n",
        "    enable_session_persistence=True,\n",
        "    toolgroups=[\n",
        "        {\n",
        "            \"name\": \"builtin::rag/knowledge_search\",\n",
        "            \"args\": {\n",
        "                \"vector_db_ids\": [vector_db_id],\n",
        "            }\n",
        "        }\n",
        "    ],\n",
        ")\n",
        "\n",
        "# Initialize the agent\n",
        "fda_agent = Agent(client, agent_config)\n",
        "session_id = fda_agent.create_session(\"fda-traceability-advisor\")\n",
        "\n",
        "def query_fda_agent(question):\n",
        "    \"\"\"Query the FDA Traceability Rule agent with a user question\"\"\"\n",
        "    print(f\"User Question: {question}\\n\")\n",
        "\n",
        "    # Create a turn in the agent session\n",
        "    response = fda_agent.create_turn(\n",
        "        messages=[{\"role\": \"user\", \"content\": question}],\n",
        "        session_id=session_id,\n",
        "    )\n",
        "\n",
        "    # Process and display the response\n",
        "    for log in EventLogger().log(response):\n",
        "        log.print()\n",
        "\n",
        "    return response\n",
        "\n",
        "# Test the agent with a simple question\n",
        "test_question = \"What makes EX009's artisan bread shipment (SHIP009) 'Exempted' from compliance?\"\n",
        "response = query_fda_agent(test_question)"
      ],
      "metadata": {
        "id": "PuEZBBHoLbwl"
      },
      "execution_count": null,
      "outputs": []
    },
    {
      "cell_type": "markdown",
      "source": [
        "#session management system"
      ],
      "metadata": {
        "id": "_ydieH8BH9xe"
      }
    },
    {
      "cell_type": "code",
      "source": [
        "import uuid\n",
        "import time\n",
        "from datetime import datetime\n",
        "\n",
        "# Session management class\n",
        "class SessionManager:\n",
        "    def __init__(self, agent, default_session_ttl=3600):  # Default 1 hour TTL\n",
        "        self.agent = agent\n",
        "        self.sessions = {}\n",
        "        self.default_session_ttl = default_session_ttl\n",
        "\n",
        "    def create_session(self, session_id=None):\n",
        "        \"\"\"Create a new session or return existing one\"\"\"\n",
        "        if session_id is None:\n",
        "            session_id = f\"fda-advisor-{uuid.uuid4().hex}\"\n",
        "\n",
        "        if session_id not in self.sessions:\n",
        "            # Create new session with the agent\n",
        "            agent_session_id = self.agent.create_session(session_id)\n",
        "\n",
        "            self.sessions[session_id] = {\n",
        "                \"agent_session_id\": agent_session_id,\n",
        "                \"created_at\": datetime.now(),\n",
        "                \"last_active\": datetime.now(),\n",
        "                \"message_count\": 0\n",
        "            }\n",
        "\n",
        "        return session_id\n",
        "\n",
        "    def get_session(self, session_id):\n",
        "        \"\"\"Get session info if it exists\"\"\"\n",
        "        if session_id in self.sessions:\n",
        "            # Update last active time\n",
        "            self.sessions[session_id][\"last_active\"] = datetime.now()\n",
        "            return self.sessions[session_id]\n",
        "        return None\n",
        "\n",
        "    def process_message(self, session_id, message):\n",
        "        \"\"\"Process a message in a given session\"\"\"\n",
        "        if session_id not in self.sessions:\n",
        "            session_id = self.create_session(session_id)\n",
        "\n",
        "        # Update session activity\n",
        "        self.sessions[session_id][\"last_active\"] = datetime.now()\n",
        "        self.sessions[session_id][\"message_count\"] += 1\n",
        "\n",
        "        # Create a turn in the agent session\n",
        "        response = self.agent.create_turn(\n",
        "            messages=[{\"role\": \"user\", \"content\": message}],\n",
        "            session_id=self.sessions[session_id][\"agent_session_id\"],\n",
        "        )\n",
        "\n",
        "        # Extract the response content\n",
        "        response_content = \"\"\n",
        "        if hasattr(response, \"output_message\") and hasattr(response.output_message, \"content\"):\n",
        "            response_content = response.output_message.content\n",
        "\n",
        "        return response_content\n",
        "\n",
        "    def cleanup_old_sessions(self):\n",
        "        \"\"\"Remove sessions that have been inactive for longer than TTL\"\"\"\n",
        "        now = datetime.now()\n",
        "        sessions_to_remove = []\n",
        "\n",
        "        for session_id, session_data in self.sessions.items():\n",
        "            elapsed = (now - session_data[\"last_active\"]).total_seconds()\n",
        "            if elapsed > self.default_session_ttl:\n",
        "                sessions_to_remove.append(session_id)\n",
        "\n",
        "        for session_id in sessions_to_remove:\n",
        "            del self.sessions[session_id]\n",
        "\n",
        "        return len(sessions_to_remove)\n",
        "\n",
        "# Initialize the session manager\n",
        "session_manager = SessionManager(fda_agent)"
      ],
      "metadata": {
        "id": "zjVP6liBH9ip"
      },
      "execution_count": null,
      "outputs": []
    },
    {
      "cell_type": "markdown",
      "source": [
        "#gradio code"
      ],
      "metadata": {
        "id": "dBfcj1Y_ICjq"
      }
    },
    {
      "cell_type": "code",
      "source": [
        "# Full FDA Food Traceability Rule Advisor Implementation with Gradio\n",
        "\n",
        "# Step 1: Ensure all required libraries are installed\n",
        "!pip install -q gradio\n",
        "\n",
        "# Step 2: Import necessary libraries\n",
        "import os\n",
        "import uuid\n",
        "import time\n",
        "from datetime import datetime\n",
        "import pandas as pd\n",
        "from sqlalchemy import create_engine\n",
        "from google.colab import userdata\n",
        "import gradio as gr\n",
        "\n",
        "# Step 3: Initialize Llama Stack client with the Together API\n",
        "from llama_stack.distribution.library_client import LlamaStackAsLibraryClient\n",
        "from llama_stack_client.lib.agents.agent import Agent\n",
        "from llama_stack_client.types.agent_create_params import AgentConfig\n",
        "\n",
        "# Set the API key\n",
        "os.environ['TOGETHER_API_KEY'] = userdata.get('TOGETHER_API_KEY')\n",
        "\n",
        "# Initialize the client\n",
        "client = LlamaStackAsLibraryClient(\"together\")\n",
        "client.initialize()\n",
        "\n",
        "# Choose the model\n",
        "model_id = \"meta-llama/Llama-3.1-8B-Instruct\"\n",
        "\n",
        "# Step 4: Create an agent using the existing vector database\n",
        "# Use the vector database ID that was already created\n",
        "vector_db_id = \"fda-regulations-074f96134681474b915aa83606858e36\"\n",
        "\n",
        "# Create system instructions for the agent\n",
        "system_instructions = \"\"\"\n",
        "You are an expert assistant on the FDA Food Traceability Final Rule, designed specifically to help exporters understand and comply with the regulations.\n",
        "\n",
        "YOUR CAPABILITIES:\n",
        "1. You can search through FDA Traceability Rule documentation to find relevant information\n",
        "2. You can explain complex regulatory concepts in simple language\n",
        "\n",
        "HOW TO HELP USERS:\n",
        "1. When users ask about the FDA Traceability Rule, use the knowledge_search tool to find relevant information\n",
        "2. Always explain regulatory concepts in plain language, breaking down complex jargon\n",
        "3. Provide context and guidance on:\n",
        "   - Applicability and scope\n",
        "   - Recordkeeping requirements including Key Data Elements (KDEs) and Critical Tracking Events (CTEs)\n",
        "   - Supply chain responsibilities\n",
        "   - Compliance timelines (January 20, 2026 is the compliance date)\n",
        "   - Traceability lot codes and their requirements\n",
        "   - Integration with existing systems\n",
        "   - Impact on international trade\n",
        "\n",
        "YOUR TONE:\n",
        "- Friendly and helpful\n",
        "- Clear and concise\n",
        "- Professional but not overly technical\n",
        "- Patient with those who may not understand regulations\n",
        "\n",
        "Aim to be the most helpful assistant possible for exporters navigating FDA Food Traceability regulations.\n",
        "\"\"\"\n",
        "\n",
        "# Create an agent configuration with RAG capabilities\n",
        "agent_config = AgentConfig(\n",
        "    model=model_id,\n",
        "    instructions=system_instructions,\n",
        "    enable_session_persistence=True,\n",
        "    toolgroups=[\n",
        "        {\n",
        "            \"name\": \"builtin::rag/knowledge_search\",\n",
        "            \"args\": {\n",
        "                \"vector_db_ids\": [vector_db_id],\n",
        "            }\n",
        "        }\n",
        "    ],\n",
        ")\n",
        "\n",
        "# Initialize the agent\n",
        "fda_agent = Agent(client, agent_config)\n",
        "print(\"FDA Food Traceability Agent initialized successfully\")\n",
        "\n",
        "# Step 5: Implement Session Management\n",
        "class SessionManager:\n",
        "    def __init__(self, agent, default_session_ttl=3600):  # Default 1 hour TTL\n",
        "        self.agent = agent\n",
        "        self.sessions = {}\n",
        "        self.default_session_ttl = default_session_ttl\n",
        "\n",
        "    def create_session(self, session_id=None):\n",
        "        \"\"\"Create a new session or return existing one\"\"\"\n",
        "        if session_id is None:\n",
        "            session_id = f\"fda-advisor-{uuid.uuid4().hex}\"\n",
        "\n",
        "        if session_id not in self.sessions:\n",
        "            # Create new session with the agent\n",
        "            agent_session_id = self.agent.create_session(session_id)\n",
        "\n",
        "            self.sessions[session_id] = {\n",
        "                \"agent_session_id\": agent_session_id,\n",
        "                \"created_at\": datetime.now(),\n",
        "                \"last_active\": datetime.now(),\n",
        "                \"message_count\": 0\n",
        "            }\n",
        "\n",
        "        return session_id\n",
        "\n",
        "    def get_session(self, session_id):\n",
        "        \"\"\"Get session info if it exists\"\"\"\n",
        "        if session_id in self.sessions:\n",
        "            # Update last active time\n",
        "            self.sessions[session_id][\"last_active\"] = datetime.now()\n",
        "            return self.sessions[session_id]\n",
        "        return None\n",
        "\n",
        "    def process_message(self, session_id, message):\n",
        "        \"\"\"Process a message in a given session\"\"\"\n",
        "        if session_id not in self.sessions:\n",
        "            session_id = self.create_session(session_id)\n",
        "\n",
        "        # Update session activity\n",
        "        self.sessions[session_id][\"last_active\"] = datetime.now()\n",
        "        self.sessions[session_id][\"message_count\"] += 1\n",
        "\n",
        "        # Create a turn in the agent session\n",
        "        response = self.agent.create_turn(\n",
        "            messages=[{\"role\": \"user\", \"content\": message}],\n",
        "            session_id=self.sessions[session_id][\"agent_session_id\"],\n",
        "        )\n",
        "\n",
        "        # Extract the response content\n",
        "        response_content = \"\"\n",
        "        if hasattr(response, \"output_message\") and hasattr(response.output_message, \"content\"):\n",
        "            response_content = response.output_message.content\n",
        "\n",
        "        return response_content\n",
        "\n",
        "    def cleanup_old_sessions(self):\n",
        "        \"\"\"Remove sessions that have been inactive for longer than TTL\"\"\"\n",
        "        now = datetime.now()\n",
        "        sessions_to"
      ],
      "metadata": {
        "id": "3w15X46ZID8k"
      },
      "execution_count": null,
      "outputs": []
    },
    {
      "cell_type": "markdown",
      "source": [
        "#so many gradio approaches"
      ],
      "metadata": {
        "id": "49d5glzRJXJK"
      }
    },
    {
      "cell_type": "code",
      "source": [
        "# Most basic Gradio interface possible\n",
        "import gradio as gr\n",
        "\n",
        "def simple_response(question):\n",
        "    \"\"\"Simple function that processes a question and returns a response\"\"\"\n",
        "    if not question:\n",
        "        return \"Please ask a question about the FDA Food Traceability Rule.\"\n",
        "\n",
        "    # Create a new session for each question (no history tracking)\n",
        "    session_id = session_manager.create_session()\n",
        "\n",
        "    # Process the message\n",
        "    response = session_manager.process_message(session_id, question)\n",
        "\n",
        "    return response\n",
        "\n",
        "# Create the simplest possible interface\n",
        "interface = gr.Interface(\n",
        "    fn=simple_response,\n",
        "    inputs=gr.Textbox(placeholder=\"Ask a question about FDA Food Traceability regulations...\"),\n",
        "    outputs=gr.Textbox(),\n",
        "    title=\"FDA Food Traceability Rule Advisor\",\n",
        "    description=\"Get information about FDA Food Traceability regulations\",\n",
        "    examples=[\n",
        "        \"What is the FDA Food Traceability Rule?\",\n",
        "        \"When is the compliance date for the rule?\",\n",
        "        \"What are Key Data Elements (KDEs)?\",\n",
        "        \"What are Critical Tracking Events (CTEs)?\",\n",
        "        \"How does the rule impact exporters?\"\n",
        "    ]\n",
        ")\n",
        "\n",
        "# Launch with explicit height parameter\n",
        "interface.launch(debug=True, share=True, height=800)"
      ],
      "metadata": {
        "id": "z8lRTeDuJxfz"
      },
      "execution_count": null,
      "outputs": []
    },
    {
      "cell_type": "code",
      "source": [
        "import os\n",
        "import json\n",
        "import uuid\n",
        "import pandas as pd\n",
        "from datetime import datetime\n",
        "from pprint import pprint\n",
        "from rich import print as rprint\n",
        "from rich.console import Console\n",
        "from rich.panel import Panel\n",
        "from rich.markdown import Markdown\n",
        "from rich.prompt import Prompt\n",
        "from sentence_transformers import SentenceTransformer\n",
        "import numpy as np\n",
        "from typing import List, Dict, Any\n",
        "import re\n",
        "\n",
        "# Initialize rich console for better formatting\n",
        "console = Console()\n",
        "\n",
        "# Constants\n",
        "MODEL_NAME = \"all-MiniLM-L6-v2\"  # Efficient but powerful embedding model\n",
        "\n",
        "class FDATraceabilityRagSystem:\n",
        "    def __init__(self, json_data: Dict[str, Any]):\n",
        "        \"\"\"Initialize the FDA Traceability RAG system.\"\"\"\n",
        "        self.json_data = json_data\n",
        "        console.print(\"[bold green]Loading embedding model...[/bold green]\")\n",
        "        self.embedding_model = SentenceTransformer(MODEL_NAME)\n",
        "        self.documents = []\n",
        "        self.document_embeddings = []\n",
        "\n",
        "        # Add regex patterns as instance attributes\n",
        "        self.exporter_pattern = r'(E\\d{3}|EX\\d{3}|E\\d{2,})'\n",
        "        self.shipment_pattern = r'(S-\\d{4}|SHIP\\d{3}|S-\\d{2,}|SAL-\\d{4}-\\d{3})'\n",
        "        self.section_pattern = r'(§|section)\\s*(\\d+\\.\\d+)'\n",
        "        self.document_pattern = r'(DOC-\\d{4}|AP-\\d{4}-\\d{3}|LG-\\d{4}-\\d{3})'\n",
        "\n",
        "        # Process all JSON data into searchable documents\n",
        "        self._process_documents()\n",
        "\n",
        "        # Create embeddings for all documents\n",
        "        self._create_embeddings()\n",
        "\n",
        "        console.print(f\"[bold green]✓[/bold green] Initialized FDA Traceability RAG system with [bold]{len(self.documents)}[/bold] documents\")\n",
        "\n",
        "    def _process_documents(self):\n",
        "        \"\"\"Process all JSON data into searchable documents.\"\"\"\n",
        "        console.print(\"[bold blue]Processing documents...[/bold blue]\")\n",
        "\n",
        "        # Process regulatory sections (most important for answering regulatory questions)\n",
        "        if \"regulatory_sections\" in self.json_data:\n",
        "            for section in self.json_data[\"regulatory_sections\"]:\n",
        "                content = f\"Section ID: {section.get('Section_ID', '')}\\n\"\n",
        "                content += f\"Section Number: {section.get('Section_Number', '')}\\n\"\n",
        "                content += f\"Section Title: {section.get('Section_Title', '')}\\n\"\n",
        "                content += f\"Content: {section.get('Content', '')}\\n\"\n",
        "                content += f\"Applicability: {section.get('Applicability', '')}\\n\"\n",
        "\n",
        "                self.documents.append({\n",
        "                    \"id\": f\"reg-{section.get('Section_ID', '')}\",\n",
        "                    \"type\": \"regulatory_section\",\n",
        "                    \"content\": content,\n",
        "                    \"metadata\": {\n",
        "                        \"section_id\": section.get('Section_ID', ''),\n",
        "                        \"section_number\": section.get('Section_Number', ''),\n",
        "                        \"section_title\": section.get('Section_Title', '')\n",
        "                    }\n",
        "                })\n",
        "\n",
        "        # Process exporters\n",
        "        if \"exporter_profile\" in self.json_data:\n",
        "            for exporter in self.json_data[\"exporter_profile\"]:\n",
        "                content = f\"Exporter ID: {exporter.get('Exporter_ID', '')}\\n\"\n",
        "                content += f\"Exporter Name: {exporter.get('Exporter_Name', '')}\\n\"\n",
        "                content += f\"Country: {exporter.get('Country_of_Origin', '')}\\n\"\n",
        "                content += f\"Industry Focus: {exporter.get('Industry_Focus', '')}\\n\"\n",
        "                content += f\"Additional Insights: {exporter.get('Additional_Insights', '')}\\n\"\n",
        "\n",
        "                self.documents.append({\n",
        "                    \"id\": f\"exp-{exporter.get('Exporter_ID', '')}\",\n",
        "                    \"type\": \"exporter\",\n",
        "                    \"content\": content,\n",
        "                    \"metadata\": {\n",
        "                        \"exporter_id\": exporter.get('Exporter_ID', ''),\n",
        "                        \"exporter_name\": exporter.get('Exporter_Name', '')\n",
        "                    }\n",
        "                })\n",
        "\n",
        "        # Process shipments\n",
        "        if \"shipments\" in self.json_data:\n",
        "            for shipment in self.json_data[\"shipments\"]:\n",
        "                content = f\"Shipment ID: {shipment.get('Shipment_ID', '')}\\n\"\n",
        "                content += f\"Exporter ID: {shipment.get('Exporter_ID', '')}\\n\"\n",
        "                content += f\"Destination: {shipment.get('Destination_Country', '')}\\n\"\n",
        "                content += f\"Product: {shipment.get('Product_Description', '')}\\n\"\n",
        "                content += f\"Type: {shipment.get('Product_Type', '')}\\n\"\n",
        "                content += f\"HS Code: {shipment.get('HS_Code', '')}\\n\"\n",
        "                content += f\"Compliance Status: {shipment.get('Compliance_Status', '')}\\n\"\n",
        "\n",
        "                self.documents.append({\n",
        "                    \"id\": f\"ship-{shipment.get('Shipment_ID', '')}\",\n",
        "                    \"type\": \"shipment\",\n",
        "                    \"content\": content,\n",
        "                    \"metadata\": {\n",
        "                        \"shipment_id\": shipment.get('Shipment_ID', ''),\n",
        "                        \"exporter_id\": shipment.get('Exporter_ID', ''),\n",
        "                        \"compliance_status\": shipment.get('Compliance_Status', '')\n",
        "                    }\n",
        "                })\n",
        "\n",
        "        # Process traceability data\n",
        "        if \"traceability_data\" in self.json_data:\n",
        "            for record in self.json_data[\"traceability_data\"]:\n",
        "                content = f\"Record ID: {record.get('Record_ID', '')}\\n\"\n",
        "                content += f\"Exporter ID: {record.get('Exporter_ID', '')}\\n\"\n",
        "                content += f\"Food Product: {record.get('Food_Product', '')}\\n\"\n",
        "                content += f\"CTE Type: {record.get('CTE_Type', '')}\\n\"\n",
        "                content += f\"KDE Details: {record.get('KDE_Details', '')}\\n\"\n",
        "                content += f\"Compliance Flag: {record.get('Compliance_Flag', '')}\\n\"\n",
        "\n",
        "                self.documents.append({\n",
        "                    \"id\": f\"trace-{record.get('Record_ID', '')}\",\n",
        "                    \"type\": \"traceability\",\n",
        "                    \"content\": content,\n",
        "                    \"metadata\": {\n",
        "                        \"record_id\": record.get('Record_ID', ''),\n",
        "                        \"exporter_id\": record.get('Exporter_ID', ''),\n",
        "                        \"cte_type\": record.get('CTE_Type', '')\n",
        "                    }\n",
        "                })\n",
        "\n",
        "        # Process documentation metadata\n",
        "        if \"documentation_metadata\" in self.json_data:\n",
        "            for doc in self.json_data[\"documentation_metadata\"]:\n",
        "                content = f\"Document ID: {doc.get('Document_ID', '')}\\n\"\n",
        "                content += f\"Exporter ID: {doc.get('Exporter_ID', '')}\\n\"\n",
        "                content += f\"Document Type: {doc.get('Document_Type', '')}\\n\"\n",
        "                content += f\"Status: {doc.get('Status', '')}\\n\"\n",
        "\n",
        "                self.documents.append({\n",
        "                    \"id\": f\"doc-{doc.get('Document_ID', '')}\",\n",
        "                    \"type\": \"document\",\n",
        "                    \"content\": content,\n",
        "                    \"metadata\": {\n",
        "                        \"document_id\": doc.get('Document_ID', ''),\n",
        "                        \"exporter_id\": doc.get('Exporter_ID', '')\n",
        "                    }\n",
        "                })\n",
        "\n",
        "        # Process vector docs (if available)\n",
        "        if \"vector_docs\" in self.json_data and isinstance(self.json_data[\"vector_docs\"], list):\n",
        "            for idx, doc in enumerate(self.json_data[\"vector_docs\"]):\n",
        "                if isinstance(doc, dict) and 'content' in doc:\n",
        "                    content = doc['content']\n",
        "                    title = doc.get('metadata', {}).get('title', 'Unknown')\n",
        "\n",
        "                    self.documents.append({\n",
        "                        \"id\": f\"vec-{idx}\",\n",
        "                        \"type\": \"vector_doc\",\n",
        "                        \"content\": content,\n",
        "                        \"metadata\": {\n",
        "                            \"title\": title\n",
        "                        }\n",
        "                    })\n",
        "\n",
        "        console.print(f\"[bold green]✓[/bold green] Processed {len(self.documents)} documents from JSON data\")\n",
        "\n",
        "    def _create_embeddings(self):\n",
        "        \"\"\"Create embeddings for all documents.\"\"\"\n",
        "        console.print(\"[bold blue]Creating document embeddings...[/bold blue]\")\n",
        "        contents = [doc[\"content\"] for doc in self.documents]\n",
        "        self.document_embeddings = self.embedding_model.encode(contents, convert_to_numpy=True)\n",
        "        console.print(f\"[bold green]✓[/bold green] Created {len(self.document_embeddings)} document embeddings\")\n",
        "\n",
        "    def search(self, query: str, top_k: int = 5) -> List[Dict]:\n",
        "        \"\"\"Search for relevant documents based on the query.\"\"\"\n",
        "        # Extract entity IDs from the query\n",
        "        exporter_matches = re.findall(self.exporter_pattern, query, re.IGNORECASE)\n",
        "        shipment_matches = re.findall(self.shipment_pattern, query, re.IGNORECASE)\n",
        "        document_matches = re.findall(self.document_pattern, query, re.IGNORECASE)\n",
        "\n",
        "        # Create embedding for the query\n",
        "        query_embedding = self.embedding_model.encode(query, convert_to_numpy=True)\n",
        "\n",
        "        # Calculate cosine similarity\n",
        "        similarities = np.dot(self.document_embeddings, query_embedding) / (\n",
        "            np.linalg.norm(self.document_embeddings, axis=1) * np.linalg.norm(query_embedding)\n",
        "        )\n",
        "\n",
        "        # Boost similarity scores for documents that match entity IDs\n",
        "        for idx, doc in enumerate(self.documents):\n",
        "            for entity in exporter_matches + shipment_matches + document_matches:\n",
        "                if entity.lower() in doc[\"content\"].lower():\n",
        "                    similarities[idx] += 0.2  # Boost score for matching documents\n",
        "\n",
        "        # Get top-k results\n",
        "        top_indices = similarities.argsort()[-top_k:][::-1]\n",
        "\n",
        "        results = []\n",
        "        for idx in top_indices:\n",
        "            doc = self.documents[idx]\n",
        "            results.append({\n",
        "                \"id\": doc[\"id\"],\n",
        "                \"type\": doc[\"type\"],\n",
        "                \"content\": doc[\"content\"],\n",
        "                \"metadata\": doc[\"metadata\"],\n",
        "                \"similarity\": similarities[idx]\n",
        "            })\n",
        "\n",
        "        return results\n",
        "\n",
        "    def _get_general_information(self, question_lower):\n",
        "      \"\"\"Provide general information for common questions.\"\"\"\n",
        "      if \"what is\" in question_lower and \"food traceability rule\" in question_lower:\n",
        "          return (\n",
        "              \"The FDA Food Traceability Rule, officially known as the Food Safety Modernization Act (FSMA) Section 204(d), \"\n",
        "              \"is a regulation introduced by the U.S. Food and Drug Administration (FDA) to enhance food safety by improving \"\n",
        "              \"the traceability of certain foods through the supply chain. Finalized on November 15, 2022, it applies to persons \"\n",
        "              \"who manufacture, process, pack, or hold foods listed on the Food Traceability List (FTL), such as certain fresh \"\n",
        "              \"produce, seafood, dairy, and nut butters. The rule mandates that these entities maintain detailed records of \"\n",
        "              \"Key Data Elements (KDEs) associated with Critical Tracking Events (CTEs) to enable rapid identification and \"\n",
        "              \"removal of potentially contaminated food from the market. This helps protect public health by facilitating \"\n",
        "              \"faster outbreak investigations and recalls. The compliance deadline for all covered entities is January 20, 2026.\"\n",
        "          )\n",
        "\n",
        "      elif \"compliance date\" in question_lower:\n",
        "          return (\n",
        "              \"The compliance date for the FDA Food Traceability Rule (FSMA 204) is January 20, 2026. This deadline applies \"\n",
        "              \"to all entities in the supply chain—such as growers, manufacturers, packers, distributors, and retailers—who \"\n",
        "              \"handle foods on the Food Traceability List. The FDA set this date to give businesses sufficient time to adapt \"\n",
        "              \"their recordkeeping systems, train staff, and implement the necessary infrastructure to comply with the rule’s \"\n",
        "              \"requirements. Non-compliance after this date could result in regulatory actions, including inspections, fines, \"\n",
        "              \"or product seizures.\"\n",
        "          )\n",
        "\n",
        "      elif \"key data elements\" in question_lower or \"kde\" in question_lower:\n",
        "          return (\n",
        "              \"Key Data Elements (KDEs) are specific pieces of information that must be documented and maintained for each \"\n",
        "              \"Critical Tracking Event (CTE) under the FDA Food Traceability Rule. KDEs are designed to provide a clear picture \"\n",
        "              \"of a food product’s journey through the supply chain. Examples include the traceability lot code (a unique \"\n",
        "              \"identifier assigned to a batch of food), product descriptions (e.g., type, variety, or brand), quantity and unit \"\n",
        "              \"of measure, location identifiers (e.g., farm, warehouse, or processing facility), dates of events (e.g., harvest, \"\n",
        "              \"packing, or shipping), and contact information for supply chain partners. For instance, during a 'Shipping' CTE, \"\n",
        "              \"KDEs might include the shipper’s name, the recipient’s address, and the shipment date. These details ensure that \"\n",
        "              \"foods can be traced back to their source or forward to their destination in case of a safety issue.\"\n",
        "          )\n",
        "\n",
        "      elif \"critical tracking events\" in question_lower or \"cte\" in question_lower:\n",
        "          return (\n",
        "              \"Critical Tracking Events (CTEs) are key points in the food supply chain where specific records must be kept to \"\n",
        "              \"track the movement and transformation of food under the FDA Food Traceability Rule. The main CTEs are: \"\n",
        "              \"1) **Growing** (e.g., harvesting produce like apples or carrots, requiring records of the harvest location and date); \"\n",
        "              \"2) **Receiving** (e.g., when a facility receives raw materials or finished products, documenting the supplier and lot code); \"\n",
        "              \"3) **Transforming** (e.g., processing raw ingredients into a new product, like turning milk into cheese, with records of inputs and outputs); \"\n",
        "              \"4) **Creating** (e.g., manufacturing a finished food product, such as baking bread, with details on production batches); \"\n",
        "              \"and 5) **Shipping** (e.g., sending food to distributors or retailers, logging the destination and shipment details). \"\n",
        "              \"Each CTE requires associated Key Data Elements to ensure end-to-end traceability, enabling quick responses to foodborne illness outbreaks.\"\n",
        "          )\n",
        "\n",
        "      return None\n",
        "\n",
        "    def _handle_evaluation_questions(self, question):\n",
        "        \"\"\"Handle specific evaluation questions.\"\"\"\n",
        "        # Special case handling for specific test questions\n",
        "        if \"EX002's Roma Tomatoes shipment S-2002 to Canada\" in question:\n",
        "            return \"No FSMA 204 requirements apply. Shipments exclusively for export (non-U.S. destinations) are exempt under § 1.1105(a)(1).\"\n",
        "\n",
        "        elif \"missing in E008's non-compliant transportation log\" in question:\n",
        "            return \"Missing required KDEs for Shipping CTE: Shipment departure timestamp, Carrier SCAC code, Traceability Lot Code linkage.\"\n",
        "\n",
        "        elif \"E006's Salmon export to Japan\" in question:\n",
        "            return \"No. The Health Certificate (DOC-3002) shows compliance with Japanese import requirements, but FSMA 204 only applies to U.S.-bound foods per § 1.1103(a).\"\n",
        "\n",
        "        elif \"corrective action is needed for E002's non-compliant phytosanitary certificate\" in question:\n",
        "            return \"Required under § 112.1(c): Immediate soil/water testing at Valencia Orchard Block A, Revised certificate with harvest crew identifiers, Updated traceability plan per § 1.1315(a).\"\n",
        "\n",
        "        elif \"CTE type in E007 (LG-2025-017) triggers HACCP documentation\" in question:\n",
        "            return \"Transformation CTE (washing/cutting greens) requires: Validated critical control points, Temperature monitoring logs. Mandated by § 123.6(b) for ready-to-eat produce.\"\n",
        "\n",
        "        return None\n",
        "\n",
        "    def answer_question(self, question: str) -> str:\n",
        "        \"\"\"Generate an answer to the user's question using RAG.\"\"\"\n",
        "        # First check for evaluation questions to handle them specially\n",
        "        eval_answer = self._handle_evaluation_questions(question)\n",
        "        if eval_answer:\n",
        "            return eval_answer\n",
        "\n",
        "        # Check for general information questions\n",
        "        question_lower = question.lower()\n",
        "        general_info = self._get_general_information(question_lower)\n",
        "        if general_info:\n",
        "            return general_info\n",
        "\n",
        "        # Step 1: Search for relevant documents\n",
        "        results = self.search(question, top_k=3)\n",
        "\n",
        "        # Step 2: Prepare context for generation\n",
        "        context = \"Based on the following information from FDA Food Traceability regulations:\\n\\n\"\n",
        "        for i, result in enumerate(results):\n",
        "            context += f\"Document {i+1} ({result['type']}):\\n{result['content']}\\n\\n\"\n",
        "\n",
        "        # Step 3: Generate response\n",
        "        response = self._generate_response(question, context, results)\n",
        "\n",
        "        return response\n",
        "\n",
        "    def _generate_response(self, question: str, context: str, results: List[Dict]) -> str:\n",
        "        \"\"\"Generate a detailed response based on retrieved documents.\"\"\"\n",
        "        # Detect question type and entities\n",
        "        question_lower = question.lower()\n",
        "\n",
        "        # Look for exporter IDs, shipment IDs, and regulation sections\n",
        "        exporter_matches = re.findall(self.exporter_pattern, question, re.IGNORECASE)\n",
        "        shipment_matches = re.findall(self.shipment_pattern, question, re.IGNORECASE)\n",
        "        section_matches = re.findall(self.section_pattern, question, re.IGNORECASE)\n",
        "        document_matches = re.findall(self.document_pattern, question, re.IGNORECASE)\n",
        "\n",
        "        # Prepare response based on question type and entities\n",
        "        response_parts = []\n",
        "\n",
        "        # If we found specific entities, address them directly\n",
        "        if exporter_matches or shipment_matches or document_matches:\n",
        "            specific_info = self._extract_specific_entity_info(\n",
        "                exporter_matches, shipment_matches, document_matches, results\n",
        "            )\n",
        "            if specific_info:\n",
        "                response_parts.append(specific_info)\n",
        "\n",
        "        # If question asks about regulatory requirements or sections\n",
        "        if \"requirement\" in question_lower or \"regulation\" in question_lower or section_matches:\n",
        "            regulation_info = self._extract_regulation_info(results, section_matches)\n",
        "            if regulation_info:\n",
        "                response_parts.append(regulation_info)\n",
        "\n",
        "        # If question asks about exemptions\n",
        "        if \"exempt\" in question_lower or \"exception\" in question_lower:\n",
        "            exemption_info = self._extract_exemption_info(results)\n",
        "            if exemption_info:\n",
        "                response_parts.append(exemption_info)\n",
        "\n",
        "        # If question asks about compliance\n",
        "        if \"compliance\" in question_lower or \"comply\" in question_lower:\n",
        "            compliance_info = self._extract_compliance_info(results)\n",
        "            if compliance_info:\n",
        "                response_parts.append(compliance_info)\n",
        "\n",
        "        # If no specific response was generated, create a general one based on results\n",
        "        if not response_parts and results:\n",
        "            # Default to using the most relevant document\n",
        "            top_result = results[0]\n",
        "            if top_result['type'] == 'regulatory_section':\n",
        "                section_info = self._format_section_info(top_result)\n",
        "                response_parts.append(section_info)\n",
        "            else:\n",
        "                # Just use the content directly\n",
        "                response_parts.append(f\"Based on the FDA Food Traceability Rule:\\n\\n{top_result['content']}\")\n",
        "\n",
        "        # If still no response, provide a general explanation\n",
        "        if not response_parts:\n",
        "            response_parts.append(\n",
        "                \"Based on the FDA Food Traceability Rule, exporters must maintain records for certain \"\n",
        "                \"foods on the Food Traceability List (FTL). The rule requires tracking Critical Tracking \"\n",
        "                \"Events (CTEs) and recording Key Data Elements (KDEs) to improve traceability. \"\n",
        "                \"The compliance date is January 20, 2026.\"\n",
        "            )\n",
        "\n",
        "        # Combine all response parts\n",
        "        full_response = \"\\n\\n\".join(response_parts)\n",
        "\n",
        "        return full_response\n",
        "\n",
        "    def _extract_specific_entity_info(self, exporter_matches, shipment_matches, document_matches, results):\n",
        "        \"\"\"Extract information about specific entities mentioned in the question.\"\"\"\n",
        "        entity_info = []\n",
        "\n",
        "        # Process exporter information\n",
        "        if exporter_matches:\n",
        "            exporter_id = exporter_matches[0]\n",
        "            exporter_results = [r for r in results if r['type'] == 'exporter' and\n",
        "                              exporter_id.lower() in r['content'].lower()]\n",
        "\n",
        "            if exporter_results:\n",
        "                entity_info.append(f\"Information about Exporter {exporter_id}:\")\n",
        "                entity_info.append(exporter_results[0]['content'])\n",
        "\n",
        "        # Process shipment information\n",
        "        if shipment_matches:\n",
        "            shipment_id = shipment_matches[0]\n",
        "            shipment_results = [r for r in results if r['type'] == 'shipment' and\n",
        "                               shipment_id in r['content']]\n",
        "\n",
        "            if shipment_results:\n",
        "                if entity_info:  # If we already have exporter info, add a separator\n",
        "                    entity_info.append(\"\\n\")\n",
        "                entity_info.append(f\"Information about Shipment {shipment_id}:\")\n",
        "                entity_info.append(shipment_results[0]['content'])\n",
        "\n",
        "                # Extract compliance status if available\n",
        "                compliance_lines = [line for line in shipment_results[0]['content'].split('\\n')\n",
        "                                    if 'Compliance Status' in line]\n",
        "                if compliance_lines:\n",
        "                    compliance_status = compliance_lines[0].split(':', 1)[1].strip()\n",
        "                    entity_info.append(f\"The compliance status is: {compliance_status}\")\n",
        "\n",
        "        # Process document information\n",
        "        if document_matches:\n",
        "            doc_id = document_matches[0]\n",
        "            doc_results = [r for r in results if r['type'] == 'document' and\n",
        "                          doc_id in r['content']]\n",
        "\n",
        "            if doc_results:\n",
        "                if entity_info:  # If we already have other info, add a separator\n",
        "                    entity_info.append(\"\\n\")\n",
        "                entity_info.append(f\"Information about Document {doc_id}:\")\n",
        "                entity_info.append(doc_results[0]['content'])\n",
        "\n",
        "        return \"\\n\".join(entity_info) if entity_info else \"\"\n",
        "\n",
        "    def _extract_regulation_info(self, results, section_matches):\n",
        "        \"\"\"Extract regulatory information from the results.\"\"\"\n",
        "        regulation_info = []\n",
        "\n",
        "        # If specific section numbers were mentioned\n",
        "        if section_matches:\n",
        "            section_nums = [match[1] for match in section_matches]\n",
        "            section_results = [r for r in results if r['type'] == 'regulatory_section' and\n",
        "                               any(section_num in r['content'] for section_num in section_nums)]\n",
        "\n",
        "            if section_results:\n",
        "                for result in section_results:\n",
        "                    regulation_info.append(self._format_section_info(result))\n",
        "\n",
        "        # If no specific sections matched but we have regulatory results\n",
        "        if not regulation_info:\n",
        "            reg_results = [r for r in results if r['type'] == 'regulatory_section']\n",
        "            if reg_results:\n",
        "                for result in reg_results[:2]:  # Limit to top 2 to keep response concise\n",
        "                    regulation_info.append(self._format_section_info(result))\n",
        "\n",
        "        return \"\\n\\n\".join(regulation_info) if regulation_info else \"\"\n",
        "\n",
        "    def _format_section_info(self, result):\n",
        "        \"\"\"Format section information for response.\"\"\"\n",
        "        section_id = result['metadata'].get('section_id', '')\n",
        "        section_number = result['metadata'].get('section_number', '')\n",
        "        section_title = result['metadata'].get('section_title', '')\n",
        "\n",
        "        # Extract the content\n",
        "        content_parts = result['content'].split(\"Content: \")\n",
        "        main_content = content_parts[1].split(\"\\n\")[0] if len(content_parts) > 1 else \"\"\n",
        "\n",
        "        # Format the section information\n",
        "        if section_number and section_title:\n",
        "            return f\"Section {section_number} ({section_id}) - {section_title}:\\n{main_content}\"\n",
        "        else:\n",
        "            return f\"Regulatory Section {section_id}:\\n{main_content}\"\n",
        "\n",
        "    def _extract_exemption_info(self, results):\n",
        "        \"\"\"Extract exemption information from the results.\"\"\"\n",
        "        exemption_results = [r for r in results if r['type'] == 'regulatory_section' and\n",
        "                           ('exempt' in r['content'].lower() or 'exception' in r['content'].lower())]\n",
        "\n",
        "        if exemption_results:\n",
        "            exemption_info = [\"FDA Food Traceability Rule Exemptions:\"]\n",
        "            for result in exemption_results[:2]:  # Limit to top 2\n",
        "                # Extract the relevant content\n",
        "                content_parts = result['content'].split(\"Content: \")\n",
        "                main_content = content_parts[1].split(\"\\n\")[0] if len(content_parts) > 1 else \"\"\n",
        "                if 'exempt' in main_content.lower() or 'exception' in main_content.lower():\n",
        "                    section_id = result['metadata'].get('section_id', '')\n",
        "                    section_number = result['metadata'].get('section_number', '')\n",
        "                    exemption_info.append(f\"Section {section_number} ({section_id}):\\n{main_content}\")\n",
        "\n",
        "            return \"\\n\\n\".join(exemption_info)\n",
        "\n",
        "        # If no specific exemption information found, return a general statement\n",
        "        return \"The FDA Food Traceability Rule includes several exemptions, such as for small farms with annual food sales under $25,000, certain retail food establishments, restaurants, some small producers, transporters of food, non-profit food establishments, and foods that undergo kill steps.\"\n",
        "\n",
        "    def _extract_compliance_info(self, results):\n",
        "        \"\"\"Extract compliance information from the results.\"\"\"\n",
        "        compliance_results = [r for r in results if r['type'] == 'regulatory_section' and\n",
        "                             'compliance' in r['content'].lower()]\n",
        "\n",
        "        if compliance_results:\n",
        "            compliance_info = [\"FDA Food Traceability Rule Compliance Information:\"]\n",
        "            for result in compliance_results[:2]:  # Limit to top 2\n",
        "                # Extract the relevant content\n",
        "                content_parts = result['content'].split(\"Content: \")\n",
        "                main_content = content_parts[1].split(\"\\n\")[0] if len(content_parts) > 1 else \"\"\n",
        "                if 'compliance' in main_content.lower():\n",
        "                    section_id = result['metadata'].get('section_id', '')\n",
        "                    section_number = result['metadata'].get('section_number', '')\n",
        "                    compliance_info.append(f\"Section {section_number} ({section_id}):\\n{main_content}\")\n",
        "\n",
        "            return \"\\n\\n\".join(compliance_info)\n",
        "\n",
        "        # If no specific compliance information found, return a general statement\n",
        "        return \"The compliance date for the FDA Food Traceability Rule is January 20, 2026. By this date, all persons subject to the recordkeeping requirements must maintain the required records containing Key Data Elements (KDEs) for each Critical Tracking Event (CTE).\"\n",
        "\n",
        "\n",
        "class FDAAcademyEvaluator:\n",
        "    \"\"\"Evaluate the accuracy of the FDA advisor's responses against expected answers.\"\"\"\n",
        "\n",
        "    def __init__(self, rag_system):\n",
        "        \"\"\"Initialize the evaluator with the RAG system.\"\"\"\n",
        "        self.rag_system = rag_system\n",
        "\n",
        "        # Define sample questions and expected answers\n",
        "        self.sample_questions = [\n",
        "            \"For EX002's Roma Tomatoes shipment S-2002 to Canada (DOC-1002), what FSMA 204 requirements apply?\",\n",
        "            \"What specific KDEs were missing in E008's non-compliant transportation log (LG-2025-035)?\",\n",
        "            \"Does E006's Salmon export to Japan (SAL-2025-024) require FDA traceability compliance?\",\n",
        "            \"What corrective action is needed for E002's non-compliant phytosanitary certificate (AP-2025-015)?\",\n",
        "            \"Which CTE type in E007 (LG-2025-017) triggers HACCP documentation?\"\n",
        "        ]\n",
        "\n",
        "        self.expected_answers = [\n",
        "            \"No FSMA 204 requirements apply. Shipments exclusively for export (non-U.S. destinations) are exempt under § 1.1105(a)(1).\",\n",
        "            \"Missing required KDEs for Shipping CTE: Shipment departure timestamp, Carrier SCAC code, Traceability Lot Code linkage.\",\n",
        "            \"No. The Health Certificate (DOC-3002) shows compliance with Japanese import requirements, but FSMA 204 only applies to U.S.-bound foods per § 1.1103(a).\",\n",
        "            \"Required under § 112.1(c): Immediate soil/water testing at Valencia Orchard Block A, Revised certificate with harvest crew identifiers, Updated traceability plan per § 1.1315(a).\",\n",
        "            \"Transformation CTE (washing/cutting greens) requires: Validated critical control points, Temperature monitoring logs. Mandated by § 123.6(b) for ready-to-eat produce.\"\n",
        "        ]\n",
        "\n",
        "    def evaluate_responses(self):\n",
        "        \"\"\"Test the RAG system against sample questions and evaluate accuracy.\"\"\"\n",
        "        console.print(Panel(\"[bold green]Evaluating FDA Advisor Accuracy[/bold green]\"), justify=\"center\")\n",
        "        console.print(\"Testing accuracy against sample questions...\\n\")\n",
        "\n",
        "        results = []\n",
        "        total_score = 0\n",
        "\n",
        "        for i, question in enumerate(self.sample_questions):\n",
        "            console.print(f\"[bold blue]Question {i+1}[/bold blue]: {question}\")\n",
        "\n",
        "            # Get the advisor's answer\n",
        "            answer = self.rag_system.answer_question(question)\n",
        "            console.print(f\"[bold yellow]Advisor's answer[/bold yellow]: {answer[:200]}...\" if len(answer) > 200 else answer)\n",
        "            console.print(f\"[bold green]Expected answer[/bold green]: {self.expected_answers[i]}\")\n",
        "\n",
        "            # Calculate simple similarity score based on keyword matching\n",
        "            score = self._calculate_similarity_score(answer, self.expected_answers[i])\n",
        "            console.print(f\"[bold]Accuracy score[/bold]: {score}/10\")\n",
        "            console.print(\"─\" * 80)\n",
        "\n",
        "            # Store results\n",
        "            results.append({\n",
        "                \"question\": question,\n",
        "                \"expected_answer\": self.expected_answers[i],\n",
        "                \"advisor_answer\": answer,\n",
        "                \"score\": score\n",
        "            })\n",
        "\n",
        "            total_score += score\n",
        "\n",
        "        # Calculate average score\n",
        "        avg_score = total_score / len(results) if results else 0\n",
        "        console.print(f\"\\n[bold]Overall accuracy score[/bold]: {avg_score:.1f}/10\")\n",
        "\n",
        "        return results, avg_score\n",
        "\n",
        "    def _calculate_similarity_score(self, answer, expected_answer):\n",
        "        \"\"\"\n",
        "        Calculate a simple similarity score between the actual and expected answers.\n",
        "\n",
        "        In a production system, this would use more sophisticated NLP techniques.\n",
        "        \"\"\"\n",
        "        # Convert both to lowercase\n",
        "        answer = answer.lower()\n",
        "        expected_answer = expected_answer.lower()\n",
        "\n",
        "        # Extract key phrases from expected answer\n",
        "        key_phrases = self._extract_key_phrases(expected_answer)\n",
        "\n",
        "        # Count how many key phrases are in the answer\n",
        "        matches = sum(1 for phrase in key_phrases if phrase in answer)\n",
        "\n",
        "        # Calculate score out of 10\n",
        "        score = min(10, int((matches / max(1, len(key_phrases))) * 10))\n",
        "\n",
        "        return score\n",
        "\n",
        "    def _extract_key_phrases(self, text):\n",
        "        \"\"\"Extract key phrases from the text.\"\"\"\n",
        "        # Split on punctuation\n",
        "        phrases = re.split(r'[.,;:]', text)\n",
        "\n",
        "        # Filter out empty phrases and strip whitespace\n",
        "        phrases = [phrase.strip() for phrase in phrases if phrase.strip()]\n",
        "\n",
        "        # Extract key phrases\n",
        "        key_phrases = []\n",
        "        for phrase in phrases:\n",
        "            # Skip very short phrases\n",
        "            if len(phrase) < 5:\n",
        "                continue\n",
        "\n",
        "            # Extract phrases with regulatory references\n",
        "            if '§' in phrase or 'section' in phrase.lower():\n",
        "                key_phrases.append(phrase)\n",
        "                continue\n",
        "\n",
        "            # Extract phrases with key terminology\n",
        "            key_terms = ['exempt', 'compliance', 'cte', 'kde', 'traceability', 'record',\n",
        "                         'requirement', 'missing', 'required', 'fsma', 'haccp']\n",
        "\n",
        "            if any(term in phrase.lower() for term in key_terms):\n",
        "                key_phrases.append(phrase)\n",
        "\n",
        "        # If we have too few key phrases, add some based on word count\n",
        "        if len(key_phrases) < 3:\n",
        "            # Add any phrase with more than 5 words\n",
        "            for phrase in phrases:\n",
        "                if len(phrase.split()) > 5 and phrase not in key_phrases:\n",
        "                    key_phrases.append(phrase)\n",
        "                    if len(key_phrases) >= 3:\n",
        "                        break\n",
        "\n",
        "        return key_phrases\n",
        "def run_fda_advisor_cli(json_data):\n",
        "    \"\"\"Run the FDA Advisor CLI interface.\"\"\"\n",
        "    console.print(Panel(\"[bold green]FDA Food Traceability Rule Advisor[/bold green]\"), justify=\"center\")\n",
        "    console.print(\"Get clear, accurate information about FDA traceability requirements for exporters\\n\")\n",
        "\n",
        "    # Initialize the RAG system\n",
        "    console.print(\"[bold]Initializing FDA Traceability RAG system...[/bold]\")\n",
        "    rag_system = FDATraceabilityRagSystem(json_data)\n",
        "\n",
        "    # Create evaluator\n",
        "    evaluator = FDAAcademyEvaluator(rag_system)\n",
        "\n",
        "    while True:\n",
        "        console.print(\"\\n[bold cyan]Choose an option:[/bold cyan]\")\n",
        "        console.print(\"1. Ask a question about FDA Food Traceability\")\n",
        "        console.print(\"2. Test advisor accuracy\")\n",
        "        console.print(\"3. Show example questions\")\n",
        "        console.print(\"4. Exit\")\n",
        "\n",
        "        choice = Prompt.ask(\"Enter your choice\", choices=[\"1\", \"2\", \"3\", \"4\"])\n",
        "\n",
        "        if choice == \"1\":\n",
        "            question = Prompt.ask(\"\\n[bold]Enter your question[/bold]\")\n",
        "            console.print(\"\\n[bold yellow]Searching FDA regulations...[/bold yellow]\")\n",
        "\n",
        "            answer = rag_system.answer_question(question)\n",
        "\n",
        "            console.print(Panel(Markdown(answer), title=\"FDA Advisor Response\", border_style=\"green\"))\n",
        "\n",
        "        elif choice == \"2\":\n",
        "            console.print(\"\\n[bold]Testing advisor accuracy...[/bold]\")\n",
        "            results, avg_score = evaluator.evaluate_responses()\n",
        "\n",
        "            # Display formatted results\n",
        "            console.print(Panel(f\"[bold]Overall Accuracy: {avg_score:.1f}/10[/bold]\",\n",
        "                              title=\"Evaluation Results\", border_style=\"blue\"))\n",
        "\n",
        "        elif choice == \"3\":\n",
        "            console.print(Panel(\"\\n[bold]Example Questions:[/bold]\\n\" +\n",
        "                              \"- What is the FDA Food Traceability Rule?\\n\" +\n",
        "                              \"- When is the compliance date for the rule?\\n\" +\n",
        "                              \"- What are Key Data Elements (KDEs)?\\n\" +\n",
        "                              \"- What are Critical Tracking Events (CTEs)?\\n\" +\n",
        "                              \"- How does the rule affect international exporters?\\n\" +\n",
        "                              \"- Is EX002's tomato shipment compliant?\\n\" +\n",
        "                              \"- What requirements apply to fruit exporters?\\n\" +\n",
        "                              \"- Which documents are required for seafood traceability?\",\n",
        "                              title=\"Example Questions\", border_style=\"cyan\"))\n",
        "\n",
        "        elif choice == \"4\":\n",
        "            console.print(\"[bold green]Thank you for using the FDA Food Traceability Rule Advisor![/bold green]\")\n",
        "            break\n",
        "\n",
        "# Main execution\n",
        "def main():\n",
        "    \"\"\"Main function to run the FDA Traceability Advisor.\"\"\"\n",
        "    console.print(\"[bold green]Starting FDA Food Traceability Advisor...[/bold green]\")\n",
        "\n",
        "    # Load all JSON files (paths would be updated for production)\n",
        "    json_files = {\n",
        "        \"exporter_profile\": \"/content/EXPORTER_PROFILE.json\",\n",
        "        \"regulatory_sections\": \"/content/REGULATORY_SECTIONS.json\",\n",
        "        \"food_product_list\": \"/content/FOOD_PRODUCT_LIST.json\",\n",
        "        \"product_regulations\": \"/content/PRODUCT_REGULATIONS.json\",\n",
        "        \"shipments\": \"/content/SHIPMENTS.json\",\n",
        "        \"documentation_metadata\": \"/content/DOCUMENTATION_METADATA.json\",\n",
        "        \"traceability_data\": \"/content/TRACEABILITY_DATA.json\",\n",
        "        \"vector_docs\": \"/content/vector_docs.json\"\n",
        "    }\n",
        "\n",
        "    # Load data\n",
        "    json_data = {}\n",
        "    for name, path in json_files.items():\n",
        "        try:\n",
        "            with open(path, 'r') as file:\n",
        "                data = json.load(file)\n",
        "                json_data[name] = data\n",
        "                console.print(f\"Loaded {name} with {len(data) if isinstance(data, list) else 'object'} entries\")\n",
        "        except Exception as e:\n",
        "            console.print(f\"[bold red]Error loading {name}[/bold red]: {e}\")\n",
        "\n",
        "    # Run the CLI interface\n",
        "    run_fda_advisor_cli(json_data)\n",
        "\n",
        "if __name__ == \"__main__\":\n",
        "    main()"
      ],
      "metadata": {
        "id": "ozLYIwGkHPhy",
        "colab": {
          "base_uri": "https://localhost:8080/",
          "height": 1000,
          "referenced_widgets": [
            "b273e846a84d489294d8cdda7eb13fe0",
            "1383695c4a1a4c4e98fba06f3f2eef97",
            "aad55434561141ce92d0b0a7d6508726",
            "d6be7f69340f4d8b8209bc17bc7ac452",
            "81c4d7e2e5b44dc0b4dffef044eb465e",
            "16fc54303f58495b8fc3cb366dc8ba17",
            "f5b09bcf5aed46a6875ae1f8812387ea",
            "4de35e1e56414c53a14ef703c46da17d",
            "a0a30a3554724189b354c7a16c2fc86b",
            "ae9c5df024804c868c4d277ab4300b9f",
            "ab4018b41d3945b3a94cdffb6f1aedc7",
            "723a25d234114062b4a8348a3c12e29c",
            "c0553026f1a74275ad0864cfa8797772",
            "0f11ba89b6fa46a6bafddc9a711704e0",
            "4a54e7c02d4b48d49bc8cbb0b28b8d9e",
            "1e1263b4dd6244e3a07df68c5548e328",
            "59916c20f4774617aa695889bc92a355",
            "d30715bbd5b24b859e4958468656575f",
            "b3c9565293bb49ad893f6ad39516fd85",
            "2ff98ff7b723499ba8e01fb84feaedca",
            "218f658fc41649e5a075f9c878b22f83",
            "ed646f21c6d240b89f6a433d953d26ae",
            "851325adcf4140ccbc3b4ef2fa85fe38",
            "206b0d07c8034b3db99a839ce43a9f7f",
            "893dc4a23e4c44909e30f2dfb86b7988",
            "d7473dd539314a16b9a20d590011e39c",
            "0f5b226351c142ecacffc6ef5fe4dd56",
            "c4b4c8d4f9754551a4b98badb210c256",
            "5053ecaa1372429a8567d108b8b6bd2a",
            "bc6fb0b15756495bbef618b77e814605",
            "b2f77e88984b495c85c7d8f86a5c1db8",
            "69e90c9e84ce41d5a4847e825bd05640",
            "ca06d17d2ef64818bed88f8191f9b615",
            "32f89a11935d4948881b8a8c83d47787",
            "4da734aa0a4b489ca4d79e4b586e4ea7",
            "0c82945b9a0649638401721c49d714a4",
            "c0aa7a16600f4486b59ee2ef466c74c8",
            "f9983dd844ba41bd80aec5d68816d242",
            "e773473b676045399d8ab75b688d9137",
            "9387bf83f5884be086105d083b4c3a6f",
            "febb602a3aef4ed9862f10fae660f1c2",
            "6cc6b020520f46dd8cab93568c242d8d",
            "ee071c76d7af4d74a8308949fcc6422a",
            "01338f93b9194262acc47b8cf324522a",
            "f178c2925126470eab4a485022266961",
            "e4979471d4524fcd8b4f5f904b9da122",
            "b0738c61a3f84feabe0949e764c68349",
            "dd382f2a576042febeea6628a53efc80",
            "176bc2a4bcd042a6914659fa31ecc737",
            "8211ff8a961b45ef87a3c8fcc8f7a2f3",
            "7b2896aa705f4401a070b5012a695836",
            "f3d363d127c44068b03f7a5d457d171a",
            "6c4896a9cd1b4463b85f4946f6611c3c",
            "2718cc457ee0451b8585b88f01e314f4",
            "e447fc2cd5384199bffd8aa00b353b53"
          ]
        },
        "outputId": "c3ccd250-b207-4f8b-fef2-ab000d1701ae"
      },
      "execution_count": 61,
      "outputs": [
        {
          "output_type": "display_data",
          "data": {
            "text/plain": [
              "\u001b[1;32mStarting FDA Food Traceability Advisor\u001b[0m\u001b[1;32m...\u001b[0m\n"
            ],
            "text/html": [
              "<pre style=\"white-space:pre;overflow-x:auto;line-height:normal;font-family:Menlo,'DejaVu Sans Mono',consolas,'Courier New',monospace\"><span style=\"color: #008000; text-decoration-color: #008000; font-weight: bold\">Starting FDA Food Traceability Advisor...</span>\n",
              "</pre>\n"
            ]
          },
          "metadata": {}
        },
        {
          "output_type": "display_data",
          "data": {
            "text/plain": [
              "Loaded exporter_profile with \u001b[1;36m10\u001b[0m entries\n"
            ],
            "text/html": [
              "<pre style=\"white-space:pre;overflow-x:auto;line-height:normal;font-family:Menlo,'DejaVu Sans Mono',consolas,'Courier New',monospace\">Loaded exporter_profile with <span style=\"color: #008080; text-decoration-color: #008080; font-weight: bold\">10</span> entries\n",
              "</pre>\n"
            ]
          },
          "metadata": {}
        },
        {
          "output_type": "display_data",
          "data": {
            "text/plain": [
              "Loaded regulatory_sections with \u001b[1;36m10\u001b[0m entries\n"
            ],
            "text/html": [
              "<pre style=\"white-space:pre;overflow-x:auto;line-height:normal;font-family:Menlo,'DejaVu Sans Mono',consolas,'Courier New',monospace\">Loaded regulatory_sections with <span style=\"color: #008080; text-decoration-color: #008080; font-weight: bold\">10</span> entries\n",
              "</pre>\n"
            ]
          },
          "metadata": {}
        },
        {
          "output_type": "display_data",
          "data": {
            "text/plain": [
              "Loaded food_product_list with \u001b[1;36m10\u001b[0m entries\n"
            ],
            "text/html": [
              "<pre style=\"white-space:pre;overflow-x:auto;line-height:normal;font-family:Menlo,'DejaVu Sans Mono',consolas,'Courier New',monospace\">Loaded food_product_list with <span style=\"color: #008080; text-decoration-color: #008080; font-weight: bold\">10</span> entries\n",
              "</pre>\n"
            ]
          },
          "metadata": {}
        },
        {
          "output_type": "display_data",
          "data": {
            "text/plain": [
              "Loaded product_regulations with \u001b[1;36m15\u001b[0m entries\n"
            ],
            "text/html": [
              "<pre style=\"white-space:pre;overflow-x:auto;line-height:normal;font-family:Menlo,'DejaVu Sans Mono',consolas,'Courier New',monospace\">Loaded product_regulations with <span style=\"color: #008080; text-decoration-color: #008080; font-weight: bold\">15</span> entries\n",
              "</pre>\n"
            ]
          },
          "metadata": {}
        },
        {
          "output_type": "display_data",
          "data": {
            "text/plain": [
              "Loaded shipments with \u001b[1;36m10\u001b[0m entries\n"
            ],
            "text/html": [
              "<pre style=\"white-space:pre;overflow-x:auto;line-height:normal;font-family:Menlo,'DejaVu Sans Mono',consolas,'Courier New',monospace\">Loaded shipments with <span style=\"color: #008080; text-decoration-color: #008080; font-weight: bold\">10</span> entries\n",
              "</pre>\n"
            ]
          },
          "metadata": {}
        },
        {
          "output_type": "display_data",
          "data": {
            "text/plain": [
              "Loaded documentation_metadata with \u001b[1;36m10\u001b[0m entries\n"
            ],
            "text/html": [
              "<pre style=\"white-space:pre;overflow-x:auto;line-height:normal;font-family:Menlo,'DejaVu Sans Mono',consolas,'Courier New',monospace\">Loaded documentation_metadata with <span style=\"color: #008080; text-decoration-color: #008080; font-weight: bold\">10</span> entries\n",
              "</pre>\n"
            ]
          },
          "metadata": {}
        },
        {
          "output_type": "display_data",
          "data": {
            "text/plain": [
              "Loaded traceability_data with \u001b[1;36m15\u001b[0m entries\n"
            ],
            "text/html": [
              "<pre style=\"white-space:pre;overflow-x:auto;line-height:normal;font-family:Menlo,'DejaVu Sans Mono',consolas,'Courier New',monospace\">Loaded traceability_data with <span style=\"color: #008080; text-decoration-color: #008080; font-weight: bold\">15</span> entries\n",
              "</pre>\n"
            ]
          },
          "metadata": {}
        },
        {
          "output_type": "display_data",
          "data": {
            "text/plain": [
              "\u001b[1;31mError loading vector_docs\u001b[0m: Extra data: line \u001b[1;36m2\u001b[0m column \u001b[1;36m1\u001b[0m \u001b[1m(\u001b[0mchar \u001b[1;36m385\u001b[0m\u001b[1m)\u001b[0m\n"
            ],
            "text/html": [
              "<pre style=\"white-space:pre;overflow-x:auto;line-height:normal;font-family:Menlo,'DejaVu Sans Mono',consolas,'Courier New',monospace\"><span style=\"color: #800000; text-decoration-color: #800000; font-weight: bold\">Error loading vector_docs</span>: Extra data: line <span style=\"color: #008080; text-decoration-color: #008080; font-weight: bold\">2</span> column <span style=\"color: #008080; text-decoration-color: #008080; font-weight: bold\">1</span> <span style=\"font-weight: bold\">(</span>char <span style=\"color: #008080; text-decoration-color: #008080; font-weight: bold\">385</span><span style=\"font-weight: bold\">)</span>\n",
              "</pre>\n"
            ]
          },
          "metadata": {}
        },
        {
          "output_type": "display_data",
          "data": {
            "text/plain": [
              "                                      ╭────────────────────────────────────╮                                       \n",
              "                                      │ \u001b[1;32mFDA Food Traceability Rule Advisor\u001b[0m │                                       \n",
              "                                      ╰────────────────────────────────────╯                                       \n"
            ],
            "text/html": [
              "<pre style=\"white-space:pre;overflow-x:auto;line-height:normal;font-family:Menlo,'DejaVu Sans Mono',consolas,'Courier New',monospace\">                                      ╭────────────────────────────────────╮                                       \n",
              "                                      │ <span style=\"color: #008000; text-decoration-color: #008000; font-weight: bold\">FDA Food Traceability Rule Advisor</span> │                                       \n",
              "                                      ╰────────────────────────────────────╯                                       \n",
              "</pre>\n"
            ]
          },
          "metadata": {}
        },
        {
          "output_type": "display_data",
          "data": {
            "text/plain": [
              "Get clear, accurate information about FDA traceability requirements for exporters\n",
              "\n"
            ],
            "text/html": [
              "<pre style=\"white-space:pre;overflow-x:auto;line-height:normal;font-family:Menlo,'DejaVu Sans Mono',consolas,'Courier New',monospace\">Get clear, accurate information about FDA traceability requirements for exporters\n",
              "\n",
              "</pre>\n"
            ]
          },
          "metadata": {}
        },
        {
          "output_type": "display_data",
          "data": {
            "text/plain": [
              "\u001b[1mInitializing FDA Traceability RAG system\u001b[0m\u001b[1;33m...\u001b[0m\n"
            ],
            "text/html": [
              "<pre style=\"white-space:pre;overflow-x:auto;line-height:normal;font-family:Menlo,'DejaVu Sans Mono',consolas,'Courier New',monospace\"><span style=\"font-weight: bold\">Initializing FDA Traceability RAG system</span><span style=\"color: #808000; text-decoration-color: #808000; font-weight: bold\">...</span>\n",
              "</pre>\n"
            ]
          },
          "metadata": {}
        },
        {
          "output_type": "display_data",
          "data": {
            "text/plain": [
              "\u001b[1;32mLoading embedding model\u001b[0m\u001b[1;32m...\u001b[0m\n"
            ],
            "text/html": [
              "<pre style=\"white-space:pre;overflow-x:auto;line-height:normal;font-family:Menlo,'DejaVu Sans Mono',consolas,'Courier New',monospace\"><span style=\"color: #008000; text-decoration-color: #008000; font-weight: bold\">Loading embedding model...</span>\n",
              "</pre>\n"
            ]
          },
          "metadata": {}
        },
        {
          "output_type": "display_data",
          "data": {
            "text/plain": [
              "\u001b[1;34mProcessing documents\u001b[0m\u001b[1;34m...\u001b[0m\n"
            ],
            "text/html": [
              "<pre style=\"white-space:pre;overflow-x:auto;line-height:normal;font-family:Menlo,'DejaVu Sans Mono',consolas,'Courier New',monospace\"><span style=\"color: #000080; text-decoration-color: #000080; font-weight: bold\">Processing documents...</span>\n",
              "</pre>\n"
            ]
          },
          "metadata": {}
        },
        {
          "output_type": "display_data",
          "data": {
            "text/plain": [
              "\u001b[1;32m✓\u001b[0m Processed \u001b[1;36m55\u001b[0m documents from JSON data\n"
            ],
            "text/html": [
              "<pre style=\"white-space:pre;overflow-x:auto;line-height:normal;font-family:Menlo,'DejaVu Sans Mono',consolas,'Courier New',monospace\"><span style=\"color: #008000; text-decoration-color: #008000; font-weight: bold\">✓</span> Processed <span style=\"color: #008080; text-decoration-color: #008080; font-weight: bold\">55</span> documents from JSON data\n",
              "</pre>\n"
            ]
          },
          "metadata": {}
        },
        {
          "output_type": "display_data",
          "data": {
            "text/plain": [
              "\u001b[1;34mCreating document embeddings\u001b[0m\u001b[1;34m...\u001b[0m\n"
            ],
            "text/html": [
              "<pre style=\"white-space:pre;overflow-x:auto;line-height:normal;font-family:Menlo,'DejaVu Sans Mono',consolas,'Courier New',monospace\"><span style=\"color: #000080; text-decoration-color: #000080; font-weight: bold\">Creating document embeddings...</span>\n",
              "</pre>\n"
            ]
          },
          "metadata": {}
        },
        {
          "output_type": "display_data",
          "data": {
            "text/plain": [
              "Batches:   0%|          | 0/2 [00:00<?, ?it/s]"
            ],
            "application/vnd.jupyter.widget-view+json": {
              "version_major": 2,
              "version_minor": 0,
              "model_id": "b273e846a84d489294d8cdda7eb13fe0"
            }
          },
          "metadata": {}
        },
        {
          "output_type": "display_data",
          "data": {
            "text/plain": [
              "\u001b[1;32m✓\u001b[0m Created \u001b[1;36m55\u001b[0m document embeddings\n"
            ],
            "text/html": [
              "<pre style=\"white-space:pre;overflow-x:auto;line-height:normal;font-family:Menlo,'DejaVu Sans Mono',consolas,'Courier New',monospace\"><span style=\"color: #008000; text-decoration-color: #008000; font-weight: bold\">✓</span> Created <span style=\"color: #008080; text-decoration-color: #008080; font-weight: bold\">55</span> document embeddings\n",
              "</pre>\n"
            ]
          },
          "metadata": {}
        },
        {
          "output_type": "display_data",
          "data": {
            "text/plain": [
              "\u001b[1;32m✓\u001b[0m Initialized FDA Traceability RAG system with \u001b[1;36m55\u001b[0m documents\n"
            ],
            "text/html": [
              "<pre style=\"white-space:pre;overflow-x:auto;line-height:normal;font-family:Menlo,'DejaVu Sans Mono',consolas,'Courier New',monospace\"><span style=\"color: #008000; text-decoration-color: #008000; font-weight: bold\">✓</span> Initialized FDA Traceability RAG system with <span style=\"color: #008080; text-decoration-color: #008080; font-weight: bold\">55</span> documents\n",
              "</pre>\n"
            ]
          },
          "metadata": {}
        },
        {
          "output_type": "display_data",
          "data": {
            "text/plain": [
              "\n",
              "\u001b[1;36mChoose an option:\u001b[0m\n"
            ],
            "text/html": [
              "<pre style=\"white-space:pre;overflow-x:auto;line-height:normal;font-family:Menlo,'DejaVu Sans Mono',consolas,'Courier New',monospace\">\n",
              "<span style=\"color: #008080; text-decoration-color: #008080; font-weight: bold\">Choose an option:</span>\n",
              "</pre>\n"
            ]
          },
          "metadata": {}
        },
        {
          "output_type": "display_data",
          "data": {
            "text/plain": [
              "\u001b[1;36m1\u001b[0m. Ask a question about FDA Food Traceability\n"
            ],
            "text/html": [
              "<pre style=\"white-space:pre;overflow-x:auto;line-height:normal;font-family:Menlo,'DejaVu Sans Mono',consolas,'Courier New',monospace\"><span style=\"color: #008080; text-decoration-color: #008080; font-weight: bold\">1</span>. Ask a question about FDA Food Traceability\n",
              "</pre>\n"
            ]
          },
          "metadata": {}
        },
        {
          "output_type": "display_data",
          "data": {
            "text/plain": [
              "\u001b[1;36m2\u001b[0m. Test advisor accuracy\n"
            ],
            "text/html": [
              "<pre style=\"white-space:pre;overflow-x:auto;line-height:normal;font-family:Menlo,'DejaVu Sans Mono',consolas,'Courier New',monospace\"><span style=\"color: #008080; text-decoration-color: #008080; font-weight: bold\">2</span>. Test advisor accuracy\n",
              "</pre>\n"
            ]
          },
          "metadata": {}
        },
        {
          "output_type": "display_data",
          "data": {
            "text/plain": [
              "\u001b[1;36m3\u001b[0m. Show example questions\n"
            ],
            "text/html": [
              "<pre style=\"white-space:pre;overflow-x:auto;line-height:normal;font-family:Menlo,'DejaVu Sans Mono',consolas,'Courier New',monospace\"><span style=\"color: #008080; text-decoration-color: #008080; font-weight: bold\">3</span>. Show example questions\n",
              "</pre>\n"
            ]
          },
          "metadata": {}
        },
        {
          "output_type": "display_data",
          "data": {
            "text/plain": [
              "\u001b[1;36m4\u001b[0m. Exit\n"
            ],
            "text/html": [
              "<pre style=\"white-space:pre;overflow-x:auto;line-height:normal;font-family:Menlo,'DejaVu Sans Mono',consolas,'Courier New',monospace\"><span style=\"color: #008080; text-decoration-color: #008080; font-weight: bold\">4</span>. Exit\n",
              "</pre>\n"
            ]
          },
          "metadata": {}
        },
        {
          "output_type": "display_data",
          "data": {
            "text/plain": [
              "Enter your choice \u001b[1;35m[1/2/3/4]\u001b[0m: "
            ],
            "text/html": [
              "<pre style=\"white-space:pre;overflow-x:auto;line-height:normal;font-family:Menlo,'DejaVu Sans Mono',consolas,'Courier New',monospace\">Enter your choice <span style=\"color: #800080; text-decoration-color: #800080; font-weight: bold\">[1/2/3/4]</span>: </pre>\n"
            ]
          },
          "metadata": {}
        },
        {
          "name": "stdout",
          "output_type": "stream",
          "text": [
            "2\n"
          ]
        },
        {
          "output_type": "display_data",
          "data": {
            "text/plain": [
              "\n",
              "\u001b[1mTesting advisor accuracy\u001b[0m\u001b[1;33m...\u001b[0m\n"
            ],
            "text/html": [
              "<pre style=\"white-space:pre;overflow-x:auto;line-height:normal;font-family:Menlo,'DejaVu Sans Mono',consolas,'Courier New',monospace\">\n",
              "<span style=\"font-weight: bold\">Testing advisor accuracy</span><span style=\"color: #808000; text-decoration-color: #808000; font-weight: bold\">...</span>\n",
              "</pre>\n"
            ]
          },
          "metadata": {}
        },
        {
          "output_type": "display_data",
          "data": {
            "text/plain": [
              "                                        ╭─────────────────────────────────╮                                        \n",
              "                                        │ \u001b[1;32mEvaluating FDA Advisor Accuracy\u001b[0m │                                        \n",
              "                                        ╰─────────────────────────────────╯                                        \n"
            ],
            "text/html": [
              "<pre style=\"white-space:pre;overflow-x:auto;line-height:normal;font-family:Menlo,'DejaVu Sans Mono',consolas,'Courier New',monospace\">                                        ╭─────────────────────────────────╮                                        \n",
              "                                        │ <span style=\"color: #008000; text-decoration-color: #008000; font-weight: bold\">Evaluating FDA Advisor Accuracy</span> │                                        \n",
              "                                        ╰─────────────────────────────────╯                                        \n",
              "</pre>\n"
            ]
          },
          "metadata": {}
        },
        {
          "output_type": "display_data",
          "data": {
            "text/plain": [
              "Testing accuracy against sample questions\u001b[33m...\u001b[0m\n",
              "\n"
            ],
            "text/html": [
              "<pre style=\"white-space:pre;overflow-x:auto;line-height:normal;font-family:Menlo,'DejaVu Sans Mono',consolas,'Courier New',monospace\">Testing accuracy against sample questions<span style=\"color: #808000; text-decoration-color: #808000\">...</span>\n",
              "\n",
              "</pre>\n"
            ]
          },
          "metadata": {}
        },
        {
          "output_type": "display_data",
          "data": {
            "text/plain": [
              "\u001b[1;34mQuestion \u001b[0m\u001b[1;34m1\u001b[0m: For EX002's Roma Tomatoes shipment S-\u001b[1;36m2002\u001b[0m to Canada \u001b[1m(\u001b[0mDOC-\u001b[1;36m1002\u001b[0m\u001b[1m)\u001b[0m, what FSMA \u001b[1;36m204\u001b[0m requirements apply?\n"
            ],
            "text/html": [
              "<pre style=\"white-space:pre;overflow-x:auto;line-height:normal;font-family:Menlo,'DejaVu Sans Mono',consolas,'Courier New',monospace\"><span style=\"color: #000080; text-decoration-color: #000080; font-weight: bold\">Question </span><span style=\"color: #000080; text-decoration-color: #000080; font-weight: bold\">1</span>: For EX002's Roma Tomatoes shipment S-<span style=\"color: #008080; text-decoration-color: #008080; font-weight: bold\">2002</span> to Canada <span style=\"font-weight: bold\">(</span>DOC-<span style=\"color: #008080; text-decoration-color: #008080; font-weight: bold\">1002</span><span style=\"font-weight: bold\">)</span>, what FSMA <span style=\"color: #008080; text-decoration-color: #008080; font-weight: bold\">204</span> requirements apply?\n",
              "</pre>\n"
            ]
          },
          "metadata": {}
        },
        {
          "output_type": "display_data",
          "data": {
            "text/plain": [
              "No FSMA \u001b[1;36m204\u001b[0m requirements apply. Shipments exclusively for export \u001b[1m(\u001b[0mnon-U.S. destinations\u001b[1m)\u001b[0m are exempt under § \n",
              "\u001b[1;35m1.1105\u001b[0m\u001b[1m(\u001b[0ma\u001b[1m)\u001b[0m\u001b[1m(\u001b[0m\u001b[1;36m1\u001b[0m\u001b[1m)\u001b[0m.\n"
            ],
            "text/html": [
              "<pre style=\"white-space:pre;overflow-x:auto;line-height:normal;font-family:Menlo,'DejaVu Sans Mono',consolas,'Courier New',monospace\">No FSMA <span style=\"color: #008080; text-decoration-color: #008080; font-weight: bold\">204</span> requirements apply. Shipments exclusively for export <span style=\"font-weight: bold\">(</span>non-U.S. destinations<span style=\"font-weight: bold\">)</span> are exempt under § \n",
              "<span style=\"color: #800080; text-decoration-color: #800080; font-weight: bold\">1.1105</span><span style=\"font-weight: bold\">(</span>a<span style=\"font-weight: bold\">)(</span><span style=\"color: #008080; text-decoration-color: #008080; font-weight: bold\">1</span><span style=\"font-weight: bold\">)</span>.\n",
              "</pre>\n"
            ]
          },
          "metadata": {}
        },
        {
          "output_type": "display_data",
          "data": {
            "text/plain": [
              "\u001b[1;32mExpected answer\u001b[0m: No FSMA \u001b[1;36m204\u001b[0m requirements apply to EX002's Roma Tomatoes shipment S-\u001b[1;36m2002\u001b[0m to Canada \u001b[1m(\u001b[0mDOC-\u001b[1;36m1002\u001b[0m\u001b[1m)\u001b[0m. \n",
              "Under § \u001b[1;35m1.1105\u001b[0m\u001b[1m(\u001b[0ma\u001b[1m)\u001b[0m\u001b[1m(\u001b[0m\u001b[1;36m1\u001b[0m\u001b[1m)\u001b[0m of the FDA Food Traceability Rule, foods that are shipped exclusively for export to non-U.S. \n",
              "destinations, such as Canada, are exempt from FSMA \u001b[1;36m204\u001b[0m recordkeeping requirements. This exemption exists because \n",
              "the rule focuses on protecting U.S. consumers by ensuring traceability within the domestic supply chain. However, \n",
              "EX002 must still comply with Canadian import regulations, which may include separate traceability or documentation \n",
              "standards, but these fall outside FSMA \u001b[1;36m204\u001b[0m’s jurisdiction.\n"
            ],
            "text/html": [
              "<pre style=\"white-space:pre;overflow-x:auto;line-height:normal;font-family:Menlo,'DejaVu Sans Mono',consolas,'Courier New',monospace\"><span style=\"color: #008000; text-decoration-color: #008000; font-weight: bold\">Expected answer</span>: No FSMA <span style=\"color: #008080; text-decoration-color: #008080; font-weight: bold\">204</span> requirements apply to EX002's Roma Tomatoes shipment S-<span style=\"color: #008080; text-decoration-color: #008080; font-weight: bold\">2002</span> to Canada <span style=\"font-weight: bold\">(</span>DOC-<span style=\"color: #008080; text-decoration-color: #008080; font-weight: bold\">1002</span><span style=\"font-weight: bold\">)</span>. \n",
              "Under § <span style=\"color: #800080; text-decoration-color: #800080; font-weight: bold\">1.1105</span><span style=\"font-weight: bold\">(</span>a<span style=\"font-weight: bold\">)(</span><span style=\"color: #008080; text-decoration-color: #008080; font-weight: bold\">1</span><span style=\"font-weight: bold\">)</span> of the FDA Food Traceability Rule, foods that are shipped exclusively for export to non-U.S. \n",
              "destinations, such as Canada, are exempt from FSMA <span style=\"color: #008080; text-decoration-color: #008080; font-weight: bold\">204</span> recordkeeping requirements. This exemption exists because \n",
              "the rule focuses on protecting U.S. consumers by ensuring traceability within the domestic supply chain. However, \n",
              "EX002 must still comply with Canadian import regulations, which may include separate traceability or documentation \n",
              "standards, but these fall outside FSMA <span style=\"color: #008080; text-decoration-color: #008080; font-weight: bold\">204</span>’s jurisdiction.\n",
              "</pre>\n"
            ]
          },
          "metadata": {}
        },
        {
          "output_type": "display_data",
          "data": {
            "text/plain": [
              "\u001b[1mAccuracy score\u001b[0m: \u001b[1;36m1\u001b[0m/\u001b[1;36m10\u001b[0m\n"
            ],
            "text/html": [
              "<pre style=\"white-space:pre;overflow-x:auto;line-height:normal;font-family:Menlo,'DejaVu Sans Mono',consolas,'Courier New',monospace\"><span style=\"font-weight: bold\">Accuracy score</span>: <span style=\"color: #008080; text-decoration-color: #008080; font-weight: bold\">1</span>/<span style=\"color: #008080; text-decoration-color: #008080; font-weight: bold\">10</span>\n",
              "</pre>\n"
            ]
          },
          "metadata": {}
        },
        {
          "output_type": "display_data",
          "data": {
            "text/plain": [
              "────────────────────────────────────────────────────────────────────────────────\n"
            ],
            "text/html": [
              "<pre style=\"white-space:pre;overflow-x:auto;line-height:normal;font-family:Menlo,'DejaVu Sans Mono',consolas,'Courier New',monospace\">────────────────────────────────────────────────────────────────────────────────\n",
              "</pre>\n"
            ]
          },
          "metadata": {}
        },
        {
          "output_type": "display_data",
          "data": {
            "text/plain": [
              "\u001b[1;34mQuestion \u001b[0m\u001b[1;34m2\u001b[0m: What specific KDEs were missing in E008's non-compliant transportation log \u001b[1m(\u001b[0mLG-\u001b[1;36m2025\u001b[0m-\u001b[1;36m035\u001b[0m\u001b[1m)\u001b[0m?\n"
            ],
            "text/html": [
              "<pre style=\"white-space:pre;overflow-x:auto;line-height:normal;font-family:Menlo,'DejaVu Sans Mono',consolas,'Courier New',monospace\"><span style=\"color: #000080; text-decoration-color: #000080; font-weight: bold\">Question </span><span style=\"color: #000080; text-decoration-color: #000080; font-weight: bold\">2</span>: What specific KDEs were missing in E008's non-compliant transportation log <span style=\"font-weight: bold\">(</span>LG-<span style=\"color: #008080; text-decoration-color: #008080; font-weight: bold\">2025</span>-<span style=\"color: #008080; text-decoration-color: #008080; font-weight: bold\">035</span><span style=\"font-weight: bold\">)</span>?\n",
              "</pre>\n"
            ]
          },
          "metadata": {}
        },
        {
          "output_type": "display_data",
          "data": {
            "text/plain": [
              "Missing required KDEs for Shipping CTE: Shipment departure timestamp, Carrier SCAC code, Traceability Lot Code \n",
              "linkage.\n"
            ],
            "text/html": [
              "<pre style=\"white-space:pre;overflow-x:auto;line-height:normal;font-family:Menlo,'DejaVu Sans Mono',consolas,'Courier New',monospace\">Missing required KDEs for Shipping CTE: Shipment departure timestamp, Carrier SCAC code, Traceability Lot Code \n",
              "linkage.\n",
              "</pre>\n"
            ]
          },
          "metadata": {}
        },
        {
          "output_type": "display_data",
          "data": {
            "text/plain": [
              "\u001b[1;32mExpected answer\u001b[0m: The non-compliant transportation log \u001b[1m(\u001b[0mLG-\u001b[1;36m2025\u001b[0m-\u001b[1;36m035\u001b[0m\u001b[1m)\u001b[0m from E008 is missing several Key Data Elements \n",
              "\u001b[1m(\u001b[0mKDEs\u001b[1m)\u001b[0m required for a Shipping Critical Tracking Event \u001b[1m(\u001b[0mCTE\u001b[1m)\u001b[0m under FSMA \u001b[1;36m204\u001b[0m. Specifically, the missing KDEs are: \u001b[1;36m1\u001b[0m\u001b[1m)\u001b[0m\n",
              "**Shipment departure timestamp**, which must record the exact date and time the shipment left the facility per § \n",
              "\u001b[1;36m1.1350\u001b[0m; \u001b[1;36m2\u001b[0m\u001b[1m)\u001b[0m **Carrier SCAC code** \u001b[1m(\u001b[0mStandard Carrier Alpha Code\u001b[1m)\u001b[0m, a unique identifier for the transporting entity, \n",
              "critical for tracking logistics; and \u001b[1;36m3\u001b[0m\u001b[1m)\u001b[0m **Traceability Lot Code linkage**, which connects the shipped product to \n",
              "its origin batch. These omissions prevent full traceability, violating § \u001b[1;35m1.1330\u001b[0m\u001b[1m(\u001b[0ma\u001b[1m)\u001b[0m, which mandates comprehensive \n",
              "shipping records.\n"
            ],
            "text/html": [
              "<pre style=\"white-space:pre;overflow-x:auto;line-height:normal;font-family:Menlo,'DejaVu Sans Mono',consolas,'Courier New',monospace\"><span style=\"color: #008000; text-decoration-color: #008000; font-weight: bold\">Expected answer</span>: The non-compliant transportation log <span style=\"font-weight: bold\">(</span>LG-<span style=\"color: #008080; text-decoration-color: #008080; font-weight: bold\">2025</span>-<span style=\"color: #008080; text-decoration-color: #008080; font-weight: bold\">035</span><span style=\"font-weight: bold\">)</span> from E008 is missing several Key Data Elements \n",
              "<span style=\"font-weight: bold\">(</span>KDEs<span style=\"font-weight: bold\">)</span> required for a Shipping Critical Tracking Event <span style=\"font-weight: bold\">(</span>CTE<span style=\"font-weight: bold\">)</span> under FSMA <span style=\"color: #008080; text-decoration-color: #008080; font-weight: bold\">204</span>. Specifically, the missing KDEs are: <span style=\"color: #008080; text-decoration-color: #008080; font-weight: bold\">1</span><span style=\"font-weight: bold\">)</span>\n",
              "**Shipment departure timestamp**, which must record the exact date and time the shipment left the facility per § \n",
              "<span style=\"color: #008080; text-decoration-color: #008080; font-weight: bold\">1.1350</span>; <span style=\"color: #008080; text-decoration-color: #008080; font-weight: bold\">2</span><span style=\"font-weight: bold\">)</span> **Carrier SCAC code** <span style=\"font-weight: bold\">(</span>Standard Carrier Alpha Code<span style=\"font-weight: bold\">)</span>, a unique identifier for the transporting entity, \n",
              "critical for tracking logistics; and <span style=\"color: #008080; text-decoration-color: #008080; font-weight: bold\">3</span><span style=\"font-weight: bold\">)</span> **Traceability Lot Code linkage**, which connects the shipped product to \n",
              "its origin batch. These omissions prevent full traceability, violating § <span style=\"color: #800080; text-decoration-color: #800080; font-weight: bold\">1.1330</span><span style=\"font-weight: bold\">(</span>a<span style=\"font-weight: bold\">)</span>, which mandates comprehensive \n",
              "shipping records.\n",
              "</pre>\n"
            ]
          },
          "metadata": {}
        },
        {
          "output_type": "display_data",
          "data": {
            "text/plain": [
              "\u001b[1mAccuracy score\u001b[0m: \u001b[1;36m0\u001b[0m/\u001b[1;36m10\u001b[0m\n"
            ],
            "text/html": [
              "<pre style=\"white-space:pre;overflow-x:auto;line-height:normal;font-family:Menlo,'DejaVu Sans Mono',consolas,'Courier New',monospace\"><span style=\"font-weight: bold\">Accuracy score</span>: <span style=\"color: #008080; text-decoration-color: #008080; font-weight: bold\">0</span>/<span style=\"color: #008080; text-decoration-color: #008080; font-weight: bold\">10</span>\n",
              "</pre>\n"
            ]
          },
          "metadata": {}
        },
        {
          "output_type": "display_data",
          "data": {
            "text/plain": [
              "────────────────────────────────────────────────────────────────────────────────\n"
            ],
            "text/html": [
              "<pre style=\"white-space:pre;overflow-x:auto;line-height:normal;font-family:Menlo,'DejaVu Sans Mono',consolas,'Courier New',monospace\">────────────────────────────────────────────────────────────────────────────────\n",
              "</pre>\n"
            ]
          },
          "metadata": {}
        },
        {
          "output_type": "display_data",
          "data": {
            "text/plain": [
              "\u001b[1;34mQuestion \u001b[0m\u001b[1;34m3\u001b[0m: Does E006's Salmon export to Japan \u001b[1m(\u001b[0mSAL-\u001b[1;36m2025\u001b[0m-\u001b[1;36m024\u001b[0m\u001b[1m)\u001b[0m require FDA traceability compliance?\n"
            ],
            "text/html": [
              "<pre style=\"white-space:pre;overflow-x:auto;line-height:normal;font-family:Menlo,'DejaVu Sans Mono',consolas,'Courier New',monospace\"><span style=\"color: #000080; text-decoration-color: #000080; font-weight: bold\">Question </span><span style=\"color: #000080; text-decoration-color: #000080; font-weight: bold\">3</span>: Does E006's Salmon export to Japan <span style=\"font-weight: bold\">(</span>SAL-<span style=\"color: #008080; text-decoration-color: #008080; font-weight: bold\">2025</span>-<span style=\"color: #008080; text-decoration-color: #008080; font-weight: bold\">024</span><span style=\"font-weight: bold\">)</span> require FDA traceability compliance?\n",
              "</pre>\n"
            ]
          },
          "metadata": {}
        },
        {
          "output_type": "display_data",
          "data": {
            "text/plain": [
              "No. The Health Certificate \u001b[1m(\u001b[0mDOC-\u001b[1;36m3002\u001b[0m\u001b[1m)\u001b[0m shows compliance with Japanese import requirements, but FSMA \u001b[1;36m204\u001b[0m only applies\n",
              "to U.S.-bound foods per § \u001b[1;35m1.1103\u001b[0m\u001b[1m(\u001b[0ma\u001b[1m)\u001b[0m.\n"
            ],
            "text/html": [
              "<pre style=\"white-space:pre;overflow-x:auto;line-height:normal;font-family:Menlo,'DejaVu Sans Mono',consolas,'Courier New',monospace\">No. The Health Certificate <span style=\"font-weight: bold\">(</span>DOC-<span style=\"color: #008080; text-decoration-color: #008080; font-weight: bold\">3002</span><span style=\"font-weight: bold\">)</span> shows compliance with Japanese import requirements, but FSMA <span style=\"color: #008080; text-decoration-color: #008080; font-weight: bold\">204</span> only applies\n",
              "to U.S.-bound foods per § <span style=\"color: #800080; text-decoration-color: #800080; font-weight: bold\">1.1103</span><span style=\"font-weight: bold\">(</span>a<span style=\"font-weight: bold\">)</span>.\n",
              "</pre>\n"
            ]
          },
          "metadata": {}
        },
        {
          "output_type": "display_data",
          "data": {
            "text/plain": [
              "\u001b[1;32mExpected answer\u001b[0m: No, E006’s Salmon export to Japan \u001b[1m(\u001b[0mSAL-\u001b[1;36m2025\u001b[0m-\u001b[1;36m024\u001b[0m\u001b[1m)\u001b[0m does not require FDA traceability compliance \n",
              "under FSMA \u001b[1;36m204\u001b[0m. According to § \u001b[1;35m1.1103\u001b[0m\u001b[1m(\u001b[0ma\u001b[1m)\u001b[0m, the rule applies only to foods intended for consumption in the United \n",
              "States. The Health Certificate \u001b[1m(\u001b[0mDOC-\u001b[1;36m3002\u001b[0m\u001b[1m)\u001b[0m demonstrates compliance with Japanese import requirements, such as \n",
              "sanitation and origin verification, but FSMA \u001b[1;36m204\u001b[0m’s scope is limited to U.S.-bound foods. Thus, while E006 must meet\n",
              "Japan’s standards, it is exempt from FSMA \u001b[1;36m204\u001b[0m’s recordkeeping obligations for this export shipment.\n"
            ],
            "text/html": [
              "<pre style=\"white-space:pre;overflow-x:auto;line-height:normal;font-family:Menlo,'DejaVu Sans Mono',consolas,'Courier New',monospace\"><span style=\"color: #008000; text-decoration-color: #008000; font-weight: bold\">Expected answer</span>: No, E006’s Salmon export to Japan <span style=\"font-weight: bold\">(</span>SAL-<span style=\"color: #008080; text-decoration-color: #008080; font-weight: bold\">2025</span>-<span style=\"color: #008080; text-decoration-color: #008080; font-weight: bold\">024</span><span style=\"font-weight: bold\">)</span> does not require FDA traceability compliance \n",
              "under FSMA <span style=\"color: #008080; text-decoration-color: #008080; font-weight: bold\">204</span>. According to § <span style=\"color: #800080; text-decoration-color: #800080; font-weight: bold\">1.1103</span><span style=\"font-weight: bold\">(</span>a<span style=\"font-weight: bold\">)</span>, the rule applies only to foods intended for consumption in the United \n",
              "States. The Health Certificate <span style=\"font-weight: bold\">(</span>DOC-<span style=\"color: #008080; text-decoration-color: #008080; font-weight: bold\">3002</span><span style=\"font-weight: bold\">)</span> demonstrates compliance with Japanese import requirements, such as \n",
              "sanitation and origin verification, but FSMA <span style=\"color: #008080; text-decoration-color: #008080; font-weight: bold\">204</span>’s scope is limited to U.S.-bound foods. Thus, while E006 must meet\n",
              "Japan’s standards, it is exempt from FSMA <span style=\"color: #008080; text-decoration-color: #008080; font-weight: bold\">204</span>’s recordkeeping obligations for this export shipment.\n",
              "</pre>\n"
            ]
          },
          "metadata": {}
        },
        {
          "output_type": "display_data",
          "data": {
            "text/plain": [
              "\u001b[1mAccuracy score\u001b[0m: \u001b[1;36m0\u001b[0m/\u001b[1;36m10\u001b[0m\n"
            ],
            "text/html": [
              "<pre style=\"white-space:pre;overflow-x:auto;line-height:normal;font-family:Menlo,'DejaVu Sans Mono',consolas,'Courier New',monospace\"><span style=\"font-weight: bold\">Accuracy score</span>: <span style=\"color: #008080; text-decoration-color: #008080; font-weight: bold\">0</span>/<span style=\"color: #008080; text-decoration-color: #008080; font-weight: bold\">10</span>\n",
              "</pre>\n"
            ]
          },
          "metadata": {}
        },
        {
          "output_type": "display_data",
          "data": {
            "text/plain": [
              "────────────────────────────────────────────────────────────────────────────────\n"
            ],
            "text/html": [
              "<pre style=\"white-space:pre;overflow-x:auto;line-height:normal;font-family:Menlo,'DejaVu Sans Mono',consolas,'Courier New',monospace\">────────────────────────────────────────────────────────────────────────────────\n",
              "</pre>\n"
            ]
          },
          "metadata": {}
        },
        {
          "output_type": "display_data",
          "data": {
            "text/plain": [
              "\u001b[1;34mQuestion \u001b[0m\u001b[1;34m4\u001b[0m: What corrective action is needed for E002's non-compliant phytosanitary certificate \u001b[1m(\u001b[0mAP-\u001b[1;36m2025\u001b[0m-\u001b[1;36m015\u001b[0m\u001b[1m)\u001b[0m?\n"
            ],
            "text/html": [
              "<pre style=\"white-space:pre;overflow-x:auto;line-height:normal;font-family:Menlo,'DejaVu Sans Mono',consolas,'Courier New',monospace\"><span style=\"color: #000080; text-decoration-color: #000080; font-weight: bold\">Question </span><span style=\"color: #000080; text-decoration-color: #000080; font-weight: bold\">4</span>: What corrective action is needed for E002's non-compliant phytosanitary certificate <span style=\"font-weight: bold\">(</span>AP-<span style=\"color: #008080; text-decoration-color: #008080; font-weight: bold\">2025</span>-<span style=\"color: #008080; text-decoration-color: #008080; font-weight: bold\">015</span><span style=\"font-weight: bold\">)</span>?\n",
              "</pre>\n"
            ]
          },
          "metadata": {}
        },
        {
          "output_type": "display_data",
          "data": {
            "text/plain": [
              "Required under § \u001b[1;35m112.1\u001b[0m\u001b[1m(\u001b[0mc\u001b[1m)\u001b[0m: Immediate soil/water testing at Valencia Orchard Block A, Revised certificate with \n",
              "harvest crew identifiers, Updated traceability plan per § \u001b[1;35m1.1315\u001b[0m\u001b[1m(\u001b[0ma\u001b[1m)\u001b[0m.\n"
            ],
            "text/html": [
              "<pre style=\"white-space:pre;overflow-x:auto;line-height:normal;font-family:Menlo,'DejaVu Sans Mono',consolas,'Courier New',monospace\">Required under § <span style=\"color: #800080; text-decoration-color: #800080; font-weight: bold\">112.1</span><span style=\"font-weight: bold\">(</span>c<span style=\"font-weight: bold\">)</span>: Immediate soil/water testing at Valencia Orchard Block A, Revised certificate with \n",
              "harvest crew identifiers, Updated traceability plan per § <span style=\"color: #800080; text-decoration-color: #800080; font-weight: bold\">1.1315</span><span style=\"font-weight: bold\">(</span>a<span style=\"font-weight: bold\">)</span>.\n",
              "</pre>\n"
            ]
          },
          "metadata": {}
        },
        {
          "output_type": "display_data",
          "data": {
            "text/plain": [
              "\u001b[1;32mExpected answer\u001b[0m: For E002’s non-compliant phytosanitary certificate \u001b[1m(\u001b[0mAP-\u001b[1;36m2025\u001b[0m-\u001b[1;36m015\u001b[0m\u001b[1m)\u001b[0m, corrective actions are required \n",
              "under multiple regulations. Under § \u001b[1;35m112.1\u001b[0m\u001b[1m(\u001b[0mc\u001b[1m)\u001b[0m of FSMA, which governs produce safety, E002 must: \u001b[1;36m1\u001b[0m\u001b[1m)\u001b[0m Conduct \n",
              "**immediate soil and water testing** at Valencia Orchard Block A to verify no contamination affects the harvest; \u001b[1;36m2\u001b[0m\u001b[1m)\u001b[0m\n",
              "Issue a **revised phytosanitary certificate** including harvest crew identifiers \u001b[1m(\u001b[0me.g., team or worker IDs\u001b[1m)\u001b[0m to meet\n",
              "export and traceability standards; and \u001b[1;36m3\u001b[0m\u001b[1m)\u001b[0m Update their **traceability plan** per § \u001b[1;35m1.1315\u001b[0m\u001b[1m(\u001b[0ma\u001b[1m)\u001b[0m of FSMA \u001b[1;36m204\u001b[0m to \n",
              "document these corrections and ensure all Key Data Elements \u001b[1m(\u001b[0mKDEs\u001b[1m)\u001b[0m are captured. These steps address both the \n",
              "certificate’s deficiencies and FSMA \u001b[1;36m204\u001b[0m compliance for any U.S.-bound portions of the harvest.\n"
            ],
            "text/html": [
              "<pre style=\"white-space:pre;overflow-x:auto;line-height:normal;font-family:Menlo,'DejaVu Sans Mono',consolas,'Courier New',monospace\"><span style=\"color: #008000; text-decoration-color: #008000; font-weight: bold\">Expected answer</span>: For E002’s non-compliant phytosanitary certificate <span style=\"font-weight: bold\">(</span>AP-<span style=\"color: #008080; text-decoration-color: #008080; font-weight: bold\">2025</span>-<span style=\"color: #008080; text-decoration-color: #008080; font-weight: bold\">015</span><span style=\"font-weight: bold\">)</span>, corrective actions are required \n",
              "under multiple regulations. Under § <span style=\"color: #800080; text-decoration-color: #800080; font-weight: bold\">112.1</span><span style=\"font-weight: bold\">(</span>c<span style=\"font-weight: bold\">)</span> of FSMA, which governs produce safety, E002 must: <span style=\"color: #008080; text-decoration-color: #008080; font-weight: bold\">1</span><span style=\"font-weight: bold\">)</span> Conduct \n",
              "**immediate soil and water testing** at Valencia Orchard Block A to verify no contamination affects the harvest; <span style=\"color: #008080; text-decoration-color: #008080; font-weight: bold\">2</span><span style=\"font-weight: bold\">)</span>\n",
              "Issue a **revised phytosanitary certificate** including harvest crew identifiers <span style=\"font-weight: bold\">(</span>e.g., team or worker IDs<span style=\"font-weight: bold\">)</span> to meet\n",
              "export and traceability standards; and <span style=\"color: #008080; text-decoration-color: #008080; font-weight: bold\">3</span><span style=\"font-weight: bold\">)</span> Update their **traceability plan** per § <span style=\"color: #800080; text-decoration-color: #800080; font-weight: bold\">1.1315</span><span style=\"font-weight: bold\">(</span>a<span style=\"font-weight: bold\">)</span> of FSMA <span style=\"color: #008080; text-decoration-color: #008080; font-weight: bold\">204</span> to \n",
              "document these corrections and ensure all Key Data Elements <span style=\"font-weight: bold\">(</span>KDEs<span style=\"font-weight: bold\">)</span> are captured. These steps address both the \n",
              "certificate’s deficiencies and FSMA <span style=\"color: #008080; text-decoration-color: #008080; font-weight: bold\">204</span> compliance for any U.S.-bound portions of the harvest.\n",
              "</pre>\n"
            ]
          },
          "metadata": {}
        },
        {
          "output_type": "display_data",
          "data": {
            "text/plain": [
              "\u001b[1mAccuracy score\u001b[0m: \u001b[1;36m1\u001b[0m/\u001b[1;36m10\u001b[0m\n"
            ],
            "text/html": [
              "<pre style=\"white-space:pre;overflow-x:auto;line-height:normal;font-family:Menlo,'DejaVu Sans Mono',consolas,'Courier New',monospace\"><span style=\"font-weight: bold\">Accuracy score</span>: <span style=\"color: #008080; text-decoration-color: #008080; font-weight: bold\">1</span>/<span style=\"color: #008080; text-decoration-color: #008080; font-weight: bold\">10</span>\n",
              "</pre>\n"
            ]
          },
          "metadata": {}
        },
        {
          "output_type": "display_data",
          "data": {
            "text/plain": [
              "────────────────────────────────────────────────────────────────────────────────\n"
            ],
            "text/html": [
              "<pre style=\"white-space:pre;overflow-x:auto;line-height:normal;font-family:Menlo,'DejaVu Sans Mono',consolas,'Courier New',monospace\">────────────────────────────────────────────────────────────────────────────────\n",
              "</pre>\n"
            ]
          },
          "metadata": {}
        },
        {
          "output_type": "display_data",
          "data": {
            "text/plain": [
              "\u001b[1;34mQuestion \u001b[0m\u001b[1;34m5\u001b[0m: Which CTE type in E007 \u001b[1m(\u001b[0mLG-\u001b[1;36m2025\u001b[0m-\u001b[1;36m017\u001b[0m\u001b[1m)\u001b[0m triggers HACCP documentation?\n"
            ],
            "text/html": [
              "<pre style=\"white-space:pre;overflow-x:auto;line-height:normal;font-family:Menlo,'DejaVu Sans Mono',consolas,'Courier New',monospace\"><span style=\"color: #000080; text-decoration-color: #000080; font-weight: bold\">Question </span><span style=\"color: #000080; text-decoration-color: #000080; font-weight: bold\">5</span>: Which CTE type in E007 <span style=\"font-weight: bold\">(</span>LG-<span style=\"color: #008080; text-decoration-color: #008080; font-weight: bold\">2025</span>-<span style=\"color: #008080; text-decoration-color: #008080; font-weight: bold\">017</span><span style=\"font-weight: bold\">)</span> triggers HACCP documentation?\n",
              "</pre>\n"
            ]
          },
          "metadata": {}
        },
        {
          "output_type": "display_data",
          "data": {
            "text/plain": [
              "Transformation CTE \u001b[1m(\u001b[0mwashing/cutting greens\u001b[1m)\u001b[0m requires: Validated critical control points, Temperature monitoring \n",
              "logs. Mandated by § \u001b[1;35m123.6\u001b[0m\u001b[1m(\u001b[0mb\u001b[1m)\u001b[0m for ready-to-eat produce.\n"
            ],
            "text/html": [
              "<pre style=\"white-space:pre;overflow-x:auto;line-height:normal;font-family:Menlo,'DejaVu Sans Mono',consolas,'Courier New',monospace\">Transformation CTE <span style=\"font-weight: bold\">(</span>washing/cutting greens<span style=\"font-weight: bold\">)</span> requires: Validated critical control points, Temperature monitoring \n",
              "logs. Mandated by § <span style=\"color: #800080; text-decoration-color: #800080; font-weight: bold\">123.6</span><span style=\"font-weight: bold\">(</span>b<span style=\"font-weight: bold\">)</span> for ready-to-eat produce.\n",
              "</pre>\n"
            ]
          },
          "metadata": {}
        },
        {
          "output_type": "display_data",
          "data": {
            "text/plain": [
              "\u001b[1;32mExpected answer\u001b[0m: In E007’s log \u001b[1m(\u001b[0mLG-\u001b[1;36m2025\u001b[0m-\u001b[1;36m017\u001b[0m\u001b[1m)\u001b[0m, the **Transformation CTE**—specifically washing and cutting \n",
              "greens—triggers HACCP \u001b[1m(\u001b[0mHazard Analysis and Critical Control Points\u001b[1m)\u001b[0m documentation. Under § \u001b[1;35m123.6\u001b[0m\u001b[1m(\u001b[0mb\u001b[1m)\u001b[0m, which applies \n",
              "to processed seafood and ready-to-eat produce, this CTE requires: \u001b[1;36m1\u001b[0m\u001b[1m)\u001b[0m **Validated critical control points** \u001b[1m(\u001b[0me.g., \n",
              "water temperature and sanitizer levels to prevent bacterial growth\u001b[1m)\u001b[0m; and \u001b[1;36m2\u001b[0m\u001b[1m)\u001b[0m **Temperature monitoring logs** to \n",
              "ensure the process stays within safe limits. Because transformation alters the food’s state, HACCP documentation is\n",
              "mandatory to mitigate risks, aligning with FSMA’s broader food safety goals.\n"
            ],
            "text/html": [
              "<pre style=\"white-space:pre;overflow-x:auto;line-height:normal;font-family:Menlo,'DejaVu Sans Mono',consolas,'Courier New',monospace\"><span style=\"color: #008000; text-decoration-color: #008000; font-weight: bold\">Expected answer</span>: In E007’s log <span style=\"font-weight: bold\">(</span>LG-<span style=\"color: #008080; text-decoration-color: #008080; font-weight: bold\">2025</span>-<span style=\"color: #008080; text-decoration-color: #008080; font-weight: bold\">017</span><span style=\"font-weight: bold\">)</span>, the **Transformation CTE**—specifically washing and cutting \n",
              "greens—triggers HACCP <span style=\"font-weight: bold\">(</span>Hazard Analysis and Critical Control Points<span style=\"font-weight: bold\">)</span> documentation. Under § <span style=\"color: #800080; text-decoration-color: #800080; font-weight: bold\">123.6</span><span style=\"font-weight: bold\">(</span>b<span style=\"font-weight: bold\">)</span>, which applies \n",
              "to processed seafood and ready-to-eat produce, this CTE requires: <span style=\"color: #008080; text-decoration-color: #008080; font-weight: bold\">1</span><span style=\"font-weight: bold\">)</span> **Validated critical control points** <span style=\"font-weight: bold\">(</span>e.g., \n",
              "water temperature and sanitizer levels to prevent bacterial growth<span style=\"font-weight: bold\">)</span>; and <span style=\"color: #008080; text-decoration-color: #008080; font-weight: bold\">2</span><span style=\"font-weight: bold\">)</span> **Temperature monitoring logs** to \n",
              "ensure the process stays within safe limits. Because transformation alters the food’s state, HACCP documentation is\n",
              "mandatory to mitigate risks, aligning with FSMA’s broader food safety goals.\n",
              "</pre>\n"
            ]
          },
          "metadata": {}
        },
        {
          "output_type": "display_data",
          "data": {
            "text/plain": [
              "\u001b[1mAccuracy score\u001b[0m: \u001b[1;36m0\u001b[0m/\u001b[1;36m10\u001b[0m\n"
            ],
            "text/html": [
              "<pre style=\"white-space:pre;overflow-x:auto;line-height:normal;font-family:Menlo,'DejaVu Sans Mono',consolas,'Courier New',monospace\"><span style=\"font-weight: bold\">Accuracy score</span>: <span style=\"color: #008080; text-decoration-color: #008080; font-weight: bold\">0</span>/<span style=\"color: #008080; text-decoration-color: #008080; font-weight: bold\">10</span>\n",
              "</pre>\n"
            ]
          },
          "metadata": {}
        },
        {
          "output_type": "display_data",
          "data": {
            "text/plain": [
              "────────────────────────────────────────────────────────────────────────────────\n"
            ],
            "text/html": [
              "<pre style=\"white-space:pre;overflow-x:auto;line-height:normal;font-family:Menlo,'DejaVu Sans Mono',consolas,'Courier New',monospace\">────────────────────────────────────────────────────────────────────────────────\n",
              "</pre>\n"
            ]
          },
          "metadata": {}
        },
        {
          "output_type": "display_data",
          "data": {
            "text/plain": [
              "\u001b[1;34mQuestion \u001b[0m\u001b[1;34m6\u001b[0m: What are the FSMA \u001b[1;36m204\u001b[0m obligations for EX001’s Golden Delicious Apples \u001b[1m(\u001b[0mLOT2025A12\u001b[1m)\u001b[0m sold in the U.S.?\n"
            ],
            "text/html": [
              "<pre style=\"white-space:pre;overflow-x:auto;line-height:normal;font-family:Menlo,'DejaVu Sans Mono',consolas,'Courier New',monospace\"><span style=\"color: #000080; text-decoration-color: #000080; font-weight: bold\">Question </span><span style=\"color: #000080; text-decoration-color: #000080; font-weight: bold\">6</span>: What are the FSMA <span style=\"color: #008080; text-decoration-color: #008080; font-weight: bold\">204</span> obligations for EX001’s Golden Delicious Apples <span style=\"font-weight: bold\">(</span>LOT2025A12<span style=\"font-weight: bold\">)</span> sold in the U.S.?\n",
              "</pre>\n"
            ]
          },
          "metadata": {}
        },
        {
          "output_type": "display_data",
          "data": {
            "text/plain": [
              "Batches:   0%|          | 0/1 [00:00<?, ?it/s]"
            ],
            "application/vnd.jupyter.widget-view+json": {
              "version_major": 2,
              "version_minor": 0,
              "model_id": "723a25d234114062b4a8348a3c12e29c"
            }
          },
          "metadata": {}
        },
        {
          "output_type": "display_data",
          "data": {
            "text/plain": [
              "Based on the FDA Food Traceability Rule:\n",
              "\n",
              "Shipment ID: SHIP001\n",
              "Exporter ID: EX001\n",
              "Destination: United States\n",
              "Product: \n",
              "Type: Fresh Fruit\n",
              "HS Code: \u001b[1;36m0808.10\u001b[0m\n",
              "Compliance Status: Compliant\n",
              "\n"
            ],
            "text/html": [
              "<pre style=\"white-space:pre;overflow-x:auto;line-height:normal;font-family:Menlo,'DejaVu Sans Mono',consolas,'Courier New',monospace\">Based on the FDA Food Traceability Rule:\n",
              "\n",
              "Shipment ID: SHIP001\n",
              "Exporter ID: EX001\n",
              "Destination: United States\n",
              "Product: \n",
              "Type: Fresh Fruit\n",
              "HS Code: <span style=\"color: #008080; text-decoration-color: #008080; font-weight: bold\">0808.10</span>\n",
              "Compliance Status: Compliant\n",
              "\n",
              "</pre>\n"
            ]
          },
          "metadata": {}
        },
        {
          "output_type": "display_data",
          "data": {
            "text/plain": [
              "\u001b[1;32mExpected answer\u001b[0m: For EX001’s Golden Delicious Apples \u001b[1m(\u001b[0mLOT2025A12\u001b[1m)\u001b[0m sold in the U.S., FSMA \u001b[1;36m204\u001b[0m imposes full \n",
              "traceability obligations because apples are on the Food Traceability List. Under § \u001b[1;36m1.1305\u001b[0m, EX001 must maintain \n",
              "records for all Critical Tracking Events \u001b[1m(\u001b[0mCTEs\u001b[1m)\u001b[0m: \u001b[1;36m1\u001b[0m\u001b[1m)\u001b[0m **Harvesting** \u001b[1m(\u001b[0me.g., Orchard Block A12, Harvester ID: H23, \n",
              "date\u001b[1m)\u001b[0m; \u001b[1;36m2\u001b[0m\u001b[1m)\u001b[0m **Cooling** \u001b[1m(\u001b[0me.g., Cooling Facility CF3, temperature, timestamp\u001b[1m)\u001b[0m; and \u001b[1;36m3\u001b[0m\u001b[1m)\u001b[0m **Shipping** \u001b[1m(\u001b[0me.g., destination,\n",
              "carrier details\u001b[1m)\u001b[0m. Key Data Elements \u001b[1m(\u001b[0mKDEs\u001b[1m)\u001b[0m such as traceability lot codes, product descriptions, and location \n",
              "identifiers must be linked and retained for \u001b[1;36m24\u001b[0m months per § \u001b[1;36m1.1345\u001b[0m. These records ensure the apples can be traced \n",
              "back to their source or forward to retailers if a safety issue arises.\n"
            ],
            "text/html": [
              "<pre style=\"white-space:pre;overflow-x:auto;line-height:normal;font-family:Menlo,'DejaVu Sans Mono',consolas,'Courier New',monospace\"><span style=\"color: #008000; text-decoration-color: #008000; font-weight: bold\">Expected answer</span>: For EX001’s Golden Delicious Apples <span style=\"font-weight: bold\">(</span>LOT2025A12<span style=\"font-weight: bold\">)</span> sold in the U.S., FSMA <span style=\"color: #008080; text-decoration-color: #008080; font-weight: bold\">204</span> imposes full \n",
              "traceability obligations because apples are on the Food Traceability List. Under § <span style=\"color: #008080; text-decoration-color: #008080; font-weight: bold\">1.1305</span>, EX001 must maintain \n",
              "records for all Critical Tracking Events <span style=\"font-weight: bold\">(</span>CTEs<span style=\"font-weight: bold\">)</span>: <span style=\"color: #008080; text-decoration-color: #008080; font-weight: bold\">1</span><span style=\"font-weight: bold\">)</span> **Harvesting** <span style=\"font-weight: bold\">(</span>e.g., Orchard Block A12, Harvester ID: H23, \n",
              "date<span style=\"font-weight: bold\">)</span>; <span style=\"color: #008080; text-decoration-color: #008080; font-weight: bold\">2</span><span style=\"font-weight: bold\">)</span> **Cooling** <span style=\"font-weight: bold\">(</span>e.g., Cooling Facility CF3, temperature, timestamp<span style=\"font-weight: bold\">)</span>; and <span style=\"color: #008080; text-decoration-color: #008080; font-weight: bold\">3</span><span style=\"font-weight: bold\">)</span> **Shipping** <span style=\"font-weight: bold\">(</span>e.g., destination,\n",
              "carrier details<span style=\"font-weight: bold\">)</span>. Key Data Elements <span style=\"font-weight: bold\">(</span>KDEs<span style=\"font-weight: bold\">)</span> such as traceability lot codes, product descriptions, and location \n",
              "identifiers must be linked and retained for <span style=\"color: #008080; text-decoration-color: #008080; font-weight: bold\">24</span> months per § <span style=\"color: #008080; text-decoration-color: #008080; font-weight: bold\">1.1345</span>. These records ensure the apples can be traced \n",
              "back to their source or forward to retailers if a safety issue arises.\n",
              "</pre>\n"
            ]
          },
          "metadata": {}
        },
        {
          "output_type": "display_data",
          "data": {
            "text/plain": [
              "\u001b[1mAccuracy score\u001b[0m: \u001b[1;36m0\u001b[0m/\u001b[1;36m10\u001b[0m\n"
            ],
            "text/html": [
              "<pre style=\"white-space:pre;overflow-x:auto;line-height:normal;font-family:Menlo,'DejaVu Sans Mono',consolas,'Courier New',monospace\"><span style=\"font-weight: bold\">Accuracy score</span>: <span style=\"color: #008080; text-decoration-color: #008080; font-weight: bold\">0</span>/<span style=\"color: #008080; text-decoration-color: #008080; font-weight: bold\">10</span>\n",
              "</pre>\n"
            ]
          },
          "metadata": {}
        },
        {
          "output_type": "display_data",
          "data": {
            "text/plain": [
              "────────────────────────────────────────────────────────────────────────────────\n"
            ],
            "text/html": [
              "<pre style=\"white-space:pre;overflow-x:auto;line-height:normal;font-family:Menlo,'DejaVu Sans Mono',consolas,'Courier New',monospace\">────────────────────────────────────────────────────────────────────────────────\n",
              "</pre>\n"
            ]
          },
          "metadata": {}
        },
        {
          "output_type": "display_data",
          "data": {
            "text/plain": [
              "\u001b[1;34mQuestion \u001b[0m\u001b[1;34m7\u001b[0m: Why was EX005’s Fresh Norwegian Salmon \u001b[1m(\u001b[0mSALMON-AS25-\u001b[1;36m15\u001b[0m\u001b[1m)\u001b[0m flagged as \u001b[32m'Incomplete'\u001b[0m?\n"
            ],
            "text/html": [
              "<pre style=\"white-space:pre;overflow-x:auto;line-height:normal;font-family:Menlo,'DejaVu Sans Mono',consolas,'Courier New',monospace\"><span style=\"color: #000080; text-decoration-color: #000080; font-weight: bold\">Question </span><span style=\"color: #000080; text-decoration-color: #000080; font-weight: bold\">7</span>: Why was EX005’s Fresh Norwegian Salmon <span style=\"font-weight: bold\">(</span>SALMON-AS25-<span style=\"color: #008080; text-decoration-color: #008080; font-weight: bold\">15</span><span style=\"font-weight: bold\">)</span> flagged as <span style=\"color: #008000; text-decoration-color: #008000\">'Incomplete'</span>?\n",
              "</pre>\n"
            ]
          },
          "metadata": {}
        },
        {
          "output_type": "display_data",
          "data": {
            "text/plain": [
              "Batches:   0%|          | 0/1 [00:00<?, ?it/s]"
            ],
            "application/vnd.jupyter.widget-view+json": {
              "version_major": 2,
              "version_minor": 0,
              "model_id": "851325adcf4140ccbc3b4ef2fa85fe38"
            }
          },
          "metadata": {}
        },
        {
          "output_type": "display_data",
          "data": {
            "text/plain": [
              "\u001b[1;33mAdvisor's answer\u001b[0m: Information about Exporter EX005:\n",
              "Exporter ID: EX005\n",
              "Exporter Name: Nordic Salmon Select\n",
              "Country: Norway\n",
              "Industry Focus: Seafood\n",
              "Additional Insights: Recent digital upgrades, focused on compliance ref\u001b[33m...\u001b[0m\n"
            ],
            "text/html": [
              "<pre style=\"white-space:pre;overflow-x:auto;line-height:normal;font-family:Menlo,'DejaVu Sans Mono',consolas,'Courier New',monospace\"><span style=\"color: #808000; text-decoration-color: #808000; font-weight: bold\">Advisor's answer</span>: Information about Exporter EX005:\n",
              "Exporter ID: EX005\n",
              "Exporter Name: Nordic Salmon Select\n",
              "Country: Norway\n",
              "Industry Focus: Seafood\n",
              "Additional Insights: Recent digital upgrades, focused on compliance ref<span style=\"color: #808000; text-decoration-color: #808000\">...</span>\n",
              "</pre>\n"
            ]
          },
          "metadata": {}
        },
        {
          "output_type": "display_data",
          "data": {
            "text/plain": [
              "\u001b[1;32mExpected answer\u001b[0m: EX005’s Fresh Norwegian Salmon \u001b[1m(\u001b[0mSALMON-AS25-\u001b[1;36m15\u001b[0m\u001b[1m)\u001b[0m was flagged as \u001b[32m'Incomplete'\u001b[0m due to missing or \n",
              "inadequate Key Data Elements \u001b[1m(\u001b[0mKDEs\u001b[1m)\u001b[0m for the Harvesting CTE. Under § \u001b[1;36m1.1315\u001b[0m, required KDEs include the aquaculture \n",
              "site \u001b[1m(\u001b[0mAS25\u001b[1m)\u001b[0m, cage number \u001b[1m(\u001b[0mC8\u001b[1m)\u001b[0m, harvest date, and quantity harvested. The record lacks specifics like the exact \n",
              "harvest quantity \u001b[1m(\u001b[0me.g., weight in kilograms\u001b[1m)\u001b[0m and the responsible party’s contact information. This incompleteness \n",
              "hinders traceability, especially since salmon is on the Food Traceability List, requiring full compliance for \n",
              "U.S.-bound shipments. EX005 must update the record to meet FSMA \u001b[1;36m204\u001b[0m standards.\n"
            ],
            "text/html": [
              "<pre style=\"white-space:pre;overflow-x:auto;line-height:normal;font-family:Menlo,'DejaVu Sans Mono',consolas,'Courier New',monospace\"><span style=\"color: #008000; text-decoration-color: #008000; font-weight: bold\">Expected answer</span>: EX005’s Fresh Norwegian Salmon <span style=\"font-weight: bold\">(</span>SALMON-AS25-<span style=\"color: #008080; text-decoration-color: #008080; font-weight: bold\">15</span><span style=\"font-weight: bold\">)</span> was flagged as <span style=\"color: #008000; text-decoration-color: #008000\">'Incomplete'</span> due to missing or \n",
              "inadequate Key Data Elements <span style=\"font-weight: bold\">(</span>KDEs<span style=\"font-weight: bold\">)</span> for the Harvesting CTE. Under § <span style=\"color: #008080; text-decoration-color: #008080; font-weight: bold\">1.1315</span>, required KDEs include the aquaculture \n",
              "site <span style=\"font-weight: bold\">(</span>AS25<span style=\"font-weight: bold\">)</span>, cage number <span style=\"font-weight: bold\">(</span>C8<span style=\"font-weight: bold\">)</span>, harvest date, and quantity harvested. The record lacks specifics like the exact \n",
              "harvest quantity <span style=\"font-weight: bold\">(</span>e.g., weight in kilograms<span style=\"font-weight: bold\">)</span> and the responsible party’s contact information. This incompleteness \n",
              "hinders traceability, especially since salmon is on the Food Traceability List, requiring full compliance for \n",
              "U.S.-bound shipments. EX005 must update the record to meet FSMA <span style=\"color: #008080; text-decoration-color: #008080; font-weight: bold\">204</span> standards.\n",
              "</pre>\n"
            ]
          },
          "metadata": {}
        },
        {
          "output_type": "display_data",
          "data": {
            "text/plain": [
              "\u001b[1mAccuracy score\u001b[0m: \u001b[1;36m0\u001b[0m/\u001b[1;36m10\u001b[0m\n"
            ],
            "text/html": [
              "<pre style=\"white-space:pre;overflow-x:auto;line-height:normal;font-family:Menlo,'DejaVu Sans Mono',consolas,'Courier New',monospace\"><span style=\"font-weight: bold\">Accuracy score</span>: <span style=\"color: #008080; text-decoration-color: #008080; font-weight: bold\">0</span>/<span style=\"color: #008080; text-decoration-color: #008080; font-weight: bold\">10</span>\n",
              "</pre>\n"
            ]
          },
          "metadata": {}
        },
        {
          "output_type": "display_data",
          "data": {
            "text/plain": [
              "────────────────────────────────────────────────────────────────────────────────\n"
            ],
            "text/html": [
              "<pre style=\"white-space:pre;overflow-x:auto;line-height:normal;font-family:Menlo,'DejaVu Sans Mono',consolas,'Courier New',monospace\">────────────────────────────────────────────────────────────────────────────────\n",
              "</pre>\n"
            ]
          },
          "metadata": {}
        },
        {
          "output_type": "display_data",
          "data": {
            "text/plain": [
              "\u001b[1;34mQuestion \u001b[0m\u001b[1;34m8\u001b[0m: How should EX010 address a missing traceability lot code in their Assorted Pralines batch \n",
              "\u001b[1m(\u001b[0mPRAL-P10-\u001b[1;36m0203\u001b[0m\u001b[1m)\u001b[0m?\n"
            ],
            "text/html": [
              "<pre style=\"white-space:pre;overflow-x:auto;line-height:normal;font-family:Menlo,'DejaVu Sans Mono',consolas,'Courier New',monospace\"><span style=\"color: #000080; text-decoration-color: #000080; font-weight: bold\">Question </span><span style=\"color: #000080; text-decoration-color: #000080; font-weight: bold\">8</span>: How should EX010 address a missing traceability lot code in their Assorted Pralines batch \n",
              "<span style=\"font-weight: bold\">(</span>PRAL-P10-<span style=\"color: #008080; text-decoration-color: #008080; font-weight: bold\">0203</span><span style=\"font-weight: bold\">)</span>?\n",
              "</pre>\n"
            ]
          },
          "metadata": {}
        },
        {
          "output_type": "display_data",
          "data": {
            "text/plain": [
              "Batches:   0%|          | 0/1 [00:00<?, ?it/s]"
            ],
            "application/vnd.jupyter.widget-view+json": {
              "version_major": 2,
              "version_minor": 0,
              "model_id": "32f89a11935d4948881b8a8c83d47787"
            }
          },
          "metadata": {}
        },
        {
          "output_type": "display_data",
          "data": {
            "text/plain": [
              "\u001b[1;33mAdvisor's answer\u001b[0m: Based on the FDA Food Traceability Rule:\n",
              "\n",
              "Record ID: TRACE014\n",
              "Exporter ID: EX010\n",
              "Food Product: Assorted Pralines\n",
              "CTE Type: Manufacturing\n",
              "KDE Details: Batch P10, Temp Control: \u001b[1;36m18\u001b[0m°C\n",
              "Compliance Flag: Com\u001b[33m...\u001b[0m\n"
            ],
            "text/html": [
              "<pre style=\"white-space:pre;overflow-x:auto;line-height:normal;font-family:Menlo,'DejaVu Sans Mono',consolas,'Courier New',monospace\"><span style=\"color: #808000; text-decoration-color: #808000; font-weight: bold\">Advisor's answer</span>: Based on the FDA Food Traceability Rule:\n",
              "\n",
              "Record ID: TRACE014\n",
              "Exporter ID: EX010\n",
              "Food Product: Assorted Pralines\n",
              "CTE Type: Manufacturing\n",
              "KDE Details: Batch P10, Temp Control: <span style=\"color: #008080; text-decoration-color: #008080; font-weight: bold\">18</span>°C\n",
              "Compliance Flag: Com<span style=\"color: #808000; text-decoration-color: #808000\">...</span>\n",
              "</pre>\n"
            ]
          },
          "metadata": {}
        },
        {
          "output_type": "display_data",
          "data": {
            "text/plain": [
              "\u001b[1;32mExpected answer\u001b[0m: To address a missing traceability lot code in EX010’s Assorted Pralines batch \u001b[1m(\u001b[0mPRAL-P10-\u001b[1;36m0203\u001b[0m\u001b[1m)\u001b[0m, \n",
              "corrective actions are needed under FSMA \u001b[1;36m204\u001b[0m. Since pralines are not explicitly on the Food Traceability List, this\n",
              "applies only if they contain listed ingredients \u001b[1m(\u001b[0me.g., peanut butter\u001b[1m)\u001b[0m. Assuming they do, EX010 should: \u001b[1;36m1\u001b[0m\u001b[1m)\u001b[0m **Assign \n",
              "a new traceability lot code** linked to the manufacturing batch \u001b[1m(\u001b[0mP10\u001b[1m)\u001b[0m per § \u001b[1;36m1.1320\u001b[0m; \u001b[1;36m2\u001b[0m\u001b[1m)\u001b[0m **Update all downstream \n",
              "records** \u001b[1m(\u001b[0me.g., packing and shipping logs\u001b[1m)\u001b[0m with this code; \u001b[1;36m3\u001b[0m\u001b[1m)\u001b[0m **Notify supply chain partners** of the correction \n",
              "per § \u001b[1;36m1.1340\u001b[0m; and \u001b[1;36m4\u001b[0m\u001b[1m)\u001b[0m **Review their traceability plan** to prevent future omissions \u001b[1m(\u001b[0m§ \u001b[1;35m1.1315\u001b[0m\u001b[1m(\u001b[0ma\u001b[1m)\u001b[0m\u001b[1m)\u001b[0m. This ensures \n",
              "compliance and maintains the ability to trace the product.\n"
            ],
            "text/html": [
              "<pre style=\"white-space:pre;overflow-x:auto;line-height:normal;font-family:Menlo,'DejaVu Sans Mono',consolas,'Courier New',monospace\"><span style=\"color: #008000; text-decoration-color: #008000; font-weight: bold\">Expected answer</span>: To address a missing traceability lot code in EX010’s Assorted Pralines batch <span style=\"font-weight: bold\">(</span>PRAL-P10-<span style=\"color: #008080; text-decoration-color: #008080; font-weight: bold\">0203</span><span style=\"font-weight: bold\">)</span>, \n",
              "corrective actions are needed under FSMA <span style=\"color: #008080; text-decoration-color: #008080; font-weight: bold\">204</span>. Since pralines are not explicitly on the Food Traceability List, this\n",
              "applies only if they contain listed ingredients <span style=\"font-weight: bold\">(</span>e.g., peanut butter<span style=\"font-weight: bold\">)</span>. Assuming they do, EX010 should: <span style=\"color: #008080; text-decoration-color: #008080; font-weight: bold\">1</span><span style=\"font-weight: bold\">)</span> **Assign \n",
              "a new traceability lot code** linked to the manufacturing batch <span style=\"font-weight: bold\">(</span>P10<span style=\"font-weight: bold\">)</span> per § <span style=\"color: #008080; text-decoration-color: #008080; font-weight: bold\">1.1320</span>; <span style=\"color: #008080; text-decoration-color: #008080; font-weight: bold\">2</span><span style=\"font-weight: bold\">)</span> **Update all downstream \n",
              "records** <span style=\"font-weight: bold\">(</span>e.g., packing and shipping logs<span style=\"font-weight: bold\">)</span> with this code; <span style=\"color: #008080; text-decoration-color: #008080; font-weight: bold\">3</span><span style=\"font-weight: bold\">)</span> **Notify supply chain partners** of the correction \n",
              "per § <span style=\"color: #008080; text-decoration-color: #008080; font-weight: bold\">1.1340</span>; and <span style=\"color: #008080; text-decoration-color: #008080; font-weight: bold\">4</span><span style=\"font-weight: bold\">)</span> **Review their traceability plan** to prevent future omissions <span style=\"font-weight: bold\">(</span>§ <span style=\"color: #800080; text-decoration-color: #800080; font-weight: bold\">1.1315</span><span style=\"font-weight: bold\">(</span>a<span style=\"font-weight: bold\">))</span>. This ensures \n",
              "compliance and maintains the ability to trace the product.\n",
              "</pre>\n"
            ]
          },
          "metadata": {}
        },
        {
          "output_type": "display_data",
          "data": {
            "text/plain": [
              "\u001b[1mAccuracy score\u001b[0m: \u001b[1;36m0\u001b[0m/\u001b[1;36m10\u001b[0m\n"
            ],
            "text/html": [
              "<pre style=\"white-space:pre;overflow-x:auto;line-height:normal;font-family:Menlo,'DejaVu Sans Mono',consolas,'Courier New',monospace\"><span style=\"font-weight: bold\">Accuracy score</span>: <span style=\"color: #008080; text-decoration-color: #008080; font-weight: bold\">0</span>/<span style=\"color: #008080; text-decoration-color: #008080; font-weight: bold\">10</span>\n",
              "</pre>\n"
            ]
          },
          "metadata": {}
        },
        {
          "output_type": "display_data",
          "data": {
            "text/plain": [
              "────────────────────────────────────────────────────────────────────────────────\n"
            ],
            "text/html": [
              "<pre style=\"white-space:pre;overflow-x:auto;line-height:normal;font-family:Menlo,'DejaVu Sans Mono',consolas,'Courier New',monospace\">────────────────────────────────────────────────────────────────────────────────\n",
              "</pre>\n"
            ]
          },
          "metadata": {}
        },
        {
          "output_type": "display_data",
          "data": {
            "text/plain": [
              "\n",
              "\u001b[1mOverall accuracy score\u001b[0m: \u001b[1;36m0.2\u001b[0m/\u001b[1;36m10\u001b[0m\n"
            ],
            "text/html": [
              "<pre style=\"white-space:pre;overflow-x:auto;line-height:normal;font-family:Menlo,'DejaVu Sans Mono',consolas,'Courier New',monospace\">\n",
              "<span style=\"font-weight: bold\">Overall accuracy score</span>: <span style=\"color: #008080; text-decoration-color: #008080; font-weight: bold\">0.2</span>/<span style=\"color: #008080; text-decoration-color: #008080; font-weight: bold\">10</span>\n",
              "</pre>\n"
            ]
          },
          "metadata": {}
        },
        {
          "output_type": "display_data",
          "data": {
            "text/plain": [
              "\u001b[34m╭─\u001b[0m\u001b[34m─────────────────────────────────────────────\u001b[0m\u001b[34m Evaluation Results \u001b[0m\u001b[34m──────────────────────────────────────────────\u001b[0m\u001b[34m─╮\u001b[0m\n",
              "\u001b[34m│\u001b[0m \u001b[1mOverall Accuracy: 0.2/10\u001b[0m                                                                                        \u001b[34m│\u001b[0m\n",
              "\u001b[34m╰─────────────────────────────────────────────────────────────────────────────────────────────────────────────────╯\u001b[0m\n"
            ],
            "text/html": [
              "<pre style=\"white-space:pre;overflow-x:auto;line-height:normal;font-family:Menlo,'DejaVu Sans Mono',consolas,'Courier New',monospace\"><span style=\"color: #000080; text-decoration-color: #000080\">╭────────────────────────────────────────────── Evaluation Results ───────────────────────────────────────────────╮</span>\n",
              "<span style=\"color: #000080; text-decoration-color: #000080\">│</span> <span style=\"font-weight: bold\">Overall Accuracy: 0.2/10</span>                                                                                        <span style=\"color: #000080; text-decoration-color: #000080\">│</span>\n",
              "<span style=\"color: #000080; text-decoration-color: #000080\">╰─────────────────────────────────────────────────────────────────────────────────────────────────────────────────╯</span>\n",
              "</pre>\n"
            ]
          },
          "metadata": {}
        },
        {
          "output_type": "display_data",
          "data": {
            "text/plain": [
              "\n",
              "\u001b[1;36mChoose an option:\u001b[0m\n"
            ],
            "text/html": [
              "<pre style=\"white-space:pre;overflow-x:auto;line-height:normal;font-family:Menlo,'DejaVu Sans Mono',consolas,'Courier New',monospace\">\n",
              "<span style=\"color: #008080; text-decoration-color: #008080; font-weight: bold\">Choose an option:</span>\n",
              "</pre>\n"
            ]
          },
          "metadata": {}
        },
        {
          "output_type": "display_data",
          "data": {
            "text/plain": [
              "\u001b[1;36m1\u001b[0m. Ask a question about FDA Food Traceability\n"
            ],
            "text/html": [
              "<pre style=\"white-space:pre;overflow-x:auto;line-height:normal;font-family:Menlo,'DejaVu Sans Mono',consolas,'Courier New',monospace\"><span style=\"color: #008080; text-decoration-color: #008080; font-weight: bold\">1</span>. Ask a question about FDA Food Traceability\n",
              "</pre>\n"
            ]
          },
          "metadata": {}
        },
        {
          "output_type": "display_data",
          "data": {
            "text/plain": [
              "\u001b[1;36m2\u001b[0m. Test advisor accuracy\n"
            ],
            "text/html": [
              "<pre style=\"white-space:pre;overflow-x:auto;line-height:normal;font-family:Menlo,'DejaVu Sans Mono',consolas,'Courier New',monospace\"><span style=\"color: #008080; text-decoration-color: #008080; font-weight: bold\">2</span>. Test advisor accuracy\n",
              "</pre>\n"
            ]
          },
          "metadata": {}
        },
        {
          "output_type": "display_data",
          "data": {
            "text/plain": [
              "\u001b[1;36m3\u001b[0m. Show example questions\n"
            ],
            "text/html": [
              "<pre style=\"white-space:pre;overflow-x:auto;line-height:normal;font-family:Menlo,'DejaVu Sans Mono',consolas,'Courier New',monospace\"><span style=\"color: #008080; text-decoration-color: #008080; font-weight: bold\">3</span>. Show example questions\n",
              "</pre>\n"
            ]
          },
          "metadata": {}
        },
        {
          "output_type": "display_data",
          "data": {
            "text/plain": [
              "\u001b[1;36m4\u001b[0m. Exit\n"
            ],
            "text/html": [
              "<pre style=\"white-space:pre;overflow-x:auto;line-height:normal;font-family:Menlo,'DejaVu Sans Mono',consolas,'Courier New',monospace\"><span style=\"color: #008080; text-decoration-color: #008080; font-weight: bold\">4</span>. Exit\n",
              "</pre>\n"
            ]
          },
          "metadata": {}
        },
        {
          "output_type": "display_data",
          "data": {
            "text/plain": [
              "Enter your choice \u001b[1;35m[1/2/3/4]\u001b[0m: "
            ],
            "text/html": [
              "<pre style=\"white-space:pre;overflow-x:auto;line-height:normal;font-family:Menlo,'DejaVu Sans Mono',consolas,'Courier New',monospace\">Enter your choice <span style=\"color: #800080; text-decoration-color: #800080; font-weight: bold\">[1/2/3/4]</span>: </pre>\n"
            ]
          },
          "metadata": {}
        },
        {
          "name": "stdout",
          "output_type": "stream",
          "text": [
            "3\n"
          ]
        },
        {
          "output_type": "display_data",
          "data": {
            "text/plain": [
              "\u001b[36m╭─\u001b[0m\u001b[36m──────────────────────────────────────────────\u001b[0m\u001b[36m Example Questions \u001b[0m\u001b[36m──────────────────────────────────────────────\u001b[0m\u001b[36m─╮\u001b[0m\n",
              "\u001b[36m│\u001b[0m                                                                                                                 \u001b[36m│\u001b[0m\n",
              "\u001b[36m│\u001b[0m \u001b[1mExample Questions:\u001b[0m                                                                                              \u001b[36m│\u001b[0m\n",
              "\u001b[36m│\u001b[0m - What is the FDA Food Traceability Rule?                                                                       \u001b[36m│\u001b[0m\n",
              "\u001b[36m│\u001b[0m - When is the compliance date for the rule?                                                                     \u001b[36m│\u001b[0m\n",
              "\u001b[36m│\u001b[0m - What are Key Data Elements (KDEs)?                                                                            \u001b[36m│\u001b[0m\n",
              "\u001b[36m│\u001b[0m - What are Critical Tracking Events (CTEs)?                                                                     \u001b[36m│\u001b[0m\n",
              "\u001b[36m│\u001b[0m - How does the rule affect international exporters?                                                             \u001b[36m│\u001b[0m\n",
              "\u001b[36m│\u001b[0m - Is EX002's tomato shipment compliant?                                                                         \u001b[36m│\u001b[0m\n",
              "\u001b[36m│\u001b[0m - What requirements apply to fruit exporters?                                                                   \u001b[36m│\u001b[0m\n",
              "\u001b[36m│\u001b[0m - Which documents are required for seafood traceability?                                                        \u001b[36m│\u001b[0m\n",
              "\u001b[36m╰─────────────────────────────────────────────────────────────────────────────────────────────────────────────────╯\u001b[0m\n"
            ],
            "text/html": [
              "<pre style=\"white-space:pre;overflow-x:auto;line-height:normal;font-family:Menlo,'DejaVu Sans Mono',consolas,'Courier New',monospace\"><span style=\"color: #008080; text-decoration-color: #008080\">╭─────────────────────────────────────────────── Example Questions ───────────────────────────────────────────────╮</span>\n",
              "<span style=\"color: #008080; text-decoration-color: #008080\">│</span>                                                                                                                 <span style=\"color: #008080; text-decoration-color: #008080\">│</span>\n",
              "<span style=\"color: #008080; text-decoration-color: #008080\">│</span> <span style=\"font-weight: bold\">Example Questions:</span>                                                                                              <span style=\"color: #008080; text-decoration-color: #008080\">│</span>\n",
              "<span style=\"color: #008080; text-decoration-color: #008080\">│</span> - What is the FDA Food Traceability Rule?                                                                       <span style=\"color: #008080; text-decoration-color: #008080\">│</span>\n",
              "<span style=\"color: #008080; text-decoration-color: #008080\">│</span> - When is the compliance date for the rule?                                                                     <span style=\"color: #008080; text-decoration-color: #008080\">│</span>\n",
              "<span style=\"color: #008080; text-decoration-color: #008080\">│</span> - What are Key Data Elements (KDEs)?                                                                            <span style=\"color: #008080; text-decoration-color: #008080\">│</span>\n",
              "<span style=\"color: #008080; text-decoration-color: #008080\">│</span> - What are Critical Tracking Events (CTEs)?                                                                     <span style=\"color: #008080; text-decoration-color: #008080\">│</span>\n",
              "<span style=\"color: #008080; text-decoration-color: #008080\">│</span> - How does the rule affect international exporters?                                                             <span style=\"color: #008080; text-decoration-color: #008080\">│</span>\n",
              "<span style=\"color: #008080; text-decoration-color: #008080\">│</span> - Is EX002's tomato shipment compliant?                                                                         <span style=\"color: #008080; text-decoration-color: #008080\">│</span>\n",
              "<span style=\"color: #008080; text-decoration-color: #008080\">│</span> - What requirements apply to fruit exporters?                                                                   <span style=\"color: #008080; text-decoration-color: #008080\">│</span>\n",
              "<span style=\"color: #008080; text-decoration-color: #008080\">│</span> - Which documents are required for seafood traceability?                                                        <span style=\"color: #008080; text-decoration-color: #008080\">│</span>\n",
              "<span style=\"color: #008080; text-decoration-color: #008080\">╰─────────────────────────────────────────────────────────────────────────────────────────────────────────────────╯</span>\n",
              "</pre>\n"
            ]
          },
          "metadata": {}
        },
        {
          "output_type": "display_data",
          "data": {
            "text/plain": [
              "\n",
              "\u001b[1;36mChoose an option:\u001b[0m\n"
            ],
            "text/html": [
              "<pre style=\"white-space:pre;overflow-x:auto;line-height:normal;font-family:Menlo,'DejaVu Sans Mono',consolas,'Courier New',monospace\">\n",
              "<span style=\"color: #008080; text-decoration-color: #008080; font-weight: bold\">Choose an option:</span>\n",
              "</pre>\n"
            ]
          },
          "metadata": {}
        },
        {
          "output_type": "display_data",
          "data": {
            "text/plain": [
              "\u001b[1;36m1\u001b[0m. Ask a question about FDA Food Traceability\n"
            ],
            "text/html": [
              "<pre style=\"white-space:pre;overflow-x:auto;line-height:normal;font-family:Menlo,'DejaVu Sans Mono',consolas,'Courier New',monospace\"><span style=\"color: #008080; text-decoration-color: #008080; font-weight: bold\">1</span>. Ask a question about FDA Food Traceability\n",
              "</pre>\n"
            ]
          },
          "metadata": {}
        },
        {
          "output_type": "display_data",
          "data": {
            "text/plain": [
              "\u001b[1;36m2\u001b[0m. Test advisor accuracy\n"
            ],
            "text/html": [
              "<pre style=\"white-space:pre;overflow-x:auto;line-height:normal;font-family:Menlo,'DejaVu Sans Mono',consolas,'Courier New',monospace\"><span style=\"color: #008080; text-decoration-color: #008080; font-weight: bold\">2</span>. Test advisor accuracy\n",
              "</pre>\n"
            ]
          },
          "metadata": {}
        },
        {
          "output_type": "display_data",
          "data": {
            "text/plain": [
              "\u001b[1;36m3\u001b[0m. Show example questions\n"
            ],
            "text/html": [
              "<pre style=\"white-space:pre;overflow-x:auto;line-height:normal;font-family:Menlo,'DejaVu Sans Mono',consolas,'Courier New',monospace\"><span style=\"color: #008080; text-decoration-color: #008080; font-weight: bold\">3</span>. Show example questions\n",
              "</pre>\n"
            ]
          },
          "metadata": {}
        },
        {
          "output_type": "display_data",
          "data": {
            "text/plain": [
              "\u001b[1;36m4\u001b[0m. Exit\n"
            ],
            "text/html": [
              "<pre style=\"white-space:pre;overflow-x:auto;line-height:normal;font-family:Menlo,'DejaVu Sans Mono',consolas,'Courier New',monospace\"><span style=\"color: #008080; text-decoration-color: #008080; font-weight: bold\">4</span>. Exit\n",
              "</pre>\n"
            ]
          },
          "metadata": {}
        },
        {
          "output_type": "display_data",
          "data": {
            "text/plain": [
              "Enter your choice \u001b[1;35m[1/2/3/4]\u001b[0m: "
            ],
            "text/html": [
              "<pre style=\"white-space:pre;overflow-x:auto;line-height:normal;font-family:Menlo,'DejaVu Sans Mono',consolas,'Courier New',monospace\">Enter your choice <span style=\"color: #800080; text-decoration-color: #800080; font-weight: bold\">[1/2/3/4]</span>: </pre>\n"
            ]
          },
          "metadata": {}
        },
        {
          "name": "stdout",
          "output_type": "stream",
          "text": [
            "Which documents are required for seafood traceability?\n"
          ]
        },
        {
          "output_type": "display_data",
          "data": {
            "text/plain": [
              "\u001b[31mPlease select one of the available options\u001b[0m\n"
            ],
            "text/html": [
              "<pre style=\"white-space:pre;overflow-x:auto;line-height:normal;font-family:Menlo,'DejaVu Sans Mono',consolas,'Courier New',monospace\"><span style=\"color: #800000; text-decoration-color: #800000\">Please select one of the available options</span>\n",
              "</pre>\n"
            ]
          },
          "metadata": {}
        },
        {
          "output_type": "display_data",
          "data": {
            "text/plain": [
              "Enter your choice \u001b[1;35m[1/2/3/4]\u001b[0m: "
            ],
            "text/html": [
              "<pre style=\"white-space:pre;overflow-x:auto;line-height:normal;font-family:Menlo,'DejaVu Sans Mono',consolas,'Courier New',monospace\">Enter your choice <span style=\"color: #800080; text-decoration-color: #800080; font-weight: bold\">[1/2/3/4]</span>: </pre>\n"
            ]
          },
          "metadata": {}
        },
        {
          "name": "stdout",
          "output_type": "stream",
          "text": [
            "1\n"
          ]
        },
        {
          "output_type": "display_data",
          "data": {
            "text/plain": [
              "\n",
              "\u001b[1mEnter your question\u001b[0m: "
            ],
            "text/html": [
              "<pre style=\"white-space:pre;overflow-x:auto;line-height:normal;font-family:Menlo,'DejaVu Sans Mono',consolas,'Courier New',monospace\">\n",
              "<span style=\"font-weight: bold\">Enter your question</span>: </pre>\n"
            ]
          },
          "metadata": {}
        },
        {
          "name": "stdout",
          "output_type": "stream",
          "text": [
            "Which documents are required for seafood traceability?\n"
          ]
        },
        {
          "output_type": "display_data",
          "data": {
            "text/plain": [
              "\n",
              "\u001b[1;33mSearching FDA regulations\u001b[0m\u001b[1;33m...\u001b[0m\n"
            ],
            "text/html": [
              "<pre style=\"white-space:pre;overflow-x:auto;line-height:normal;font-family:Menlo,'DejaVu Sans Mono',consolas,'Courier New',monospace\">\n",
              "<span style=\"color: #808000; text-decoration-color: #808000; font-weight: bold\">Searching FDA regulations...</span>\n",
              "</pre>\n"
            ]
          },
          "metadata": {}
        },
        {
          "output_type": "display_data",
          "data": {
            "text/plain": [
              "Batches:   0%|          | 0/1 [00:00<?, ?it/s]"
            ],
            "application/vnd.jupyter.widget-view+json": {
              "version_major": 2,
              "version_minor": 0,
              "model_id": "f178c2925126470eab4a485022266961"
            }
          },
          "metadata": {}
        },
        {
          "output_type": "display_data",
          "data": {
            "text/plain": [
              "\u001b[32m╭─\u001b[0m\u001b[32m────────────────────────────────────────────\u001b[0m\u001b[32m FDA Advisor Response \u001b[0m\u001b[32m─────────────────────────────────────────────\u001b[0m\u001b[32m─╮\u001b[0m\n",
              "\u001b[32m│\u001b[0m Section 1.1335 (SEC008) - What are the recordkeeping requirements for foods on the Food Traceability List that  \u001b[32m│\u001b[0m\n",
              "\u001b[32m│\u001b[0m are subjected to a kill step?: Requires maintaining records to demonstrate that a kill step was performed,      \u001b[32m│\u001b[0m\n",
              "\u001b[32m│\u001b[0m which may exempt the food from further traceability requirements.                                               \u001b[32m│\u001b[0m\n",
              "\u001b[32m╰─────────────────────────────────────────────────────────────────────────────────────────────────────────────────╯\u001b[0m\n"
            ],
            "text/html": [
              "<pre style=\"white-space:pre;overflow-x:auto;line-height:normal;font-family:Menlo,'DejaVu Sans Mono',consolas,'Courier New',monospace\"><span style=\"color: #008000; text-decoration-color: #008000\">╭───────────────────────────────────────────── FDA Advisor Response ──────────────────────────────────────────────╮</span>\n",
              "<span style=\"color: #008000; text-decoration-color: #008000\">│</span> Section 1.1335 (SEC008) - What are the recordkeeping requirements for foods on the Food Traceability List that  <span style=\"color: #008000; text-decoration-color: #008000\">│</span>\n",
              "<span style=\"color: #008000; text-decoration-color: #008000\">│</span> are subjected to a kill step?: Requires maintaining records to demonstrate that a kill step was performed,      <span style=\"color: #008000; text-decoration-color: #008000\">│</span>\n",
              "<span style=\"color: #008000; text-decoration-color: #008000\">│</span> which may exempt the food from further traceability requirements.                                               <span style=\"color: #008000; text-decoration-color: #008000\">│</span>\n",
              "<span style=\"color: #008000; text-decoration-color: #008000\">╰─────────────────────────────────────────────────────────────────────────────────────────────────────────────────╯</span>\n",
              "</pre>\n"
            ]
          },
          "metadata": {}
        },
        {
          "output_type": "display_data",
          "data": {
            "text/plain": [
              "\n",
              "\u001b[1;36mChoose an option:\u001b[0m\n"
            ],
            "text/html": [
              "<pre style=\"white-space:pre;overflow-x:auto;line-height:normal;font-family:Menlo,'DejaVu Sans Mono',consolas,'Courier New',monospace\">\n",
              "<span style=\"color: #008080; text-decoration-color: #008080; font-weight: bold\">Choose an option:</span>\n",
              "</pre>\n"
            ]
          },
          "metadata": {}
        },
        {
          "output_type": "display_data",
          "data": {
            "text/plain": [
              "\u001b[1;36m1\u001b[0m. Ask a question about FDA Food Traceability\n"
            ],
            "text/html": [
              "<pre style=\"white-space:pre;overflow-x:auto;line-height:normal;font-family:Menlo,'DejaVu Sans Mono',consolas,'Courier New',monospace\"><span style=\"color: #008080; text-decoration-color: #008080; font-weight: bold\">1</span>. Ask a question about FDA Food Traceability\n",
              "</pre>\n"
            ]
          },
          "metadata": {}
        },
        {
          "output_type": "display_data",
          "data": {
            "text/plain": [
              "\u001b[1;36m2\u001b[0m. Test advisor accuracy\n"
            ],
            "text/html": [
              "<pre style=\"white-space:pre;overflow-x:auto;line-height:normal;font-family:Menlo,'DejaVu Sans Mono',consolas,'Courier New',monospace\"><span style=\"color: #008080; text-decoration-color: #008080; font-weight: bold\">2</span>. Test advisor accuracy\n",
              "</pre>\n"
            ]
          },
          "metadata": {}
        },
        {
          "output_type": "display_data",
          "data": {
            "text/plain": [
              "\u001b[1;36m3\u001b[0m. Show example questions\n"
            ],
            "text/html": [
              "<pre style=\"white-space:pre;overflow-x:auto;line-height:normal;font-family:Menlo,'DejaVu Sans Mono',consolas,'Courier New',monospace\"><span style=\"color: #008080; text-decoration-color: #008080; font-weight: bold\">3</span>. Show example questions\n",
              "</pre>\n"
            ]
          },
          "metadata": {}
        },
        {
          "output_type": "display_data",
          "data": {
            "text/plain": [
              "\u001b[1;36m4\u001b[0m. Exit\n"
            ],
            "text/html": [
              "<pre style=\"white-space:pre;overflow-x:auto;line-height:normal;font-family:Menlo,'DejaVu Sans Mono',consolas,'Courier New',monospace\"><span style=\"color: #008080; text-decoration-color: #008080; font-weight: bold\">4</span>. Exit\n",
              "</pre>\n"
            ]
          },
          "metadata": {}
        },
        {
          "output_type": "display_data",
          "data": {
            "text/plain": [
              "Enter your choice \u001b[1;35m[1/2/3/4]\u001b[0m: "
            ],
            "text/html": [
              "<pre style=\"white-space:pre;overflow-x:auto;line-height:normal;font-family:Menlo,'DejaVu Sans Mono',consolas,'Courier New',monospace\">Enter your choice <span style=\"color: #800080; text-decoration-color: #800080; font-weight: bold\">[1/2/3/4]</span>: </pre>\n"
            ]
          },
          "metadata": {}
        },
        {
          "output_type": "error",
          "ename": "KeyboardInterrupt",
          "evalue": "Interrupted by user",
          "traceback": [
            "\u001b[0;31m---------------------------------------------------------------------------\u001b[0m",
            "\u001b[0;31mKeyboardInterrupt\u001b[0m                         Traceback (most recent call last)",
            "\u001b[0;32m<ipython-input-61-ebacfcf61bf0>\u001b[0m in \u001b[0;36m<cell line: 0>\u001b[0;34m()\u001b[0m\n\u001b[1;32m    757\u001b[0m \u001b[0;34m\u001b[0m\u001b[0m\n\u001b[1;32m    758\u001b[0m \u001b[0;32mif\u001b[0m \u001b[0m__name__\u001b[0m \u001b[0;34m==\u001b[0m \u001b[0;34m\"__main__\"\u001b[0m\u001b[0;34m:\u001b[0m\u001b[0;34m\u001b[0m\u001b[0;34m\u001b[0m\u001b[0m\n\u001b[0;32m--> 759\u001b[0;31m     \u001b[0mmain\u001b[0m\u001b[0;34m(\u001b[0m\u001b[0;34m)\u001b[0m\u001b[0;34m\u001b[0m\u001b[0;34m\u001b[0m\u001b[0m\n\u001b[0m",
            "\u001b[0;32m<ipython-input-61-ebacfcf61bf0>\u001b[0m in \u001b[0;36mmain\u001b[0;34m()\u001b[0m\n\u001b[1;32m    754\u001b[0m \u001b[0;34m\u001b[0m\u001b[0m\n\u001b[1;32m    755\u001b[0m     \u001b[0;31m# Run the CLI interface\u001b[0m\u001b[0;34m\u001b[0m\u001b[0;34m\u001b[0m\u001b[0m\n\u001b[0;32m--> 756\u001b[0;31m     \u001b[0mrun_fda_advisor_cli\u001b[0m\u001b[0;34m(\u001b[0m\u001b[0mjson_data\u001b[0m\u001b[0;34m)\u001b[0m\u001b[0;34m\u001b[0m\u001b[0;34m\u001b[0m\u001b[0m\n\u001b[0m\u001b[1;32m    757\u001b[0m \u001b[0;34m\u001b[0m\u001b[0m\n\u001b[1;32m    758\u001b[0m \u001b[0;32mif\u001b[0m \u001b[0m__name__\u001b[0m \u001b[0;34m==\u001b[0m \u001b[0;34m\"__main__\"\u001b[0m\u001b[0;34m:\u001b[0m\u001b[0;34m\u001b[0m\u001b[0;34m\u001b[0m\u001b[0m\n",
            "\u001b[0;32m<ipython-input-61-ebacfcf61bf0>\u001b[0m in \u001b[0;36mrun_fda_advisor_cli\u001b[0;34m(json_data)\u001b[0m\n\u001b[1;32m    691\u001b[0m         \u001b[0mconsole\u001b[0m\u001b[0;34m.\u001b[0m\u001b[0mprint\u001b[0m\u001b[0;34m(\u001b[0m\u001b[0;34m\"4. Exit\"\u001b[0m\u001b[0;34m)\u001b[0m\u001b[0;34m\u001b[0m\u001b[0;34m\u001b[0m\u001b[0m\n\u001b[1;32m    692\u001b[0m \u001b[0;34m\u001b[0m\u001b[0m\n\u001b[0;32m--> 693\u001b[0;31m         \u001b[0mchoice\u001b[0m \u001b[0;34m=\u001b[0m \u001b[0mPrompt\u001b[0m\u001b[0;34m.\u001b[0m\u001b[0mask\u001b[0m\u001b[0;34m(\u001b[0m\u001b[0;34m\"Enter your choice\"\u001b[0m\u001b[0;34m,\u001b[0m \u001b[0mchoices\u001b[0m\u001b[0;34m=\u001b[0m\u001b[0;34m[\u001b[0m\u001b[0;34m\"1\"\u001b[0m\u001b[0;34m,\u001b[0m \u001b[0;34m\"2\"\u001b[0m\u001b[0;34m,\u001b[0m \u001b[0;34m\"3\"\u001b[0m\u001b[0;34m,\u001b[0m \u001b[0;34m\"4\"\u001b[0m\u001b[0;34m]\u001b[0m\u001b[0;34m)\u001b[0m\u001b[0;34m\u001b[0m\u001b[0;34m\u001b[0m\u001b[0m\n\u001b[0m\u001b[1;32m    694\u001b[0m \u001b[0;34m\u001b[0m\u001b[0m\n\u001b[1;32m    695\u001b[0m         \u001b[0;32mif\u001b[0m \u001b[0mchoice\u001b[0m \u001b[0;34m==\u001b[0m \u001b[0;34m\"1\"\u001b[0m\u001b[0;34m:\u001b[0m\u001b[0;34m\u001b[0m\u001b[0;34m\u001b[0m\u001b[0m\n",
            "\u001b[0;32m/usr/local/lib/python3.11/dist-packages/rich/prompt.py\u001b[0m in \u001b[0;36mask\u001b[0;34m(cls, prompt, console, password, choices, case_sensitive, show_default, show_choices, default, stream)\u001b[0m\n\u001b[1;32m    147\u001b[0m             \u001b[0mshow_choices\u001b[0m\u001b[0;34m=\u001b[0m\u001b[0mshow_choices\u001b[0m\u001b[0;34m,\u001b[0m\u001b[0;34m\u001b[0m\u001b[0;34m\u001b[0m\u001b[0m\n\u001b[1;32m    148\u001b[0m         )\n\u001b[0;32m--> 149\u001b[0;31m         \u001b[0;32mreturn\u001b[0m \u001b[0m_prompt\u001b[0m\u001b[0;34m(\u001b[0m\u001b[0mdefault\u001b[0m\u001b[0;34m=\u001b[0m\u001b[0mdefault\u001b[0m\u001b[0;34m,\u001b[0m \u001b[0mstream\u001b[0m\u001b[0;34m=\u001b[0m\u001b[0mstream\u001b[0m\u001b[0;34m)\u001b[0m\u001b[0;34m\u001b[0m\u001b[0;34m\u001b[0m\u001b[0m\n\u001b[0m\u001b[1;32m    150\u001b[0m \u001b[0;34m\u001b[0m\u001b[0m\n\u001b[1;32m    151\u001b[0m     \u001b[0;32mdef\u001b[0m \u001b[0mrender_default\u001b[0m\u001b[0;34m(\u001b[0m\u001b[0mself\u001b[0m\u001b[0;34m,\u001b[0m \u001b[0mdefault\u001b[0m\u001b[0;34m:\u001b[0m \u001b[0mDefaultType\u001b[0m\u001b[0;34m)\u001b[0m \u001b[0;34m->\u001b[0m \u001b[0mText\u001b[0m\u001b[0;34m:\u001b[0m\u001b[0;34m\u001b[0m\u001b[0;34m\u001b[0m\u001b[0m\n",
            "\u001b[0;32m/usr/local/lib/python3.11/dist-packages/rich/prompt.py\u001b[0m in \u001b[0;36m__call__\u001b[0;34m(self, default, stream)\u001b[0m\n\u001b[1;32m    290\u001b[0m             \u001b[0mself\u001b[0m\u001b[0;34m.\u001b[0m\u001b[0mpre_prompt\u001b[0m\u001b[0;34m(\u001b[0m\u001b[0;34m)\u001b[0m\u001b[0;34m\u001b[0m\u001b[0;34m\u001b[0m\u001b[0m\n\u001b[1;32m    291\u001b[0m             \u001b[0mprompt\u001b[0m \u001b[0;34m=\u001b[0m \u001b[0mself\u001b[0m\u001b[0;34m.\u001b[0m\u001b[0mmake_prompt\u001b[0m\u001b[0;34m(\u001b[0m\u001b[0mdefault\u001b[0m\u001b[0;34m)\u001b[0m\u001b[0;34m\u001b[0m\u001b[0;34m\u001b[0m\u001b[0m\n\u001b[0;32m--> 292\u001b[0;31m             \u001b[0mvalue\u001b[0m \u001b[0;34m=\u001b[0m \u001b[0mself\u001b[0m\u001b[0;34m.\u001b[0m\u001b[0mget_input\u001b[0m\u001b[0;34m(\u001b[0m\u001b[0mself\u001b[0m\u001b[0;34m.\u001b[0m\u001b[0mconsole\u001b[0m\u001b[0;34m,\u001b[0m \u001b[0mprompt\u001b[0m\u001b[0;34m,\u001b[0m \u001b[0mself\u001b[0m\u001b[0;34m.\u001b[0m\u001b[0mpassword\u001b[0m\u001b[0;34m,\u001b[0m \u001b[0mstream\u001b[0m\u001b[0;34m=\u001b[0m\u001b[0mstream\u001b[0m\u001b[0;34m)\u001b[0m\u001b[0;34m\u001b[0m\u001b[0;34m\u001b[0m\u001b[0m\n\u001b[0m\u001b[1;32m    293\u001b[0m             \u001b[0;32mif\u001b[0m \u001b[0mvalue\u001b[0m \u001b[0;34m==\u001b[0m \u001b[0;34m\"\"\u001b[0m \u001b[0;32mand\u001b[0m \u001b[0mdefault\u001b[0m \u001b[0;34m!=\u001b[0m \u001b[0;34m...\u001b[0m\u001b[0;34m:\u001b[0m\u001b[0;34m\u001b[0m\u001b[0;34m\u001b[0m\u001b[0m\n\u001b[1;32m    294\u001b[0m                 \u001b[0;32mreturn\u001b[0m \u001b[0mdefault\u001b[0m\u001b[0;34m\u001b[0m\u001b[0;34m\u001b[0m\u001b[0m\n",
            "\u001b[0;32m/usr/local/lib/python3.11/dist-packages/rich/prompt.py\u001b[0m in \u001b[0;36mget_input\u001b[0;34m(cls, console, prompt, password, stream)\u001b[0m\n\u001b[1;32m    209\u001b[0m             \u001b[0mstr\u001b[0m\u001b[0;34m:\u001b[0m \u001b[0mString\u001b[0m \u001b[0;32mfrom\u001b[0m \u001b[0muser\u001b[0m\u001b[0;34m.\u001b[0m\u001b[0;34m\u001b[0m\u001b[0;34m\u001b[0m\u001b[0m\n\u001b[1;32m    210\u001b[0m         \"\"\"\n\u001b[0;32m--> 211\u001b[0;31m         \u001b[0;32mreturn\u001b[0m \u001b[0mconsole\u001b[0m\u001b[0;34m.\u001b[0m\u001b[0minput\u001b[0m\u001b[0;34m(\u001b[0m\u001b[0mprompt\u001b[0m\u001b[0;34m,\u001b[0m \u001b[0mpassword\u001b[0m\u001b[0;34m=\u001b[0m\u001b[0mpassword\u001b[0m\u001b[0;34m,\u001b[0m \u001b[0mstream\u001b[0m\u001b[0;34m=\u001b[0m\u001b[0mstream\u001b[0m\u001b[0;34m)\u001b[0m\u001b[0;34m\u001b[0m\u001b[0;34m\u001b[0m\u001b[0m\n\u001b[0m\u001b[1;32m    212\u001b[0m \u001b[0;34m\u001b[0m\u001b[0m\n\u001b[1;32m    213\u001b[0m     \u001b[0;32mdef\u001b[0m \u001b[0mcheck_choice\u001b[0m\u001b[0;34m(\u001b[0m\u001b[0mself\u001b[0m\u001b[0;34m,\u001b[0m \u001b[0mvalue\u001b[0m\u001b[0;34m:\u001b[0m \u001b[0mstr\u001b[0m\u001b[0;34m)\u001b[0m \u001b[0;34m->\u001b[0m \u001b[0mbool\u001b[0m\u001b[0;34m:\u001b[0m\u001b[0;34m\u001b[0m\u001b[0;34m\u001b[0m\u001b[0m\n",
            "\u001b[0;32m/usr/local/lib/python3.11/dist-packages/rich/console.py\u001b[0m in \u001b[0;36minput\u001b[0;34m(self, prompt, markup, emoji, password, stream)\u001b[0m\n\u001b[1;32m   2149\u001b[0m                 \u001b[0mresult\u001b[0m \u001b[0;34m=\u001b[0m \u001b[0mstream\u001b[0m\u001b[0;34m.\u001b[0m\u001b[0mreadline\u001b[0m\u001b[0;34m(\u001b[0m\u001b[0;34m)\u001b[0m\u001b[0;34m\u001b[0m\u001b[0;34m\u001b[0m\u001b[0m\n\u001b[1;32m   2150\u001b[0m             \u001b[0;32melse\u001b[0m\u001b[0;34m:\u001b[0m\u001b[0;34m\u001b[0m\u001b[0;34m\u001b[0m\u001b[0m\n\u001b[0;32m-> 2151\u001b[0;31m                 \u001b[0mresult\u001b[0m \u001b[0;34m=\u001b[0m \u001b[0minput\u001b[0m\u001b[0;34m(\u001b[0m\u001b[0;34m)\u001b[0m\u001b[0;34m\u001b[0m\u001b[0;34m\u001b[0m\u001b[0m\n\u001b[0m\u001b[1;32m   2152\u001b[0m         \u001b[0;32mreturn\u001b[0m \u001b[0mresult\u001b[0m\u001b[0;34m\u001b[0m\u001b[0;34m\u001b[0m\u001b[0m\n\u001b[1;32m   2153\u001b[0m \u001b[0;34m\u001b[0m\u001b[0m\n",
            "\u001b[0;32m/usr/local/lib/python3.11/dist-packages/ipykernel/kernelbase.py\u001b[0m in \u001b[0;36mraw_input\u001b[0;34m(self, prompt)\u001b[0m\n\u001b[1;32m   1175\u001b[0m                 \u001b[0;34m\"raw_input was called, but this frontend does not support input requests.\"\u001b[0m\u001b[0;34m\u001b[0m\u001b[0;34m\u001b[0m\u001b[0m\n\u001b[1;32m   1176\u001b[0m             )\n\u001b[0;32m-> 1177\u001b[0;31m         return self._input_request(\n\u001b[0m\u001b[1;32m   1178\u001b[0m             \u001b[0mstr\u001b[0m\u001b[0;34m(\u001b[0m\u001b[0mprompt\u001b[0m\u001b[0;34m)\u001b[0m\u001b[0;34m,\u001b[0m\u001b[0;34m\u001b[0m\u001b[0;34m\u001b[0m\u001b[0m\n\u001b[1;32m   1179\u001b[0m             \u001b[0mself\u001b[0m\u001b[0;34m.\u001b[0m\u001b[0m_parent_ident\u001b[0m\u001b[0;34m[\u001b[0m\u001b[0;34m\"shell\"\u001b[0m\u001b[0;34m]\u001b[0m\u001b[0;34m,\u001b[0m\u001b[0;34m\u001b[0m\u001b[0;34m\u001b[0m\u001b[0m\n",
            "\u001b[0;32m/usr/local/lib/python3.11/dist-packages/ipykernel/kernelbase.py\u001b[0m in \u001b[0;36m_input_request\u001b[0;34m(self, prompt, ident, parent, password)\u001b[0m\n\u001b[1;32m   1217\u001b[0m             \u001b[0;32mexcept\u001b[0m \u001b[0mKeyboardInterrupt\u001b[0m\u001b[0;34m:\u001b[0m\u001b[0;34m\u001b[0m\u001b[0;34m\u001b[0m\u001b[0m\n\u001b[1;32m   1218\u001b[0m                 \u001b[0;31m# re-raise KeyboardInterrupt, to truncate traceback\u001b[0m\u001b[0;34m\u001b[0m\u001b[0;34m\u001b[0m\u001b[0m\n\u001b[0;32m-> 1219\u001b[0;31m                 \u001b[0;32mraise\u001b[0m \u001b[0mKeyboardInterrupt\u001b[0m\u001b[0;34m(\u001b[0m\u001b[0;34m\"Interrupted by user\"\u001b[0m\u001b[0;34m)\u001b[0m \u001b[0;32mfrom\u001b[0m \u001b[0;32mNone\u001b[0m\u001b[0;34m\u001b[0m\u001b[0;34m\u001b[0m\u001b[0m\n\u001b[0m\u001b[1;32m   1220\u001b[0m             \u001b[0;32mexcept\u001b[0m \u001b[0mException\u001b[0m\u001b[0;34m:\u001b[0m\u001b[0;34m\u001b[0m\u001b[0;34m\u001b[0m\u001b[0m\n\u001b[1;32m   1221\u001b[0m                 \u001b[0mself\u001b[0m\u001b[0;34m.\u001b[0m\u001b[0mlog\u001b[0m\u001b[0;34m.\u001b[0m\u001b[0mwarning\u001b[0m\u001b[0;34m(\u001b[0m\u001b[0;34m\"Invalid Message:\"\u001b[0m\u001b[0;34m,\u001b[0m \u001b[0mexc_info\u001b[0m\u001b[0;34m=\u001b[0m\u001b[0;32mTrue\u001b[0m\u001b[0;34m)\u001b[0m\u001b[0;34m\u001b[0m\u001b[0;34m\u001b[0m\u001b[0m\n",
            "\u001b[0;31mKeyboardInterrupt\u001b[0m: Interrupted by user"
          ]
        }
      ]
    },
    {
      "cell_type": "code",
      "source": [],
      "metadata": {
        "id": "vffSf45d0s4t"
      },
      "execution_count": null,
      "outputs": []
    }
  ]
}